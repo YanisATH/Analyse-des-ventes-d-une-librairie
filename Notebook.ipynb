{
 "cells": [
  {
   "cell_type": "code",
   "execution_count": 1,
   "id": "601d6573",
   "metadata": {},
   "outputs": [],
   "source": [
    "import numpy as np\n",
    "import pandas as pd\n",
    "import matplotlib.pyplot as plt\n",
    "import seaborn as sns\n",
    "import datetime as dt\n",
    "from datetime import date\n",
    "from scipy import stats\n",
    "#pip install researchpy\n",
    "import researchpy as rp\n",
    "from scipy.stats import shapiro\n",
    "from scipy.stats import f\n",
    "import scipy.stats as stats\n",
    "from scipy.stats import kstest\n",
    "from scipy.stats import bartlett\n",
    "from statsmodels.formula.api import ols\n",
    "import statsmodels.api as sm\n",
    "import math"
   ]
  },
  {
   "cell_type": "markdown",
   "id": "0539405d",
   "metadata": {},
   "source": [
    "# Partie 1 : Vue générale et nettoyage des fichiers"
   ]
  },
  {
   "cell_type": "markdown",
   "id": "1509931f",
   "metadata": {},
   "source": [
    "## 1.1 Vue générale et nettoyage du fichier Customers"
   ]
  },
  {
   "cell_type": "markdown",
   "id": "e40eeb07",
   "metadata": {},
   "source": [
    "### Analyse du fichier"
   ]
  },
  {
   "cell_type": "code",
   "execution_count": 2,
   "id": "9d8bc7b7",
   "metadata": {},
   "outputs": [],
   "source": [
    "#Ouverture du fichier customers\n",
    "customers=pd.read_csv(\"customers.csv\")"
   ]
  },
  {
   "cell_type": "code",
   "execution_count": 3,
   "id": "4d04a311",
   "metadata": {},
   "outputs": [
    {
     "data": {
      "text/html": [
       "<div>\n",
       "<style scoped>\n",
       "    .dataframe tbody tr th:only-of-type {\n",
       "        vertical-align: middle;\n",
       "    }\n",
       "\n",
       "    .dataframe tbody tr th {\n",
       "        vertical-align: top;\n",
       "    }\n",
       "\n",
       "    .dataframe thead th {\n",
       "        text-align: right;\n",
       "    }\n",
       "</style>\n",
       "<table border=\"1\" class=\"dataframe\">\n",
       "  <thead>\n",
       "    <tr style=\"text-align: right;\">\n",
       "      <th></th>\n",
       "      <th>client_id</th>\n",
       "      <th>sex</th>\n",
       "      <th>birth</th>\n",
       "    </tr>\n",
       "  </thead>\n",
       "  <tbody>\n",
       "    <tr>\n",
       "      <th>0</th>\n",
       "      <td>c_4410</td>\n",
       "      <td>f</td>\n",
       "      <td>1967</td>\n",
       "    </tr>\n",
       "    <tr>\n",
       "      <th>1</th>\n",
       "      <td>c_7839</td>\n",
       "      <td>f</td>\n",
       "      <td>1975</td>\n",
       "    </tr>\n",
       "    <tr>\n",
       "      <th>2</th>\n",
       "      <td>c_1699</td>\n",
       "      <td>f</td>\n",
       "      <td>1984</td>\n",
       "    </tr>\n",
       "    <tr>\n",
       "      <th>3</th>\n",
       "      <td>c_5961</td>\n",
       "      <td>f</td>\n",
       "      <td>1962</td>\n",
       "    </tr>\n",
       "    <tr>\n",
       "      <th>4</th>\n",
       "      <td>c_5320</td>\n",
       "      <td>m</td>\n",
       "      <td>1943</td>\n",
       "    </tr>\n",
       "  </tbody>\n",
       "</table>\n",
       "</div>"
      ],
      "text/plain": [
       "  client_id sex  birth\n",
       "0    c_4410   f   1967\n",
       "1    c_7839   f   1975\n",
       "2    c_1699   f   1984\n",
       "3    c_5961   f   1962\n",
       "4    c_5320   m   1943"
      ]
     },
     "execution_count": 3,
     "metadata": {},
     "output_type": "execute_result"
    }
   ],
   "source": [
    "#On affiche une partie du dataframe du fichier customers\n",
    "customers.head()"
   ]
  },
  {
   "cell_type": "code",
   "execution_count": 4,
   "id": "6eb840ed",
   "metadata": {},
   "outputs": [
    {
     "name": "stdout",
     "output_type": "stream",
     "text": [
      "<class 'pandas.core.frame.DataFrame'>\n",
      "RangeIndex: 8623 entries, 0 to 8622\n",
      "Data columns (total 3 columns):\n",
      " #   Column     Non-Null Count  Dtype \n",
      "---  ------     --------------  ----- \n",
      " 0   client_id  8623 non-null   object\n",
      " 1   sex        8623 non-null   object\n",
      " 2   birth      8623 non-null   int64 \n",
      "dtypes: int64(1), object(2)\n",
      "memory usage: 202.2+ KB\n"
     ]
    }
   ],
   "source": [
    "#On affiche les infos de customers\n",
    "customers.info()"
   ]
  },
  {
   "cell_type": "code",
   "execution_count": 5,
   "id": "521b61ab",
   "metadata": {},
   "outputs": [
    {
     "data": {
      "text/html": [
       "<div>\n",
       "<style scoped>\n",
       "    .dataframe tbody tr th:only-of-type {\n",
       "        vertical-align: middle;\n",
       "    }\n",
       "\n",
       "    .dataframe tbody tr th {\n",
       "        vertical-align: top;\n",
       "    }\n",
       "\n",
       "    .dataframe thead th {\n",
       "        text-align: right;\n",
       "    }\n",
       "</style>\n",
       "<table border=\"1\" class=\"dataframe\">\n",
       "  <thead>\n",
       "    <tr style=\"text-align: right;\">\n",
       "      <th></th>\n",
       "      <th>client_id</th>\n",
       "      <th>sex</th>\n",
       "      <th>birth</th>\n",
       "    </tr>\n",
       "  </thead>\n",
       "  <tbody>\n",
       "    <tr>\n",
       "      <th>count</th>\n",
       "      <td>8623</td>\n",
       "      <td>8623</td>\n",
       "      <td>8623.000000</td>\n",
       "    </tr>\n",
       "    <tr>\n",
       "      <th>unique</th>\n",
       "      <td>8623</td>\n",
       "      <td>2</td>\n",
       "      <td>NaN</td>\n",
       "    </tr>\n",
       "    <tr>\n",
       "      <th>top</th>\n",
       "      <td>c_4410</td>\n",
       "      <td>f</td>\n",
       "      <td>NaN</td>\n",
       "    </tr>\n",
       "    <tr>\n",
       "      <th>freq</th>\n",
       "      <td>1</td>\n",
       "      <td>4491</td>\n",
       "      <td>NaN</td>\n",
       "    </tr>\n",
       "    <tr>\n",
       "      <th>mean</th>\n",
       "      <td>NaN</td>\n",
       "      <td>NaN</td>\n",
       "      <td>1978.280877</td>\n",
       "    </tr>\n",
       "    <tr>\n",
       "      <th>std</th>\n",
       "      <td>NaN</td>\n",
       "      <td>NaN</td>\n",
       "      <td>16.919535</td>\n",
       "    </tr>\n",
       "    <tr>\n",
       "      <th>min</th>\n",
       "      <td>NaN</td>\n",
       "      <td>NaN</td>\n",
       "      <td>1929.000000</td>\n",
       "    </tr>\n",
       "    <tr>\n",
       "      <th>25%</th>\n",
       "      <td>NaN</td>\n",
       "      <td>NaN</td>\n",
       "      <td>1966.000000</td>\n",
       "    </tr>\n",
       "    <tr>\n",
       "      <th>50%</th>\n",
       "      <td>NaN</td>\n",
       "      <td>NaN</td>\n",
       "      <td>1979.000000</td>\n",
       "    </tr>\n",
       "    <tr>\n",
       "      <th>75%</th>\n",
       "      <td>NaN</td>\n",
       "      <td>NaN</td>\n",
       "      <td>1992.000000</td>\n",
       "    </tr>\n",
       "    <tr>\n",
       "      <th>max</th>\n",
       "      <td>NaN</td>\n",
       "      <td>NaN</td>\n",
       "      <td>2004.000000</td>\n",
       "    </tr>\n",
       "  </tbody>\n",
       "</table>\n",
       "</div>"
      ],
      "text/plain": [
       "       client_id   sex        birth\n",
       "count       8623  8623  8623.000000\n",
       "unique      8623     2          NaN\n",
       "top       c_4410     f          NaN\n",
       "freq           1  4491          NaN\n",
       "mean         NaN   NaN  1978.280877\n",
       "std          NaN   NaN    16.919535\n",
       "min          NaN   NaN  1929.000000\n",
       "25%          NaN   NaN  1966.000000\n",
       "50%          NaN   NaN  1979.000000\n",
       "75%          NaN   NaN  1992.000000\n",
       "max          NaN   NaN  2004.000000"
      ]
     },
     "execution_count": 5,
     "metadata": {},
     "output_type": "execute_result"
    }
   ],
   "source": [
    "#Affichage des stats générales de customers\n",
    "customers.describe(include = 'all')"
   ]
  },
  {
   "cell_type": "markdown",
   "id": "67261345",
   "metadata": {},
   "source": [
    "## On va ajouter une colonne qui va nous donner l'âge des clients"
   ]
  },
  {
   "cell_type": "code",
   "execution_count": 6,
   "id": "c44aaadf",
   "metadata": {},
   "outputs": [
    {
     "data": {
      "text/html": [
       "<div>\n",
       "<style scoped>\n",
       "    .dataframe tbody tr th:only-of-type {\n",
       "        vertical-align: middle;\n",
       "    }\n",
       "\n",
       "    .dataframe tbody tr th {\n",
       "        vertical-align: top;\n",
       "    }\n",
       "\n",
       "    .dataframe thead th {\n",
       "        text-align: right;\n",
       "    }\n",
       "</style>\n",
       "<table border=\"1\" class=\"dataframe\">\n",
       "  <thead>\n",
       "    <tr style=\"text-align: right;\">\n",
       "      <th></th>\n",
       "      <th>client_id</th>\n",
       "      <th>sex</th>\n",
       "      <th>birth</th>\n",
       "      <th>age</th>\n",
       "    </tr>\n",
       "  </thead>\n",
       "  <tbody>\n",
       "    <tr>\n",
       "      <th>0</th>\n",
       "      <td>c_4410</td>\n",
       "      <td>f</td>\n",
       "      <td>1967</td>\n",
       "      <td>55</td>\n",
       "    </tr>\n",
       "    <tr>\n",
       "      <th>1</th>\n",
       "      <td>c_7839</td>\n",
       "      <td>f</td>\n",
       "      <td>1975</td>\n",
       "      <td>47</td>\n",
       "    </tr>\n",
       "    <tr>\n",
       "      <th>2</th>\n",
       "      <td>c_1699</td>\n",
       "      <td>f</td>\n",
       "      <td>1984</td>\n",
       "      <td>38</td>\n",
       "    </tr>\n",
       "    <tr>\n",
       "      <th>3</th>\n",
       "      <td>c_5961</td>\n",
       "      <td>f</td>\n",
       "      <td>1962</td>\n",
       "      <td>60</td>\n",
       "    </tr>\n",
       "    <tr>\n",
       "      <th>4</th>\n",
       "      <td>c_5320</td>\n",
       "      <td>m</td>\n",
       "      <td>1943</td>\n",
       "      <td>79</td>\n",
       "    </tr>\n",
       "  </tbody>\n",
       "</table>\n",
       "</div>"
      ],
      "text/plain": [
       "  client_id sex  birth  age\n",
       "0    c_4410   f   1967   55\n",
       "1    c_7839   f   1975   47\n",
       "2    c_1699   f   1984   38\n",
       "3    c_5961   f   1962   60\n",
       "4    c_5320   m   1943   79"
      ]
     },
     "execution_count": 6,
     "metadata": {},
     "output_type": "execute_result"
    }
   ],
   "source": [
    "#Ajout de la colonne age \n",
    "customers['age'] = date.today().year - customers['birth']\n",
    "customers.head()"
   ]
  },
  {
   "cell_type": "code",
   "execution_count": 7,
   "id": "23ae2893",
   "metadata": {},
   "outputs": [
    {
     "data": {
      "text/plain": [
       "count    8623.000000\n",
       "mean       43.719123\n",
       "std        16.919535\n",
       "min        18.000000\n",
       "25%        30.000000\n",
       "50%        43.000000\n",
       "75%        56.000000\n",
       "max        93.000000\n",
       "Name: age, dtype: float64"
      ]
     },
     "execution_count": 7,
     "metadata": {},
     "output_type": "execute_result"
    }
   ],
   "source": [
    "#On affiche les stats de l'âge des clients du fichier customers\n",
    "customers['age'].describe()"
   ]
  },
  {
   "cell_type": "markdown",
   "id": "f9464de3",
   "metadata": {},
   "source": [
    "### Les clients ont entre 18 et 93 ans et ont en moyenne 43 ans"
   ]
  },
  {
   "cell_type": "markdown",
   "id": "f0ec3e98",
   "metadata": {},
   "source": [
    "### Nettoyage Customers\n",
    "### On va chercher et vérifier: \n",
    "### -Les NaN \n",
    "### -Les doublons \n",
    "### -Les noms des colonnes"
   ]
  },
  {
   "cell_type": "code",
   "execution_count": 8,
   "id": "ca704599",
   "metadata": {},
   "outputs": [
    {
     "data": {
      "text/plain": [
       "client_id    0\n",
       "sex          0\n",
       "birth        0\n",
       "age          0\n",
       "dtype: int64"
      ]
     },
     "execution_count": 8,
     "metadata": {},
     "output_type": "execute_result"
    }
   ],
   "source": [
    "# Recherche des valeurs manquantes\n",
    "customers.isnull().sum()"
   ]
  },
  {
   "cell_type": "code",
   "execution_count": 9,
   "id": "b4345004",
   "metadata": {},
   "outputs": [
    {
     "data": {
      "text/plain": [
       "0"
      ]
     },
     "execution_count": 9,
     "metadata": {},
     "output_type": "execute_result"
    }
   ],
   "source": [
    "#On affiche la somme des doublons des clients s'il en existe\n",
    "customers.duplicated('client_id').sum()"
   ]
  },
  {
   "cell_type": "markdown",
   "id": "9358a53f",
   "metadata": {},
   "source": [
    "#### client_id n'a pas de doublon"
   ]
  },
  {
   "cell_type": "markdown",
   "id": "39e7ad60",
   "metadata": {},
   "source": [
    "## 1.2 Analyse et nettoyage du fichier products"
   ]
  },
  {
   "cell_type": "code",
   "execution_count": 10,
   "id": "047e5b75",
   "metadata": {},
   "outputs": [],
   "source": [
    "#Ouverture du fichier products.csv\n",
    "products=pd.read_csv(\"products.csv\")"
   ]
  },
  {
   "cell_type": "code",
   "execution_count": 11,
   "id": "d9eb2a70",
   "metadata": {},
   "outputs": [
    {
     "data": {
      "text/html": [
       "<div>\n",
       "<style scoped>\n",
       "    .dataframe tbody tr th:only-of-type {\n",
       "        vertical-align: middle;\n",
       "    }\n",
       "\n",
       "    .dataframe tbody tr th {\n",
       "        vertical-align: top;\n",
       "    }\n",
       "\n",
       "    .dataframe thead th {\n",
       "        text-align: right;\n",
       "    }\n",
       "</style>\n",
       "<table border=\"1\" class=\"dataframe\">\n",
       "  <thead>\n",
       "    <tr style=\"text-align: right;\">\n",
       "      <th></th>\n",
       "      <th>id_prod</th>\n",
       "      <th>price</th>\n",
       "      <th>categ</th>\n",
       "    </tr>\n",
       "  </thead>\n",
       "  <tbody>\n",
       "    <tr>\n",
       "      <th>0</th>\n",
       "      <td>0_1421</td>\n",
       "      <td>19.99</td>\n",
       "      <td>0</td>\n",
       "    </tr>\n",
       "    <tr>\n",
       "      <th>1</th>\n",
       "      <td>0_1368</td>\n",
       "      <td>5.13</td>\n",
       "      <td>0</td>\n",
       "    </tr>\n",
       "    <tr>\n",
       "      <th>2</th>\n",
       "      <td>0_731</td>\n",
       "      <td>17.99</td>\n",
       "      <td>0</td>\n",
       "    </tr>\n",
       "    <tr>\n",
       "      <th>3</th>\n",
       "      <td>1_587</td>\n",
       "      <td>4.99</td>\n",
       "      <td>1</td>\n",
       "    </tr>\n",
       "    <tr>\n",
       "      <th>4</th>\n",
       "      <td>0_1507</td>\n",
       "      <td>3.99</td>\n",
       "      <td>0</td>\n",
       "    </tr>\n",
       "  </tbody>\n",
       "</table>\n",
       "</div>"
      ],
      "text/plain": [
       "  id_prod  price  categ\n",
       "0  0_1421  19.99      0\n",
       "1  0_1368   5.13      0\n",
       "2   0_731  17.99      0\n",
       "3   1_587   4.99      1\n",
       "4  0_1507   3.99      0"
      ]
     },
     "execution_count": 11,
     "metadata": {},
     "output_type": "execute_result"
    }
   ],
   "source": [
    "#On affiche un morceau de products\n",
    "products.head()"
   ]
  },
  {
   "cell_type": "code",
   "execution_count": 12,
   "id": "f4cfedff",
   "metadata": {},
   "outputs": [
    {
     "name": "stdout",
     "output_type": "stream",
     "text": [
      "<class 'pandas.core.frame.DataFrame'>\n",
      "RangeIndex: 3287 entries, 0 to 3286\n",
      "Data columns (total 3 columns):\n",
      " #   Column   Non-Null Count  Dtype  \n",
      "---  ------   --------------  -----  \n",
      " 0   id_prod  3287 non-null   object \n",
      " 1   price    3287 non-null   float64\n",
      " 2   categ    3287 non-null   int64  \n",
      "dtypes: float64(1), int64(1), object(1)\n",
      "memory usage: 77.2+ KB\n"
     ]
    }
   ],
   "source": [
    "#On affiche les infos de products\n",
    "products.info()"
   ]
  },
  {
   "cell_type": "code",
   "execution_count": 13,
   "id": "406efcef",
   "metadata": {},
   "outputs": [
    {
     "data": {
      "text/html": [
       "<div>\n",
       "<style scoped>\n",
       "    .dataframe tbody tr th:only-of-type {\n",
       "        vertical-align: middle;\n",
       "    }\n",
       "\n",
       "    .dataframe tbody tr th {\n",
       "        vertical-align: top;\n",
       "    }\n",
       "\n",
       "    .dataframe thead th {\n",
       "        text-align: right;\n",
       "    }\n",
       "</style>\n",
       "<table border=\"1\" class=\"dataframe\">\n",
       "  <thead>\n",
       "    <tr style=\"text-align: right;\">\n",
       "      <th></th>\n",
       "      <th>price</th>\n",
       "      <th>categ</th>\n",
       "    </tr>\n",
       "  </thead>\n",
       "  <tbody>\n",
       "    <tr>\n",
       "      <th>count</th>\n",
       "      <td>3287.000000</td>\n",
       "      <td>3287.000000</td>\n",
       "    </tr>\n",
       "    <tr>\n",
       "      <th>mean</th>\n",
       "      <td>21.856641</td>\n",
       "      <td>0.370246</td>\n",
       "    </tr>\n",
       "    <tr>\n",
       "      <th>std</th>\n",
       "      <td>29.847908</td>\n",
       "      <td>0.615387</td>\n",
       "    </tr>\n",
       "    <tr>\n",
       "      <th>min</th>\n",
       "      <td>-1.000000</td>\n",
       "      <td>0.000000</td>\n",
       "    </tr>\n",
       "    <tr>\n",
       "      <th>25%</th>\n",
       "      <td>6.990000</td>\n",
       "      <td>0.000000</td>\n",
       "    </tr>\n",
       "    <tr>\n",
       "      <th>50%</th>\n",
       "      <td>13.060000</td>\n",
       "      <td>0.000000</td>\n",
       "    </tr>\n",
       "    <tr>\n",
       "      <th>75%</th>\n",
       "      <td>22.990000</td>\n",
       "      <td>1.000000</td>\n",
       "    </tr>\n",
       "    <tr>\n",
       "      <th>max</th>\n",
       "      <td>300.000000</td>\n",
       "      <td>2.000000</td>\n",
       "    </tr>\n",
       "  </tbody>\n",
       "</table>\n",
       "</div>"
      ],
      "text/plain": [
       "             price        categ\n",
       "count  3287.000000  3287.000000\n",
       "mean     21.856641     0.370246\n",
       "std      29.847908     0.615387\n",
       "min      -1.000000     0.000000\n",
       "25%       6.990000     0.000000\n",
       "50%      13.060000     0.000000\n",
       "75%      22.990000     1.000000\n",
       "max     300.000000     2.000000"
      ]
     },
     "execution_count": 13,
     "metadata": {},
     "output_type": "execute_result"
    }
   ],
   "source": [
    "#On affiche les stats de products\n",
    "products.describe()"
   ]
  },
  {
   "cell_type": "markdown",
   "id": "1f916795",
   "metadata": {},
   "source": [
    "### Nettoyage products\n",
    "### On va chercher et vérifier: \n",
    "### -Les NaN \n",
    "### -Les doublons \n",
    "### -Les noms des colonnes"
   ]
  },
  {
   "cell_type": "code",
   "execution_count": 14,
   "id": "f473444d",
   "metadata": {},
   "outputs": [
    {
     "data": {
      "text/plain": [
       "id_prod    0\n",
       "price      0\n",
       "categ      0\n",
       "dtype: int64"
      ]
     },
     "execution_count": 14,
     "metadata": {},
     "output_type": "execute_result"
    }
   ],
   "source": [
    "# Recherche des valeurs manquantes\n",
    "products.isnull().sum()"
   ]
  },
  {
   "cell_type": "code",
   "execution_count": 15,
   "id": "291e20aa",
   "metadata": {},
   "outputs": [
    {
     "data": {
      "text/plain": [
       "0"
      ]
     },
     "execution_count": 15,
     "metadata": {},
     "output_type": "execute_result"
    }
   ],
   "source": [
    "#On affiche la somme des doublons des clients s'il en existe\n",
    "products.duplicated('id_prod').sum()"
   ]
  },
  {
   "cell_type": "markdown",
   "id": "299e3c39",
   "metadata": {},
   "source": [
    "#### id_prod n'a pas de doublon"
   ]
  },
  {
   "cell_type": "markdown",
   "id": "81e6fa37",
   "metadata": {},
   "source": [
    "## 1.3 Analyse et nettoyage du fichier transactions"
   ]
  },
  {
   "cell_type": "code",
   "execution_count": 16,
   "id": "45cc40e9",
   "metadata": {},
   "outputs": [],
   "source": [
    "#Ouverture du fichier transactions.csv\n",
    "transactions=pd.read_csv(\"transactions.csv\")"
   ]
  },
  {
   "cell_type": "code",
   "execution_count": 17,
   "id": "17dab10e",
   "metadata": {},
   "outputs": [
    {
     "data": {
      "text/html": [
       "<div>\n",
       "<style scoped>\n",
       "    .dataframe tbody tr th:only-of-type {\n",
       "        vertical-align: middle;\n",
       "    }\n",
       "\n",
       "    .dataframe tbody tr th {\n",
       "        vertical-align: top;\n",
       "    }\n",
       "\n",
       "    .dataframe thead th {\n",
       "        text-align: right;\n",
       "    }\n",
       "</style>\n",
       "<table border=\"1\" class=\"dataframe\">\n",
       "  <thead>\n",
       "    <tr style=\"text-align: right;\">\n",
       "      <th></th>\n",
       "      <th>id_prod</th>\n",
       "      <th>date</th>\n",
       "      <th>session_id</th>\n",
       "      <th>client_id</th>\n",
       "    </tr>\n",
       "  </thead>\n",
       "  <tbody>\n",
       "    <tr>\n",
       "      <th>0</th>\n",
       "      <td>0_1518</td>\n",
       "      <td>2022-05-20 13:21:29.043970</td>\n",
       "      <td>s_211425</td>\n",
       "      <td>c_103</td>\n",
       "    </tr>\n",
       "    <tr>\n",
       "      <th>1</th>\n",
       "      <td>1_251</td>\n",
       "      <td>2022-02-02 07:55:19.149409</td>\n",
       "      <td>s_158752</td>\n",
       "      <td>c_8534</td>\n",
       "    </tr>\n",
       "    <tr>\n",
       "      <th>2</th>\n",
       "      <td>0_1277</td>\n",
       "      <td>2022-06-18 15:44:33.155329</td>\n",
       "      <td>s_225667</td>\n",
       "      <td>c_6714</td>\n",
       "    </tr>\n",
       "    <tr>\n",
       "      <th>3</th>\n",
       "      <td>2_209</td>\n",
       "      <td>2021-06-24 04:19:29.835891</td>\n",
       "      <td>s_52962</td>\n",
       "      <td>c_6941</td>\n",
       "    </tr>\n",
       "    <tr>\n",
       "      <th>4</th>\n",
       "      <td>0_1509</td>\n",
       "      <td>2023-01-11 08:22:08.194479</td>\n",
       "      <td>s_325227</td>\n",
       "      <td>c_4232</td>\n",
       "    </tr>\n",
       "  </tbody>\n",
       "</table>\n",
       "</div>"
      ],
      "text/plain": [
       "  id_prod                        date session_id client_id\n",
       "0  0_1518  2022-05-20 13:21:29.043970   s_211425     c_103\n",
       "1   1_251  2022-02-02 07:55:19.149409   s_158752    c_8534\n",
       "2  0_1277  2022-06-18 15:44:33.155329   s_225667    c_6714\n",
       "3   2_209  2021-06-24 04:19:29.835891    s_52962    c_6941\n",
       "4  0_1509  2023-01-11 08:22:08.194479   s_325227    c_4232"
      ]
     },
     "execution_count": 17,
     "metadata": {},
     "output_type": "execute_result"
    }
   ],
   "source": [
    "#On affiche le debut de transactions\n",
    "transactions.head()"
   ]
  },
  {
   "cell_type": "code",
   "execution_count": 18,
   "id": "54816a69",
   "metadata": {},
   "outputs": [
    {
     "name": "stdout",
     "output_type": "stream",
     "text": [
      "<class 'pandas.core.frame.DataFrame'>\n",
      "RangeIndex: 679532 entries, 0 to 679531\n",
      "Data columns (total 4 columns):\n",
      " #   Column      Non-Null Count   Dtype \n",
      "---  ------      --------------   ----- \n",
      " 0   id_prod     679532 non-null  object\n",
      " 1   date        679532 non-null  object\n",
      " 2   session_id  679532 non-null  object\n",
      " 3   client_id   679532 non-null  object\n",
      "dtypes: object(4)\n",
      "memory usage: 20.7+ MB\n"
     ]
    }
   ],
   "source": [
    "#On affiche les infos de transactions\n",
    "transactions.info()"
   ]
  },
  {
   "cell_type": "code",
   "execution_count": 19,
   "id": "6d5f50bc",
   "metadata": {},
   "outputs": [
    {
     "data": {
      "text/html": [
       "<div>\n",
       "<style scoped>\n",
       "    .dataframe tbody tr th:only-of-type {\n",
       "        vertical-align: middle;\n",
       "    }\n",
       "\n",
       "    .dataframe tbody tr th {\n",
       "        vertical-align: top;\n",
       "    }\n",
       "\n",
       "    .dataframe thead th {\n",
       "        text-align: right;\n",
       "    }\n",
       "</style>\n",
       "<table border=\"1\" class=\"dataframe\">\n",
       "  <thead>\n",
       "    <tr style=\"text-align: right;\">\n",
       "      <th></th>\n",
       "      <th>id_prod</th>\n",
       "      <th>date</th>\n",
       "      <th>session_id</th>\n",
       "      <th>client_id</th>\n",
       "    </tr>\n",
       "  </thead>\n",
       "  <tbody>\n",
       "    <tr>\n",
       "      <th>count</th>\n",
       "      <td>679532</td>\n",
       "      <td>679532</td>\n",
       "      <td>679532</td>\n",
       "      <td>679532</td>\n",
       "    </tr>\n",
       "    <tr>\n",
       "      <th>unique</th>\n",
       "      <td>3267</td>\n",
       "      <td>679371</td>\n",
       "      <td>342316</td>\n",
       "      <td>8602</td>\n",
       "    </tr>\n",
       "    <tr>\n",
       "      <th>top</th>\n",
       "      <td>1_369</td>\n",
       "      <td>test_2021-03-01 02:30:02.237413</td>\n",
       "      <td>s_0</td>\n",
       "      <td>c_1609</td>\n",
       "    </tr>\n",
       "    <tr>\n",
       "      <th>freq</th>\n",
       "      <td>2252</td>\n",
       "      <td>13</td>\n",
       "      <td>200</td>\n",
       "      <td>25488</td>\n",
       "    </tr>\n",
       "  </tbody>\n",
       "</table>\n",
       "</div>"
      ],
      "text/plain": [
       "       id_prod                             date session_id client_id\n",
       "count   679532                           679532     679532    679532\n",
       "unique    3267                           679371     342316      8602\n",
       "top      1_369  test_2021-03-01 02:30:02.237413        s_0    c_1609\n",
       "freq      2252                               13        200     25488"
      ]
     },
     "execution_count": 19,
     "metadata": {},
     "output_type": "execute_result"
    }
   ],
   "source": [
    "#On affiche les stats de transactions\n",
    "transactions.describe()"
   ]
  },
  {
   "cell_type": "markdown",
   "id": "364d437a",
   "metadata": {},
   "source": [
    "### Nettoyage transactions\n",
    "### On va chercher et vérifier: \n",
    "### -Les NaN \n",
    "### -Les doublons \n",
    "### -Les noms des colonnes"
   ]
  },
  {
   "cell_type": "code",
   "execution_count": 20,
   "id": "2ccf71ba",
   "metadata": {},
   "outputs": [
    {
     "data": {
      "text/plain": [
       "id_prod       0\n",
       "date          0\n",
       "session_id    0\n",
       "client_id     0\n",
       "dtype: int64"
      ]
     },
     "execution_count": 20,
     "metadata": {},
     "output_type": "execute_result"
    }
   ],
   "source": [
    "#On va calculer la somme des valeurs nulles s'il en existe\n",
    "transactions.isnull().sum()"
   ]
  },
  {
   "cell_type": "code",
   "execution_count": 21,
   "id": "d0c82dec",
   "metadata": {},
   "outputs": [
    {
     "data": {
      "text/plain": [
       "0"
      ]
     },
     "execution_count": 21,
     "metadata": {},
     "output_type": "execute_result"
    }
   ],
   "source": [
    "#On affiche la somme des doublons des transactions s'il en existe\n",
    "products.duplicated('id_prod').sum()"
   ]
  },
  {
   "cell_type": "markdown",
   "id": "a9e437b8",
   "metadata": {},
   "source": [
    "#### id_prod n'a pas de doublon"
   ]
  },
  {
   "cell_type": "markdown",
   "id": "a4535a66",
   "metadata": {},
   "source": [
    "# Partie 2 : Rapprochement entre les fichiers"
   ]
  },
  {
   "cell_type": "markdown",
   "id": "4340a369",
   "metadata": {},
   "source": [
    "## 2.1 Rapprochement entre le fichier transaction et le fichier produits"
   ]
  },
  {
   "cell_type": "markdown",
   "id": "3fb77035",
   "metadata": {},
   "source": [
    "### On va faire un premier rapporchement  entre le fichier de transaction et le fichier de produits sur la clé id_product afin d'avoir pour chaque session: les produits achetés, les prix, la catégorie et le client concerné"
   ]
  },
  {
   "cell_type": "code",
   "execution_count": 22,
   "id": "bc7f94d0",
   "metadata": {},
   "outputs": [],
   "source": [
    "#On effectue un left join afin d'obtenir tous les résultats du fichier product \n",
    "df_pt = pd.merge(products, transactions, how='left', on=['id_prod']) "
   ]
  },
  {
   "cell_type": "code",
   "execution_count": 23,
   "id": "c2fc6914",
   "metadata": {},
   "outputs": [
    {
     "data": {
      "text/html": [
       "<div>\n",
       "<style scoped>\n",
       "    .dataframe tbody tr th:only-of-type {\n",
       "        vertical-align: middle;\n",
       "    }\n",
       "\n",
       "    .dataframe tbody tr th {\n",
       "        vertical-align: top;\n",
       "    }\n",
       "\n",
       "    .dataframe thead th {\n",
       "        text-align: right;\n",
       "    }\n",
       "</style>\n",
       "<table border=\"1\" class=\"dataframe\">\n",
       "  <thead>\n",
       "    <tr style=\"text-align: right;\">\n",
       "      <th></th>\n",
       "      <th>id_prod</th>\n",
       "      <th>price</th>\n",
       "      <th>categ</th>\n",
       "      <th>date</th>\n",
       "      <th>session_id</th>\n",
       "      <th>client_id</th>\n",
       "    </tr>\n",
       "  </thead>\n",
       "  <tbody>\n",
       "    <tr>\n",
       "      <th>0</th>\n",
       "      <td>0_1421</td>\n",
       "      <td>19.99</td>\n",
       "      <td>0</td>\n",
       "      <td>2022-02-20 17:04:37.204937</td>\n",
       "      <td>s_168213</td>\n",
       "      <td>c_6389</td>\n",
       "    </tr>\n",
       "    <tr>\n",
       "      <th>1</th>\n",
       "      <td>0_1421</td>\n",
       "      <td>19.99</td>\n",
       "      <td>0</td>\n",
       "      <td>2022-11-19 03:42:20.707442</td>\n",
       "      <td>s_299590</td>\n",
       "      <td>c_8364</td>\n",
       "    </tr>\n",
       "    <tr>\n",
       "      <th>2</th>\n",
       "      <td>0_1421</td>\n",
       "      <td>19.99</td>\n",
       "      <td>0</td>\n",
       "      <td>2021-09-19 14:58:46.726179</td>\n",
       "      <td>s_92304</td>\n",
       "      <td>c_3544</td>\n",
       "    </tr>\n",
       "    <tr>\n",
       "      <th>3</th>\n",
       "      <td>0_1421</td>\n",
       "      <td>19.99</td>\n",
       "      <td>0</td>\n",
       "      <td>2023-01-11 16:04:24.367855</td>\n",
       "      <td>s_325369</td>\n",
       "      <td>c_1025</td>\n",
       "    </tr>\n",
       "    <tr>\n",
       "      <th>4</th>\n",
       "      <td>0_1421</td>\n",
       "      <td>19.99</td>\n",
       "      <td>0</td>\n",
       "      <td>2021-08-01 19:33:18.877168</td>\n",
       "      <td>s_70071</td>\n",
       "      <td>c_2298</td>\n",
       "    </tr>\n",
       "  </tbody>\n",
       "</table>\n",
       "</div>"
      ],
      "text/plain": [
       "  id_prod  price  categ                        date session_id client_id\n",
       "0  0_1421  19.99      0  2022-02-20 17:04:37.204937   s_168213    c_6389\n",
       "1  0_1421  19.99      0  2022-11-19 03:42:20.707442   s_299590    c_8364\n",
       "2  0_1421  19.99      0  2021-09-19 14:58:46.726179    s_92304    c_3544\n",
       "3  0_1421  19.99      0  2023-01-11 16:04:24.367855   s_325369    c_1025\n",
       "4  0_1421  19.99      0  2021-08-01 19:33:18.877168    s_70071    c_2298"
      ]
     },
     "execution_count": 23,
     "metadata": {},
     "output_type": "execute_result"
    }
   ],
   "source": [
    "#On affiche les infos du dataframe contenant la fusion entre products et transactions\n",
    "df_pt.head()"
   ]
  },
  {
   "cell_type": "code",
   "execution_count": 24,
   "id": "68fbb6bc",
   "metadata": {},
   "outputs": [],
   "source": [
    "#Puis on ajoute le fichier customers\n",
    "df_fusionne = pd.merge(customers, df_pt, on=['client_id']) "
   ]
  },
  {
   "cell_type": "code",
   "execution_count": 25,
   "id": "2079b8de",
   "metadata": {},
   "outputs": [
    {
     "data": {
      "text/html": [
       "<div>\n",
       "<style scoped>\n",
       "    .dataframe tbody tr th:only-of-type {\n",
       "        vertical-align: middle;\n",
       "    }\n",
       "\n",
       "    .dataframe tbody tr th {\n",
       "        vertical-align: top;\n",
       "    }\n",
       "\n",
       "    .dataframe thead th {\n",
       "        text-align: right;\n",
       "    }\n",
       "</style>\n",
       "<table border=\"1\" class=\"dataframe\">\n",
       "  <thead>\n",
       "    <tr style=\"text-align: right;\">\n",
       "      <th></th>\n",
       "      <th>client_id</th>\n",
       "      <th>sex</th>\n",
       "      <th>birth</th>\n",
       "      <th>age</th>\n",
       "      <th>id_prod</th>\n",
       "      <th>price</th>\n",
       "      <th>categ</th>\n",
       "      <th>date</th>\n",
       "      <th>session_id</th>\n",
       "    </tr>\n",
       "  </thead>\n",
       "  <tbody>\n",
       "    <tr>\n",
       "      <th>0</th>\n",
       "      <td>c_4410</td>\n",
       "      <td>f</td>\n",
       "      <td>1967</td>\n",
       "      <td>55</td>\n",
       "      <td>1_385</td>\n",
       "      <td>25.99</td>\n",
       "      <td>1</td>\n",
       "      <td>2021-03-22 01:40:22.782925</td>\n",
       "      <td>s_9707</td>\n",
       "    </tr>\n",
       "    <tr>\n",
       "      <th>1</th>\n",
       "      <td>c_4410</td>\n",
       "      <td>f</td>\n",
       "      <td>1967</td>\n",
       "      <td>55</td>\n",
       "      <td>1_385</td>\n",
       "      <td>25.99</td>\n",
       "      <td>1</td>\n",
       "      <td>2023-02-22 01:40:22.782925</td>\n",
       "      <td>s_345108</td>\n",
       "    </tr>\n",
       "    <tr>\n",
       "      <th>2</th>\n",
       "      <td>c_4410</td>\n",
       "      <td>f</td>\n",
       "      <td>1967</td>\n",
       "      <td>55</td>\n",
       "      <td>0_1110</td>\n",
       "      <td>4.71</td>\n",
       "      <td>0</td>\n",
       "      <td>2021-11-04 16:28:30.169021</td>\n",
       "      <td>s_114715</td>\n",
       "    </tr>\n",
       "    <tr>\n",
       "      <th>3</th>\n",
       "      <td>c_4410</td>\n",
       "      <td>f</td>\n",
       "      <td>1967</td>\n",
       "      <td>55</td>\n",
       "      <td>0_1111</td>\n",
       "      <td>19.99</td>\n",
       "      <td>0</td>\n",
       "      <td>2023-02-22 01:27:49.480137</td>\n",
       "      <td>s_345108</td>\n",
       "    </tr>\n",
       "    <tr>\n",
       "      <th>4</th>\n",
       "      <td>c_4410</td>\n",
       "      <td>f</td>\n",
       "      <td>1967</td>\n",
       "      <td>55</td>\n",
       "      <td>0_1111</td>\n",
       "      <td>19.99</td>\n",
       "      <td>0</td>\n",
       "      <td>2021-03-22 01:27:49.480137</td>\n",
       "      <td>s_9707</td>\n",
       "    </tr>\n",
       "  </tbody>\n",
       "</table>\n",
       "</div>"
      ],
      "text/plain": [
       "  client_id sex  birth  age id_prod  price  categ                        date  \\\n",
       "0    c_4410   f   1967   55   1_385  25.99      1  2021-03-22 01:40:22.782925   \n",
       "1    c_4410   f   1967   55   1_385  25.99      1  2023-02-22 01:40:22.782925   \n",
       "2    c_4410   f   1967   55  0_1110   4.71      0  2021-11-04 16:28:30.169021   \n",
       "3    c_4410   f   1967   55  0_1111  19.99      0  2023-02-22 01:27:49.480137   \n",
       "4    c_4410   f   1967   55  0_1111  19.99      0  2021-03-22 01:27:49.480137   \n",
       "\n",
       "  session_id  \n",
       "0     s_9707  \n",
       "1   s_345108  \n",
       "2   s_114715  \n",
       "3   s_345108  \n",
       "4     s_9707  "
      ]
     },
     "execution_count": 25,
     "metadata": {},
     "output_type": "execute_result"
    }
   ],
   "source": [
    "#On affiche le début du nouveau dataframe fusionné\n",
    "df_fusionne.head()"
   ]
  },
  {
   "cell_type": "code",
   "execution_count": 26,
   "id": "64bddc13",
   "metadata": {},
   "outputs": [
    {
     "data": {
      "text/html": [
       "<div>\n",
       "<style scoped>\n",
       "    .dataframe tbody tr th:only-of-type {\n",
       "        vertical-align: middle;\n",
       "    }\n",
       "\n",
       "    .dataframe tbody tr th {\n",
       "        vertical-align: top;\n",
       "    }\n",
       "\n",
       "    .dataframe thead th {\n",
       "        text-align: right;\n",
       "    }\n",
       "</style>\n",
       "<table border=\"1\" class=\"dataframe\">\n",
       "  <thead>\n",
       "    <tr style=\"text-align: right;\">\n",
       "      <th></th>\n",
       "      <th>birth</th>\n",
       "      <th>age</th>\n",
       "      <th>price</th>\n",
       "      <th>categ</th>\n",
       "    </tr>\n",
       "  </thead>\n",
       "  <tbody>\n",
       "    <tr>\n",
       "      <th>count</th>\n",
       "      <td>679311.000000</td>\n",
       "      <td>679311.000000</td>\n",
       "      <td>679311.000000</td>\n",
       "      <td>679311.000000</td>\n",
       "    </tr>\n",
       "    <tr>\n",
       "      <th>mean</th>\n",
       "      <td>1977.817976</td>\n",
       "      <td>44.182024</td>\n",
       "      <td>17.449340</td>\n",
       "      <td>0.441823</td>\n",
       "    </tr>\n",
       "    <tr>\n",
       "      <th>std</th>\n",
       "      <td>13.579191</td>\n",
       "      <td>13.579191</td>\n",
       "      <td>18.329034</td>\n",
       "      <td>0.595002</td>\n",
       "    </tr>\n",
       "    <tr>\n",
       "      <th>min</th>\n",
       "      <td>1929.000000</td>\n",
       "      <td>18.000000</td>\n",
       "      <td>-1.000000</td>\n",
       "      <td>0.000000</td>\n",
       "    </tr>\n",
       "    <tr>\n",
       "      <th>25%</th>\n",
       "      <td>1970.000000</td>\n",
       "      <td>35.000000</td>\n",
       "      <td>8.820000</td>\n",
       "      <td>0.000000</td>\n",
       "    </tr>\n",
       "    <tr>\n",
       "      <th>50%</th>\n",
       "      <td>1980.000000</td>\n",
       "      <td>42.000000</td>\n",
       "      <td>13.990000</td>\n",
       "      <td>0.000000</td>\n",
       "    </tr>\n",
       "    <tr>\n",
       "      <th>75%</th>\n",
       "      <td>1987.000000</td>\n",
       "      <td>52.000000</td>\n",
       "      <td>18.990000</td>\n",
       "      <td>1.000000</td>\n",
       "    </tr>\n",
       "    <tr>\n",
       "      <th>max</th>\n",
       "      <td>2004.000000</td>\n",
       "      <td>93.000000</td>\n",
       "      <td>300.000000</td>\n",
       "      <td>2.000000</td>\n",
       "    </tr>\n",
       "  </tbody>\n",
       "</table>\n",
       "</div>"
      ],
      "text/plain": [
       "               birth            age          price          categ\n",
       "count  679311.000000  679311.000000  679311.000000  679311.000000\n",
       "mean     1977.817976      44.182024      17.449340       0.441823\n",
       "std        13.579191      13.579191      18.329034       0.595002\n",
       "min      1929.000000      18.000000      -1.000000       0.000000\n",
       "25%      1970.000000      35.000000       8.820000       0.000000\n",
       "50%      1980.000000      42.000000      13.990000       0.000000\n",
       "75%      1987.000000      52.000000      18.990000       1.000000\n",
       "max      2004.000000      93.000000     300.000000       2.000000"
      ]
     },
     "execution_count": 26,
     "metadata": {},
     "output_type": "execute_result"
    }
   ],
   "source": [
    "df_fusionne.describe()"
   ]
  },
  {
   "cell_type": "markdown",
   "id": "251b1cca",
   "metadata": {},
   "source": [
    "### Allons voir de plus près le prix negatif (min)"
   ]
  },
  {
   "cell_type": "code",
   "execution_count": 27,
   "id": "f15941aa",
   "metadata": {},
   "outputs": [
    {
     "data": {
      "text/html": [
       "<div>\n",
       "<style scoped>\n",
       "    .dataframe tbody tr th:only-of-type {\n",
       "        vertical-align: middle;\n",
       "    }\n",
       "\n",
       "    .dataframe tbody tr th {\n",
       "        vertical-align: top;\n",
       "    }\n",
       "\n",
       "    .dataframe thead th {\n",
       "        text-align: right;\n",
       "    }\n",
       "</style>\n",
       "<table border=\"1\" class=\"dataframe\">\n",
       "  <thead>\n",
       "    <tr style=\"text-align: right;\">\n",
       "      <th></th>\n",
       "      <th>client_id</th>\n",
       "      <th>sex</th>\n",
       "      <th>birth</th>\n",
       "      <th>age</th>\n",
       "      <th>id_prod</th>\n",
       "      <th>price</th>\n",
       "      <th>categ</th>\n",
       "      <th>date</th>\n",
       "      <th>session_id</th>\n",
       "    </tr>\n",
       "  </thead>\n",
       "  <tbody>\n",
       "    <tr>\n",
       "      <th>218100</th>\n",
       "      <td>ct_0</td>\n",
       "      <td>f</td>\n",
       "      <td>2001</td>\n",
       "      <td>21</td>\n",
       "      <td>T_0</td>\n",
       "      <td>-1.0</td>\n",
       "      <td>0</td>\n",
       "      <td>test_2021-03-01 02:30:02.237419</td>\n",
       "      <td>s_0</td>\n",
       "    </tr>\n",
       "    <tr>\n",
       "      <th>218101</th>\n",
       "      <td>ct_0</td>\n",
       "      <td>f</td>\n",
       "      <td>2001</td>\n",
       "      <td>21</td>\n",
       "      <td>T_0</td>\n",
       "      <td>-1.0</td>\n",
       "      <td>0</td>\n",
       "      <td>test_2021-03-01 02:30:02.237425</td>\n",
       "      <td>s_0</td>\n",
       "    </tr>\n",
       "    <tr>\n",
       "      <th>218102</th>\n",
       "      <td>ct_0</td>\n",
       "      <td>f</td>\n",
       "      <td>2001</td>\n",
       "      <td>21</td>\n",
       "      <td>T_0</td>\n",
       "      <td>-1.0</td>\n",
       "      <td>0</td>\n",
       "      <td>test_2021-03-01 02:30:02.237436</td>\n",
       "      <td>s_0</td>\n",
       "    </tr>\n",
       "    <tr>\n",
       "      <th>218103</th>\n",
       "      <td>ct_0</td>\n",
       "      <td>f</td>\n",
       "      <td>2001</td>\n",
       "      <td>21</td>\n",
       "      <td>T_0</td>\n",
       "      <td>-1.0</td>\n",
       "      <td>0</td>\n",
       "      <td>test_2021-03-01 02:30:02.237430</td>\n",
       "      <td>s_0</td>\n",
       "    </tr>\n",
       "    <tr>\n",
       "      <th>218104</th>\n",
       "      <td>ct_0</td>\n",
       "      <td>f</td>\n",
       "      <td>2001</td>\n",
       "      <td>21</td>\n",
       "      <td>T_0</td>\n",
       "      <td>-1.0</td>\n",
       "      <td>0</td>\n",
       "      <td>test_2021-03-01 02:30:02.237449</td>\n",
       "      <td>s_0</td>\n",
       "    </tr>\n",
       "    <tr>\n",
       "      <th>...</th>\n",
       "      <td>...</td>\n",
       "      <td>...</td>\n",
       "      <td>...</td>\n",
       "      <td>...</td>\n",
       "      <td>...</td>\n",
       "      <td>...</td>\n",
       "      <td>...</td>\n",
       "      <td>...</td>\n",
       "      <td>...</td>\n",
       "    </tr>\n",
       "    <tr>\n",
       "      <th>670673</th>\n",
       "      <td>ct_1</td>\n",
       "      <td>m</td>\n",
       "      <td>2001</td>\n",
       "      <td>21</td>\n",
       "      <td>T_0</td>\n",
       "      <td>-1.0</td>\n",
       "      <td>0</td>\n",
       "      <td>test_2021-03-01 02:30:02.237420</td>\n",
       "      <td>s_0</td>\n",
       "    </tr>\n",
       "    <tr>\n",
       "      <th>670674</th>\n",
       "      <td>ct_1</td>\n",
       "      <td>m</td>\n",
       "      <td>2001</td>\n",
       "      <td>21</td>\n",
       "      <td>T_0</td>\n",
       "      <td>-1.0</td>\n",
       "      <td>0</td>\n",
       "      <td>test_2021-03-01 02:30:02.237427</td>\n",
       "      <td>s_0</td>\n",
       "    </tr>\n",
       "    <tr>\n",
       "      <th>670675</th>\n",
       "      <td>ct_1</td>\n",
       "      <td>m</td>\n",
       "      <td>2001</td>\n",
       "      <td>21</td>\n",
       "      <td>T_0</td>\n",
       "      <td>-1.0</td>\n",
       "      <td>0</td>\n",
       "      <td>test_2021-03-01 02:30:02.237449</td>\n",
       "      <td>s_0</td>\n",
       "    </tr>\n",
       "    <tr>\n",
       "      <th>670676</th>\n",
       "      <td>ct_1</td>\n",
       "      <td>m</td>\n",
       "      <td>2001</td>\n",
       "      <td>21</td>\n",
       "      <td>T_0</td>\n",
       "      <td>-1.0</td>\n",
       "      <td>0</td>\n",
       "      <td>test_2021-03-01 02:30:02.237424</td>\n",
       "      <td>s_0</td>\n",
       "    </tr>\n",
       "    <tr>\n",
       "      <th>670677</th>\n",
       "      <td>ct_1</td>\n",
       "      <td>m</td>\n",
       "      <td>2001</td>\n",
       "      <td>21</td>\n",
       "      <td>T_0</td>\n",
       "      <td>-1.0</td>\n",
       "      <td>0</td>\n",
       "      <td>test_2021-03-01 02:30:02.237425</td>\n",
       "      <td>s_0</td>\n",
       "    </tr>\n",
       "  </tbody>\n",
       "</table>\n",
       "<p>200 rows × 9 columns</p>\n",
       "</div>"
      ],
      "text/plain": [
       "       client_id sex  birth  age id_prod  price  categ  \\\n",
       "218100      ct_0   f   2001   21     T_0   -1.0      0   \n",
       "218101      ct_0   f   2001   21     T_0   -1.0      0   \n",
       "218102      ct_0   f   2001   21     T_0   -1.0      0   \n",
       "218103      ct_0   f   2001   21     T_0   -1.0      0   \n",
       "218104      ct_0   f   2001   21     T_0   -1.0      0   \n",
       "...          ...  ..    ...  ...     ...    ...    ...   \n",
       "670673      ct_1   m   2001   21     T_0   -1.0      0   \n",
       "670674      ct_1   m   2001   21     T_0   -1.0      0   \n",
       "670675      ct_1   m   2001   21     T_0   -1.0      0   \n",
       "670676      ct_1   m   2001   21     T_0   -1.0      0   \n",
       "670677      ct_1   m   2001   21     T_0   -1.0      0   \n",
       "\n",
       "                                   date session_id  \n",
       "218100  test_2021-03-01 02:30:02.237419        s_0  \n",
       "218101  test_2021-03-01 02:30:02.237425        s_0  \n",
       "218102  test_2021-03-01 02:30:02.237436        s_0  \n",
       "218103  test_2021-03-01 02:30:02.237430        s_0  \n",
       "218104  test_2021-03-01 02:30:02.237449        s_0  \n",
       "...                                 ...        ...  \n",
       "670673  test_2021-03-01 02:30:02.237420        s_0  \n",
       "670674  test_2021-03-01 02:30:02.237427        s_0  \n",
       "670675  test_2021-03-01 02:30:02.237449        s_0  \n",
       "670676  test_2021-03-01 02:30:02.237424        s_0  \n",
       "670677  test_2021-03-01 02:30:02.237425        s_0  \n",
       "\n",
       "[200 rows x 9 columns]"
      ]
     },
     "execution_count": 27,
     "metadata": {},
     "output_type": "execute_result"
    }
   ],
   "source": [
    "df_fusionne.loc[df_fusionne.price== -1.0]"
   ]
  },
  {
   "cell_type": "markdown",
   "id": "fa4c670e",
   "metadata": {},
   "source": [
    "### On peut voir que ce sont des tests \n",
    "### On va donc supprimer les tests que l'on peut repérer au niveau de date"
   ]
  },
  {
   "cell_type": "code",
   "execution_count": 28,
   "id": "13b94078",
   "metadata": {},
   "outputs": [],
   "source": [
    "#On retire les lignes contenant le mot test dans la colonne date\n",
    "df_fusionne = df_fusionne[~df_fusionne.date.str.contains(\"test\")]"
   ]
  },
  {
   "cell_type": "code",
   "execution_count": 29,
   "id": "8abe86f4",
   "metadata": {},
   "outputs": [
    {
     "data": {
      "text/html": [
       "<div>\n",
       "<style scoped>\n",
       "    .dataframe tbody tr th:only-of-type {\n",
       "        vertical-align: middle;\n",
       "    }\n",
       "\n",
       "    .dataframe tbody tr th {\n",
       "        vertical-align: top;\n",
       "    }\n",
       "\n",
       "    .dataframe thead th {\n",
       "        text-align: right;\n",
       "    }\n",
       "</style>\n",
       "<table border=\"1\" class=\"dataframe\">\n",
       "  <thead>\n",
       "    <tr style=\"text-align: right;\">\n",
       "      <th></th>\n",
       "      <th>client_id</th>\n",
       "      <th>sex</th>\n",
       "      <th>birth</th>\n",
       "      <th>age</th>\n",
       "      <th>id_prod</th>\n",
       "      <th>price</th>\n",
       "      <th>categ</th>\n",
       "      <th>date</th>\n",
       "      <th>session_id</th>\n",
       "    </tr>\n",
       "  </thead>\n",
       "  <tbody>\n",
       "  </tbody>\n",
       "</table>\n",
       "</div>"
      ],
      "text/plain": [
       "Empty DataFrame\n",
       "Columns: [client_id, sex, birth, age, id_prod, price, categ, date, session_id]\n",
       "Index: []"
      ]
     },
     "execution_count": 29,
     "metadata": {},
     "output_type": "execute_result"
    }
   ],
   "source": [
    "df_fusionne.loc[df_fusionne.price== -1.0]"
   ]
  },
  {
   "cell_type": "code",
   "execution_count": 30,
   "id": "e6768d5b",
   "metadata": {},
   "outputs": [
    {
     "data": {
      "text/html": [
       "<div>\n",
       "<style scoped>\n",
       "    .dataframe tbody tr th:only-of-type {\n",
       "        vertical-align: middle;\n",
       "    }\n",
       "\n",
       "    .dataframe tbody tr th {\n",
       "        vertical-align: top;\n",
       "    }\n",
       "\n",
       "    .dataframe thead th {\n",
       "        text-align: right;\n",
       "    }\n",
       "</style>\n",
       "<table border=\"1\" class=\"dataframe\">\n",
       "  <thead>\n",
       "    <tr style=\"text-align: right;\">\n",
       "      <th></th>\n",
       "      <th>birth</th>\n",
       "      <th>age</th>\n",
       "      <th>price</th>\n",
       "      <th>categ</th>\n",
       "    </tr>\n",
       "  </thead>\n",
       "  <tbody>\n",
       "    <tr>\n",
       "      <th>count</th>\n",
       "      <td>679111.000000</td>\n",
       "      <td>679111.000000</td>\n",
       "      <td>679111.000000</td>\n",
       "      <td>679111.000000</td>\n",
       "    </tr>\n",
       "    <tr>\n",
       "      <th>mean</th>\n",
       "      <td>1977.811149</td>\n",
       "      <td>44.188851</td>\n",
       "      <td>17.454773</td>\n",
       "      <td>0.441953</td>\n",
       "    </tr>\n",
       "    <tr>\n",
       "      <th>std</th>\n",
       "      <td>13.575361</td>\n",
       "      <td>13.575361</td>\n",
       "      <td>18.328998</td>\n",
       "      <td>0.595042</td>\n",
       "    </tr>\n",
       "    <tr>\n",
       "      <th>min</th>\n",
       "      <td>1929.000000</td>\n",
       "      <td>18.000000</td>\n",
       "      <td>0.620000</td>\n",
       "      <td>0.000000</td>\n",
       "    </tr>\n",
       "    <tr>\n",
       "      <th>25%</th>\n",
       "      <td>1970.000000</td>\n",
       "      <td>35.000000</td>\n",
       "      <td>8.870000</td>\n",
       "      <td>0.000000</td>\n",
       "    </tr>\n",
       "    <tr>\n",
       "      <th>50%</th>\n",
       "      <td>1980.000000</td>\n",
       "      <td>42.000000</td>\n",
       "      <td>13.990000</td>\n",
       "      <td>0.000000</td>\n",
       "    </tr>\n",
       "    <tr>\n",
       "      <th>75%</th>\n",
       "      <td>1987.000000</td>\n",
       "      <td>52.000000</td>\n",
       "      <td>18.990000</td>\n",
       "      <td>1.000000</td>\n",
       "    </tr>\n",
       "    <tr>\n",
       "      <th>max</th>\n",
       "      <td>2004.000000</td>\n",
       "      <td>93.000000</td>\n",
       "      <td>300.000000</td>\n",
       "      <td>2.000000</td>\n",
       "    </tr>\n",
       "  </tbody>\n",
       "</table>\n",
       "</div>"
      ],
      "text/plain": [
       "               birth            age          price          categ\n",
       "count  679111.000000  679111.000000  679111.000000  679111.000000\n",
       "mean     1977.811149      44.188851      17.454773       0.441953\n",
       "std        13.575361      13.575361      18.328998       0.595042\n",
       "min      1929.000000      18.000000       0.620000       0.000000\n",
       "25%      1970.000000      35.000000       8.870000       0.000000\n",
       "50%      1980.000000      42.000000      13.990000       0.000000\n",
       "75%      1987.000000      52.000000      18.990000       1.000000\n",
       "max      2004.000000      93.000000     300.000000       2.000000"
      ]
     },
     "execution_count": 30,
     "metadata": {},
     "output_type": "execute_result"
    }
   ],
   "source": [
    "df_fusionne.describe()"
   ]
  },
  {
   "cell_type": "code",
   "execution_count": 31,
   "id": "94c9bac8",
   "metadata": {},
   "outputs": [
    {
     "data": {
      "text/html": [
       "<div>\n",
       "<style scoped>\n",
       "    .dataframe tbody tr th:only-of-type {\n",
       "        vertical-align: middle;\n",
       "    }\n",
       "\n",
       "    .dataframe tbody tr th {\n",
       "        vertical-align: top;\n",
       "    }\n",
       "\n",
       "    .dataframe thead th {\n",
       "        text-align: right;\n",
       "    }\n",
       "</style>\n",
       "<table border=\"1\" class=\"dataframe\">\n",
       "  <thead>\n",
       "    <tr style=\"text-align: right;\">\n",
       "      <th></th>\n",
       "      <th>client_id</th>\n",
       "      <th>sex</th>\n",
       "      <th>birth</th>\n",
       "      <th>age</th>\n",
       "      <th>id_prod</th>\n",
       "      <th>price</th>\n",
       "      <th>categ</th>\n",
       "      <th>date</th>\n",
       "      <th>session_id</th>\n",
       "    </tr>\n",
       "  </thead>\n",
       "  <tbody>\n",
       "    <tr>\n",
       "      <th>0</th>\n",
       "      <td>c_4410</td>\n",
       "      <td>f</td>\n",
       "      <td>1967</td>\n",
       "      <td>55</td>\n",
       "      <td>1_385</td>\n",
       "      <td>25.99</td>\n",
       "      <td>1</td>\n",
       "      <td>2021-03-22 01:40:22.782925</td>\n",
       "      <td>s_9707</td>\n",
       "    </tr>\n",
       "    <tr>\n",
       "      <th>1</th>\n",
       "      <td>c_4410</td>\n",
       "      <td>f</td>\n",
       "      <td>1967</td>\n",
       "      <td>55</td>\n",
       "      <td>1_385</td>\n",
       "      <td>25.99</td>\n",
       "      <td>1</td>\n",
       "      <td>2023-02-22 01:40:22.782925</td>\n",
       "      <td>s_345108</td>\n",
       "    </tr>\n",
       "    <tr>\n",
       "      <th>2</th>\n",
       "      <td>c_4410</td>\n",
       "      <td>f</td>\n",
       "      <td>1967</td>\n",
       "      <td>55</td>\n",
       "      <td>0_1110</td>\n",
       "      <td>4.71</td>\n",
       "      <td>0</td>\n",
       "      <td>2021-11-04 16:28:30.169021</td>\n",
       "      <td>s_114715</td>\n",
       "    </tr>\n",
       "    <tr>\n",
       "      <th>3</th>\n",
       "      <td>c_4410</td>\n",
       "      <td>f</td>\n",
       "      <td>1967</td>\n",
       "      <td>55</td>\n",
       "      <td>0_1111</td>\n",
       "      <td>19.99</td>\n",
       "      <td>0</td>\n",
       "      <td>2023-02-22 01:27:49.480137</td>\n",
       "      <td>s_345108</td>\n",
       "    </tr>\n",
       "    <tr>\n",
       "      <th>4</th>\n",
       "      <td>c_4410</td>\n",
       "      <td>f</td>\n",
       "      <td>1967</td>\n",
       "      <td>55</td>\n",
       "      <td>0_1111</td>\n",
       "      <td>19.99</td>\n",
       "      <td>0</td>\n",
       "      <td>2021-03-22 01:27:49.480137</td>\n",
       "      <td>s_9707</td>\n",
       "    </tr>\n",
       "  </tbody>\n",
       "</table>\n",
       "</div>"
      ],
      "text/plain": [
       "  client_id sex  birth  age id_prod  price  categ                        date  \\\n",
       "0    c_4410   f   1967   55   1_385  25.99      1  2021-03-22 01:40:22.782925   \n",
       "1    c_4410   f   1967   55   1_385  25.99      1  2023-02-22 01:40:22.782925   \n",
       "2    c_4410   f   1967   55  0_1110   4.71      0  2021-11-04 16:28:30.169021   \n",
       "3    c_4410   f   1967   55  0_1111  19.99      0  2023-02-22 01:27:49.480137   \n",
       "4    c_4410   f   1967   55  0_1111  19.99      0  2021-03-22 01:27:49.480137   \n",
       "\n",
       "  session_id  \n",
       "0     s_9707  \n",
       "1   s_345108  \n",
       "2   s_114715  \n",
       "3   s_345108  \n",
       "4     s_9707  "
      ]
     },
     "execution_count": 31,
     "metadata": {},
     "output_type": "execute_result"
    }
   ],
   "source": [
    "df_fusionne.head()"
   ]
  },
  {
   "cell_type": "code",
   "execution_count": 32,
   "id": "c876db36",
   "metadata": {},
   "outputs": [],
   "source": [
    "#On retire les lignes contenant le chiffre 2023 dans la colonne date\n",
    "df_fusionne=df_fusionne[~df_fusionne.date.str.contains(\"2023\")]"
   ]
  },
  {
   "cell_type": "code",
   "execution_count": 33,
   "id": "b67a4f47",
   "metadata": {},
   "outputs": [
    {
     "name": "stdout",
     "output_type": "stream",
     "text": [
      "<class 'pandas.core.frame.DataFrame'>\n",
      "Int64Index: 624458 entries, 0 to 679310\n",
      "Data columns (total 9 columns):\n",
      " #   Column      Non-Null Count   Dtype  \n",
      "---  ------      --------------   -----  \n",
      " 0   client_id   624458 non-null  object \n",
      " 1   sex         624458 non-null  object \n",
      " 2   birth       624458 non-null  int64  \n",
      " 3   age         624458 non-null  int64  \n",
      " 4   id_prod     624458 non-null  object \n",
      " 5   price       624458 non-null  float64\n",
      " 6   categ       624458 non-null  int64  \n",
      " 7   date        624458 non-null  object \n",
      " 8   session_id  624458 non-null  object \n",
      "dtypes: float64(1), int64(3), object(5)\n",
      "memory usage: 47.6+ MB\n"
     ]
    }
   ],
   "source": [
    "df_fusionne.info()"
   ]
  },
  {
   "cell_type": "markdown",
   "id": "745507e9",
   "metadata": {},
   "source": [
    "### Le fichier est prêt, nous pouvons maintenant passer à l'analyse"
   ]
  },
  {
   "cell_type": "markdown",
   "id": "8c8a8900",
   "metadata": {},
   "source": [
    "# Partie 3 : Analyse"
   ]
  },
  {
   "cell_type": "code",
   "execution_count": 34,
   "id": "50c3e60f",
   "metadata": {},
   "outputs": [
    {
     "data": {
      "text/html": [
       "<div>\n",
       "<style scoped>\n",
       "    .dataframe tbody tr th:only-of-type {\n",
       "        vertical-align: middle;\n",
       "    }\n",
       "\n",
       "    .dataframe tbody tr th {\n",
       "        vertical-align: top;\n",
       "    }\n",
       "\n",
       "    .dataframe thead th {\n",
       "        text-align: right;\n",
       "    }\n",
       "</style>\n",
       "<table border=\"1\" class=\"dataframe\">\n",
       "  <thead>\n",
       "    <tr style=\"text-align: right;\">\n",
       "      <th></th>\n",
       "      <th>session_id</th>\n",
       "      <th>client_id</th>\n",
       "      <th>age</th>\n",
       "      <th>date</th>\n",
       "      <th>number_items</th>\n",
       "      <th>price</th>\n",
       "    </tr>\n",
       "  </thead>\n",
       "  <tbody>\n",
       "    <tr>\n",
       "      <th>0</th>\n",
       "      <td>s_1</td>\n",
       "      <td>c_329</td>\n",
       "      <td>55</td>\n",
       "      <td>2021-03-01 00:01:07.843138</td>\n",
       "      <td>1</td>\n",
       "      <td>11.99</td>\n",
       "    </tr>\n",
       "    <tr>\n",
       "      <th>1</th>\n",
       "      <td>s_10</td>\n",
       "      <td>c_2218</td>\n",
       "      <td>52</td>\n",
       "      <td>2021-03-01 00:10:33.163037</td>\n",
       "      <td>1</td>\n",
       "      <td>26.99</td>\n",
       "    </tr>\n",
       "    <tr>\n",
       "      <th>2</th>\n",
       "      <td>s_100</td>\n",
       "      <td>c_3854</td>\n",
       "      <td>44</td>\n",
       "      <td>2021-03-01 04:43:58.025677</td>\n",
       "      <td>2</td>\n",
       "      <td>33.72</td>\n",
       "    </tr>\n",
       "    <tr>\n",
       "      <th>3</th>\n",
       "      <td>s_1000</td>\n",
       "      <td>c_1014</td>\n",
       "      <td>33</td>\n",
       "      <td>2021-03-03 03:25:12.320225</td>\n",
       "      <td>4</td>\n",
       "      <td>39.22</td>\n",
       "    </tr>\n",
       "    <tr>\n",
       "      <th>4</th>\n",
       "      <td>s_10000</td>\n",
       "      <td>c_476</td>\n",
       "      <td>33</td>\n",
       "      <td>2021-03-22 18:15:03.831240</td>\n",
       "      <td>3</td>\n",
       "      <td>41.49</td>\n",
       "    </tr>\n",
       "  </tbody>\n",
       "</table>\n",
       "</div>"
      ],
      "text/plain": [
       "  session_id client_id  age                        date  number_items  price\n",
       "0        s_1     c_329   55  2021-03-01 00:01:07.843138             1  11.99\n",
       "1       s_10    c_2218   52  2021-03-01 00:10:33.163037             1  26.99\n",
       "2      s_100    c_3854   44  2021-03-01 04:43:58.025677             2  33.72\n",
       "3     s_1000    c_1014   33  2021-03-03 03:25:12.320225             4  39.22\n",
       "4    s_10000     c_476   33  2021-03-22 18:15:03.831240             3  41.49"
      ]
     },
     "execution_count": 34,
     "metadata": {},
     "output_type": "execute_result"
    }
   ],
   "source": [
    "#On Groupby selon le numéro de transaction\n",
    "df_commandes = df_fusionne.groupby(['session_id', 'client_id', \"age\"]).agg({'date':'max',                                                                       \"session_id\":\"count\", 'price':'sum'})\n",
    "df_commandes.rename(columns={'session_id':\"number_items\"}, inplace=True)\n",
    "df_commandes = df_commandes.reset_index()\n",
    "df_commandes.head()"
   ]
  },
  {
   "cell_type": "markdown",
   "id": "62ed6cb2",
   "metadata": {},
   "source": [
    "## 3.1 Etude du chiffre d'affaire "
   ]
  },
  {
   "cell_type": "code",
   "execution_count": 35,
   "id": "f78dcf02",
   "metadata": {},
   "outputs": [
    {
     "data": {
      "text/plain": [
       "'2021-03-01 00:01:07.843138'"
      ]
     },
     "execution_count": 35,
     "metadata": {},
     "output_type": "execute_result"
    }
   ],
   "source": [
    "#Affichage de la date min\n",
    "df_fusionne.date.min()"
   ]
  },
  {
   "cell_type": "code",
   "execution_count": 36,
   "id": "1b23152f",
   "metadata": {},
   "outputs": [
    {
     "data": {
      "text/plain": [
       "'2022-12-31 23:56:47.244655'"
      ]
     },
     "execution_count": 36,
     "metadata": {},
     "output_type": "execute_result"
    }
   ],
   "source": [
    "#Affichage de la date max\n",
    "df_fusionne.date.max()"
   ]
  },
  {
   "cell_type": "markdown",
   "id": "8468790a",
   "metadata": {},
   "source": [
    "### Le chiffre d'affaire est donné pour les années 2021 à 2022"
   ]
  },
  {
   "cell_type": "code",
   "execution_count": 37,
   "id": "b57bb6ca",
   "metadata": {},
   "outputs": [
    {
     "name": "stdout",
     "output_type": "stream",
     "text": [
      "Le chiffre d'affaire de 2021 à 2022 est de 10876557.84 €\n"
     ]
    }
   ],
   "source": [
    "#Calcul du chiffre d'affaire de 2021 à 2022\n",
    "CA = round(df_fusionne['price'].sum(), 2)\n",
    "print(\"Le chiffre d'affaire de 2021 à 2022 est de\",CA,\"€\")"
   ]
  },
  {
   "cell_type": "code",
   "execution_count": 38,
   "id": "6a957a19",
   "metadata": {},
   "outputs": [],
   "source": [
    "#On sépare la date de l'heure\n",
    "df_fusionne[[\"date\", \"hour\"]] = df_fusionne.date.str.split(\" \", expand=True)"
   ]
  },
  {
   "cell_type": "code",
   "execution_count": 39,
   "id": "5109b8e7",
   "metadata": {},
   "outputs": [],
   "source": [
    "#Convertion de la date en datetime\n",
    "df_fusionne['date']=pd.to_datetime(df_fusionne['date'])"
   ]
  },
  {
   "cell_type": "code",
   "execution_count": 40,
   "id": "1d77ec47",
   "metadata": {},
   "outputs": [],
   "source": [
    "#Création d'une colonne année\n",
    "df_fusionne[\"année\"]=df_fusionne.date.dt.year"
   ]
  },
  {
   "cell_type": "code",
   "execution_count": 41,
   "id": "a10135ae",
   "metadata": {},
   "outputs": [],
   "source": [
    "#Création d'une colonne mois\n",
    "df_fusionne[\"mois\"]=df_fusionne.date.dt.month"
   ]
  },
  {
   "cell_type": "code",
   "execution_count": 42,
   "id": "398a7215",
   "metadata": {},
   "outputs": [],
   "source": [
    "#Création d'une colonne jour\n",
    "df_fusionne[\"jour\"]=df_fusionne.date.dt.day"
   ]
  },
  {
   "cell_type": "code",
   "execution_count": 43,
   "id": "1057523f",
   "metadata": {},
   "outputs": [
    {
     "data": {
      "text/html": [
       "<div>\n",
       "<style scoped>\n",
       "    .dataframe tbody tr th:only-of-type {\n",
       "        vertical-align: middle;\n",
       "    }\n",
       "\n",
       "    .dataframe tbody tr th {\n",
       "        vertical-align: top;\n",
       "    }\n",
       "\n",
       "    .dataframe thead th {\n",
       "        text-align: right;\n",
       "    }\n",
       "</style>\n",
       "<table border=\"1\" class=\"dataframe\">\n",
       "  <thead>\n",
       "    <tr style=\"text-align: right;\">\n",
       "      <th></th>\n",
       "      <th>client_id</th>\n",
       "      <th>sex</th>\n",
       "      <th>birth</th>\n",
       "      <th>age</th>\n",
       "      <th>id_prod</th>\n",
       "      <th>price</th>\n",
       "      <th>categ</th>\n",
       "      <th>date</th>\n",
       "      <th>session_id</th>\n",
       "      <th>hour</th>\n",
       "      <th>année</th>\n",
       "      <th>mois</th>\n",
       "      <th>jour</th>\n",
       "    </tr>\n",
       "  </thead>\n",
       "  <tbody>\n",
       "    <tr>\n",
       "      <th>0</th>\n",
       "      <td>c_4410</td>\n",
       "      <td>f</td>\n",
       "      <td>1967</td>\n",
       "      <td>55</td>\n",
       "      <td>1_385</td>\n",
       "      <td>25.99</td>\n",
       "      <td>1</td>\n",
       "      <td>2021-03-22</td>\n",
       "      <td>s_9707</td>\n",
       "      <td>01:40:22.782925</td>\n",
       "      <td>2021</td>\n",
       "      <td>3</td>\n",
       "      <td>22</td>\n",
       "    </tr>\n",
       "    <tr>\n",
       "      <th>2</th>\n",
       "      <td>c_4410</td>\n",
       "      <td>f</td>\n",
       "      <td>1967</td>\n",
       "      <td>55</td>\n",
       "      <td>0_1110</td>\n",
       "      <td>4.71</td>\n",
       "      <td>0</td>\n",
       "      <td>2021-11-04</td>\n",
       "      <td>s_114715</td>\n",
       "      <td>16:28:30.169021</td>\n",
       "      <td>2021</td>\n",
       "      <td>11</td>\n",
       "      <td>4</td>\n",
       "    </tr>\n",
       "    <tr>\n",
       "      <th>4</th>\n",
       "      <td>c_4410</td>\n",
       "      <td>f</td>\n",
       "      <td>1967</td>\n",
       "      <td>55</td>\n",
       "      <td>0_1111</td>\n",
       "      <td>19.99</td>\n",
       "      <td>0</td>\n",
       "      <td>2021-03-22</td>\n",
       "      <td>s_9707</td>\n",
       "      <td>01:27:49.480137</td>\n",
       "      <td>2021</td>\n",
       "      <td>3</td>\n",
       "      <td>22</td>\n",
       "    </tr>\n",
       "    <tr>\n",
       "      <th>5</th>\n",
       "      <td>c_4410</td>\n",
       "      <td>f</td>\n",
       "      <td>1967</td>\n",
       "      <td>55</td>\n",
       "      <td>1_461</td>\n",
       "      <td>12.99</td>\n",
       "      <td>1</td>\n",
       "      <td>2021-08-11</td>\n",
       "      <td>s_74236</td>\n",
       "      <td>08:40:47.495793</td>\n",
       "      <td>2021</td>\n",
       "      <td>8</td>\n",
       "      <td>11</td>\n",
       "    </tr>\n",
       "    <tr>\n",
       "      <th>6</th>\n",
       "      <td>c_4410</td>\n",
       "      <td>f</td>\n",
       "      <td>1967</td>\n",
       "      <td>55</td>\n",
       "      <td>1_461</td>\n",
       "      <td>12.99</td>\n",
       "      <td>1</td>\n",
       "      <td>2022-09-11</td>\n",
       "      <td>s_266422</td>\n",
       "      <td>08:40:47.495793</td>\n",
       "      <td>2022</td>\n",
       "      <td>9</td>\n",
       "      <td>11</td>\n",
       "    </tr>\n",
       "    <tr>\n",
       "      <th>...</th>\n",
       "      <td>...</td>\n",
       "      <td>...</td>\n",
       "      <td>...</td>\n",
       "      <td>...</td>\n",
       "      <td>...</td>\n",
       "      <td>...</td>\n",
       "      <td>...</td>\n",
       "      <td>...</td>\n",
       "      <td>...</td>\n",
       "      <td>...</td>\n",
       "      <td>...</td>\n",
       "      <td>...</td>\n",
       "      <td>...</td>\n",
       "    </tr>\n",
       "    <tr>\n",
       "      <th>679306</th>\n",
       "      <td>c_84</td>\n",
       "      <td>f</td>\n",
       "      <td>1982</td>\n",
       "      <td>40</td>\n",
       "      <td>0_1438</td>\n",
       "      <td>9.31</td>\n",
       "      <td>0</td>\n",
       "      <td>2022-05-29</td>\n",
       "      <td>s_215697</td>\n",
       "      <td>06:11:50.316631</td>\n",
       "      <td>2022</td>\n",
       "      <td>5</td>\n",
       "      <td>29</td>\n",
       "    </tr>\n",
       "    <tr>\n",
       "      <th>679307</th>\n",
       "      <td>c_84</td>\n",
       "      <td>f</td>\n",
       "      <td>1982</td>\n",
       "      <td>40</td>\n",
       "      <td>0_1438</td>\n",
       "      <td>9.31</td>\n",
       "      <td>0</td>\n",
       "      <td>2022-03-29</td>\n",
       "      <td>s_186172</td>\n",
       "      <td>06:11:50.316631</td>\n",
       "      <td>2022</td>\n",
       "      <td>3</td>\n",
       "      <td>29</td>\n",
       "    </tr>\n",
       "    <tr>\n",
       "      <th>679308</th>\n",
       "      <td>c_84</td>\n",
       "      <td>f</td>\n",
       "      <td>1982</td>\n",
       "      <td>40</td>\n",
       "      <td>1_459</td>\n",
       "      <td>15.99</td>\n",
       "      <td>1</td>\n",
       "      <td>2022-12-17</td>\n",
       "      <td>s_313173</td>\n",
       "      <td>00:16:56.629536</td>\n",
       "      <td>2022</td>\n",
       "      <td>12</td>\n",
       "      <td>17</td>\n",
       "    </tr>\n",
       "    <tr>\n",
       "      <th>679309</th>\n",
       "      <td>c_84</td>\n",
       "      <td>f</td>\n",
       "      <td>1982</td>\n",
       "      <td>40</td>\n",
       "      <td>1_459</td>\n",
       "      <td>15.99</td>\n",
       "      <td>1</td>\n",
       "      <td>2022-02-17</td>\n",
       "      <td>s_166337</td>\n",
       "      <td>00:16:56.629536</td>\n",
       "      <td>2022</td>\n",
       "      <td>2</td>\n",
       "      <td>17</td>\n",
       "    </tr>\n",
       "    <tr>\n",
       "      <th>679310</th>\n",
       "      <td>c_84</td>\n",
       "      <td>f</td>\n",
       "      <td>1982</td>\n",
       "      <td>40</td>\n",
       "      <td>1_110</td>\n",
       "      <td>54.90</td>\n",
       "      <td>1</td>\n",
       "      <td>2021-09-13</td>\n",
       "      <td>s_89478</td>\n",
       "      <td>21:39:46.845376</td>\n",
       "      <td>2021</td>\n",
       "      <td>9</td>\n",
       "      <td>13</td>\n",
       "    </tr>\n",
       "  </tbody>\n",
       "</table>\n",
       "<p>624458 rows × 13 columns</p>\n",
       "</div>"
      ],
      "text/plain": [
       "       client_id sex  birth  age id_prod  price  categ       date session_id  \\\n",
       "0         c_4410   f   1967   55   1_385  25.99      1 2021-03-22     s_9707   \n",
       "2         c_4410   f   1967   55  0_1110   4.71      0 2021-11-04   s_114715   \n",
       "4         c_4410   f   1967   55  0_1111  19.99      0 2021-03-22     s_9707   \n",
       "5         c_4410   f   1967   55   1_461  12.99      1 2021-08-11    s_74236   \n",
       "6         c_4410   f   1967   55   1_461  12.99      1 2022-09-11   s_266422   \n",
       "...          ...  ..    ...  ...     ...    ...    ...        ...        ...   \n",
       "679306      c_84   f   1982   40  0_1438   9.31      0 2022-05-29   s_215697   \n",
       "679307      c_84   f   1982   40  0_1438   9.31      0 2022-03-29   s_186172   \n",
       "679308      c_84   f   1982   40   1_459  15.99      1 2022-12-17   s_313173   \n",
       "679309      c_84   f   1982   40   1_459  15.99      1 2022-02-17   s_166337   \n",
       "679310      c_84   f   1982   40   1_110  54.90      1 2021-09-13    s_89478   \n",
       "\n",
       "                   hour  année  mois  jour  \n",
       "0       01:40:22.782925   2021     3    22  \n",
       "2       16:28:30.169021   2021    11     4  \n",
       "4       01:27:49.480137   2021     3    22  \n",
       "5       08:40:47.495793   2021     8    11  \n",
       "6       08:40:47.495793   2022     9    11  \n",
       "...                 ...    ...   ...   ...  \n",
       "679306  06:11:50.316631   2022     5    29  \n",
       "679307  06:11:50.316631   2022     3    29  \n",
       "679308  00:16:56.629536   2022    12    17  \n",
       "679309  00:16:56.629536   2022     2    17  \n",
       "679310  21:39:46.845376   2021     9    13  \n",
       "\n",
       "[624458 rows x 13 columns]"
      ]
     },
     "execution_count": 43,
     "metadata": {},
     "output_type": "execute_result"
    }
   ],
   "source": [
    "df_fusionne"
   ]
  },
  {
   "cell_type": "markdown",
   "id": "1bd9531f",
   "metadata": {},
   "source": [
    "## Chiffre d'affaires par année"
   ]
  },
  {
   "cell_type": "code",
   "execution_count": 44,
   "id": "d0690caa",
   "metadata": {},
   "outputs": [
    {
     "data": {
      "image/png": "[encoded data removed]",
      "text/plain": [
       "<Figure size 432x288 with 1 Axes>"
      ]
     },
     "metadata": {
      "needs_background": "light"
     },
     "output_type": "display_data"
    }
   ],
   "source": [
    "df_fusionne.groupby('année')['price'].sum().plot(kind = 'bar')\n",
    "plt.title('Chiffre d\\'affaires par année')\n",
    "plt.xticks(rotation=0, ha='center')\n",
    "plt.show()"
   ]
  },
  {
   "cell_type": "markdown",
   "id": "5dd7d363",
   "metadata": {},
   "source": [
    "## Chiffre d'affaires mensuel"
   ]
  },
  {
   "cell_type": "code",
   "execution_count": 45,
   "id": "5113663f",
   "metadata": {},
   "outputs": [],
   "source": [
    "ca_mois = df_fusionne[[\"price\",\"date\"]].set_index(\"date\").groupby(pd.Grouper(freq=\"M\")).sum()"
   ]
  },
  {
   "cell_type": "code",
   "execution_count": 46,
   "id": "181fa827",
   "metadata": {},
   "outputs": [
    {
     "data": {
      "text/html": [
       "<div>\n",
       "<style scoped>\n",
       "    .dataframe tbody tr th:only-of-type {\n",
       "        vertical-align: middle;\n",
       "    }\n",
       "\n",
       "    .dataframe tbody tr th {\n",
       "        vertical-align: top;\n",
       "    }\n",
       "\n",
       "    .dataframe thead th {\n",
       "        text-align: right;\n",
       "    }\n",
       "</style>\n",
       "<table border=\"1\" class=\"dataframe\">\n",
       "  <thead>\n",
       "    <tr style=\"text-align: right;\">\n",
       "      <th></th>\n",
       "      <th>price</th>\n",
       "    </tr>\n",
       "    <tr>\n",
       "      <th>date</th>\n",
       "      <th></th>\n",
       "    </tr>\n",
       "  </thead>\n",
       "  <tbody>\n",
       "    <tr>\n",
       "      <th>2021-03-31</th>\n",
       "      <td>482359.60</td>\n",
       "    </tr>\n",
       "    <tr>\n",
       "      <th>2021-04-30</th>\n",
       "      <td>475918.37</td>\n",
       "    </tr>\n",
       "    <tr>\n",
       "      <th>2021-05-31</th>\n",
       "      <td>492801.97</td>\n",
       "    </tr>\n",
       "    <tr>\n",
       "      <th>2021-06-30</th>\n",
       "      <td>483989.48</td>\n",
       "    </tr>\n",
       "    <tr>\n",
       "      <th>2021-07-31</th>\n",
       "      <td>482680.99</td>\n",
       "    </tr>\n",
       "    <tr>\n",
       "      <th>2021-08-31</th>\n",
       "      <td>482126.16</td>\n",
       "    </tr>\n",
       "    <tr>\n",
       "      <th>2021-09-30</th>\n",
       "      <td>506964.78</td>\n",
       "    </tr>\n",
       "    <tr>\n",
       "      <th>2021-10-31</th>\n",
       "      <td>320790.75</td>\n",
       "    </tr>\n",
       "    <tr>\n",
       "      <th>2021-11-30</th>\n",
       "      <td>516137.68</td>\n",
       "    </tr>\n",
       "    <tr>\n",
       "      <th>2021-12-31</th>\n",
       "      <td>525781.13</td>\n",
       "    </tr>\n",
       "    <tr>\n",
       "      <th>2022-01-31</th>\n",
       "      <td>525252.59</td>\n",
       "    </tr>\n",
       "    <tr>\n",
       "      <th>2022-02-28</th>\n",
       "      <td>535431.47</td>\n",
       "    </tr>\n",
       "    <tr>\n",
       "      <th>2022-03-31</th>\n",
       "      <td>515379.25</td>\n",
       "    </tr>\n",
       "    <tr>\n",
       "      <th>2022-04-30</th>\n",
       "      <td>492889.68</td>\n",
       "    </tr>\n",
       "    <tr>\n",
       "      <th>2022-05-31</th>\n",
       "      <td>516982.35</td>\n",
       "    </tr>\n",
       "    <tr>\n",
       "      <th>2022-06-30</th>\n",
       "      <td>495908.33</td>\n",
       "    </tr>\n",
       "    <tr>\n",
       "      <th>2022-07-31</th>\n",
       "      <td>510555.67</td>\n",
       "    </tr>\n",
       "    <tr>\n",
       "      <th>2022-08-31</th>\n",
       "      <td>506236.49</td>\n",
       "    </tr>\n",
       "    <tr>\n",
       "      <th>2022-09-30</th>\n",
       "      <td>493956.56</td>\n",
       "    </tr>\n",
       "    <tr>\n",
       "      <th>2022-10-31</th>\n",
       "      <td>507769.85</td>\n",
       "    </tr>\n",
       "    <tr>\n",
       "      <th>2022-11-30</th>\n",
       "      <td>496499.83</td>\n",
       "    </tr>\n",
       "    <tr>\n",
       "      <th>2022-12-31</th>\n",
       "      <td>510144.86</td>\n",
       "    </tr>\n",
       "  </tbody>\n",
       "</table>\n",
       "</div>"
      ],
      "text/plain": [
       "                price\n",
       "date                 \n",
       "2021-03-31  482359.60\n",
       "2021-04-30  475918.37\n",
       "2021-05-31  492801.97\n",
       "2021-06-30  483989.48\n",
       "2021-07-31  482680.99\n",
       "2021-08-31  482126.16\n",
       "2021-09-30  506964.78\n",
       "2021-10-31  320790.75\n",
       "2021-11-30  516137.68\n",
       "2021-12-31  525781.13\n",
       "2022-01-31  525252.59\n",
       "2022-02-28  535431.47\n",
       "2022-03-31  515379.25\n",
       "2022-04-30  492889.68\n",
       "2022-05-31  516982.35\n",
       "2022-06-30  495908.33\n",
       "2022-07-31  510555.67\n",
       "2022-08-31  506236.49\n",
       "2022-09-30  493956.56\n",
       "2022-10-31  507769.85\n",
       "2022-11-30  496499.83\n",
       "2022-12-31  510144.86"
      ]
     },
     "execution_count": 46,
     "metadata": {},
     "output_type": "execute_result"
    }
   ],
   "source": [
    "ca_mois"
   ]
  },
  {
   "cell_type": "code",
   "execution_count": 47,
   "id": "e20f2902",
   "metadata": {},
   "outputs": [
    {
     "data": {
      "image/png": "[encoded data removed]",
      "text/plain": [
       "<Figure size 576x432 with 1 Axes>"
      ]
     },
     "metadata": {
      "needs_background": "light"
     },
     "output_type": "display_data"
    }
   ],
   "source": [
    "#On regarde l'evolution du chiffre d'affaires mensuel sur les 2 années\n",
    "ca_mois.plot(figsize=(8,6),marker=\"o\",color=\"black\",yticks=(100000,300000,500000,600000,700000))\n",
    "plt.title(\"CA mensuel sur 2021 et 2022\")\n",
    "plt.ylabel(\"CA (milliers d'€)\")\n",
    "plt.show()\n"
   ]
  },
  {
   "cell_type": "markdown",
   "id": "544a44b9",
   "metadata": {},
   "source": [
    "### Analyse des ventes en octobre"
   ]
  },
  {
   "cell_type": "code",
   "execution_count": 48,
   "id": "b8a8f8b6",
   "metadata": {},
   "outputs": [],
   "source": [
    "#On Stock dans la variable toutes les commandes passées en octobre 2021\n",
    "df_octobre_2021 = df_fusionne.loc[(df_fusionne['année']==2021) & (df_fusionne['mois']==10),:]"
   ]
  },
  {
   "cell_type": "code",
   "execution_count": 49,
   "id": "9782b7af",
   "metadata": {},
   "outputs": [],
   "source": [
    "#On effectue la somme du chiffre d'affaire par catégorie et par jour\n",
    "df_octobre_2021 = pd.pivot_table(df_octobre_2021, index = ['jour'], columns = 'categ', values = 'price',aggfunc={'price':'sum'});"
   ]
  },
  {
   "cell_type": "code",
   "execution_count": 50,
   "id": "6200ba92",
   "metadata": {},
   "outputs": [
    {
     "data": {
      "text/plain": [
       "categ\n",
       "0    199242.84\n",
       "1     33762.32\n",
       "2     87785.59\n",
       "dtype: float64"
      ]
     },
     "execution_count": 50,
     "metadata": {},
     "output_type": "execute_result"
    }
   ],
   "source": [
    "#Apperçu du chiffre d'affaires de chaque catégorie au mois d'Octobre\n",
    "df_octobre_2021.sum()"
   ]
  },
  {
   "cell_type": "code",
   "execution_count": 51,
   "id": "b60e5004",
   "metadata": {},
   "outputs": [
    {
     "data": {
      "image/png": "[encoded data removed]",
      "text/plain": [
       "<Figure size 864x360 with 1 Axes>"
      ]
     },
     "metadata": {
      "needs_background": "light"
     },
     "output_type": "display_data"
    }
   ],
   "source": [
    "#On affiche le tout sous forme de bar\n",
    "df_octobre_2021.plot(kind='bar',stacked = True,figsize=(12,5),width = 0.7)\n",
    "plt.title(\"Chiffre d'affaires par catégorie et par jour du mois d'Octobre 2021\")\n",
    "plt.xticks(rotation =0,ha='right')\n",
    "plt.show()"
   ]
  },
  {
   "cell_type": "markdown",
   "id": "9a0a405d",
   "metadata": {},
   "source": [
    "### On remarque l'absence d'achat des produits de la catégorie 1 entre le 2 et le 28 octobre 2021. Deux hypothèses s'imposent : un arrêt des ventes de catégorie 1 à ce moment, ou plus probablement un bug informatique qui a empêché d'obtenir les données de ventes qui ont eu lieu\n",
    "\n"
   ]
  },
  {
   "cell_type": "markdown",
   "id": "e610de84",
   "metadata": {},
   "source": [
    "## Affichage des chiffres journaliers "
   ]
  },
  {
   "cell_type": "code",
   "execution_count": 52,
   "id": "d36eb8ff",
   "metadata": {},
   "outputs": [],
   "source": [
    "ca_days=df_fusionne[[\"price\",\"date\"]].set_index(\"date\").groupby(pd.Grouper(freq=\"D\")).sum()"
   ]
  },
  {
   "cell_type": "code",
   "execution_count": 53,
   "id": "d2c4b292",
   "metadata": {},
   "outputs": [
    {
     "data": {
      "image/png": "[encoded data removed]",
      "text/plain": [
       "<Figure size 1296x576 with 1 Axes>"
      ]
     },
     "metadata": {},
     "output_type": "display_data"
    }
   ],
   "source": [
    "#On affiche une decomposition en moyenne mobile pour une periode de 7 et 30 jours\n",
    "\n",
    "plt.style.use('ggplot')\n",
    "plt.figure(figsize=(18,8))\n",
    "plt.plot(ca_days.rolling(7).mean(),label= 'MA 7 jours')\n",
    "plt.plot(ca_days.rolling(30).mean(),label= 'MA 30 jours')\n",
    "plt.legend(loc='best')\n",
    "plt.title('Décomposition en moyenne mobile periode 7 jours et 30 jours')\n",
    "plt.xlabel(\"Date\")\n",
    "plt.ylabel(\"Chiffre d'affaires en milliers d'euros)\")\n",
    "plt.show()"
   ]
  },
  {
   "cell_type": "markdown",
   "id": "cdbe4935",
   "metadata": {},
   "source": [
    "# Partie 4 : Zoom sur les références"
   ]
  },
  {
   "cell_type": "markdown",
   "id": "34120218",
   "metadata": {},
   "source": [
    "## 4.1 Top des articles"
   ]
  },
  {
   "cell_type": "code",
   "execution_count": 54,
   "id": "8f11bc42",
   "metadata": {},
   "outputs": [],
   "source": [
    "df_prod = df_fusionne.groupby('id_prod').agg({\"id_prod\":\"count\", 'price':'sum'})\n",
    "df_prod.rename(columns={\"id_prod\":\"number_purchases\", \"price\":\"monetary_value\"}, inplace=True)"
   ]
  },
  {
   "cell_type": "code",
   "execution_count": 55,
   "id": "7e60d830",
   "metadata": {},
   "outputs": [],
   "source": [
    "#On va trier le dataframe selon les meilleurs produits en terme de CA \n",
    "meilleurs_prod_montant = df_prod.sort_values(by=['monetary_value'], ascending = False)"
   ]
  },
  {
   "cell_type": "markdown",
   "id": "6740b459",
   "metadata": {},
   "source": [
    "### Top produits en terme de CA"
   ]
  },
  {
   "cell_type": "code",
   "execution_count": 56,
   "id": "b0f281ca",
   "metadata": {},
   "outputs": [
    {
     "data": {
      "text/html": [
       "<div>\n",
       "<style scoped>\n",
       "    .dataframe tbody tr th:only-of-type {\n",
       "        vertical-align: middle;\n",
       "    }\n",
       "\n",
       "    .dataframe tbody tr th {\n",
       "        vertical-align: top;\n",
       "    }\n",
       "\n",
       "    .dataframe thead th {\n",
       "        text-align: right;\n",
       "    }\n",
       "</style>\n",
       "<table border=\"1\" class=\"dataframe\">\n",
       "  <thead>\n",
       "    <tr style=\"text-align: right;\">\n",
       "      <th></th>\n",
       "      <th>number_purchases</th>\n",
       "      <th>monetary_value</th>\n",
       "    </tr>\n",
       "    <tr>\n",
       "      <th>id_prod</th>\n",
       "      <th></th>\n",
       "      <th></th>\n",
       "    </tr>\n",
       "  </thead>\n",
       "  <tbody>\n",
       "    <tr>\n",
       "      <th>2_159</th>\n",
       "      <td>597</td>\n",
       "      <td>87156.03</td>\n",
       "    </tr>\n",
       "    <tr>\n",
       "      <th>2_135</th>\n",
       "      <td>928</td>\n",
       "      <td>64022.72</td>\n",
       "    </tr>\n",
       "    <tr>\n",
       "      <th>2_112</th>\n",
       "      <td>872</td>\n",
       "      <td>58921.04</td>\n",
       "    </tr>\n",
       "    <tr>\n",
       "      <th>2_102</th>\n",
       "      <td>924</td>\n",
       "      <td>54645.36</td>\n",
       "    </tr>\n",
       "    <tr>\n",
       "      <th>2_209</th>\n",
       "      <td>745</td>\n",
       "      <td>52142.55</td>\n",
       "    </tr>\n",
       "  </tbody>\n",
       "</table>\n",
       "</div>"
      ],
      "text/plain": [
       "         number_purchases  monetary_value\n",
       "id_prod                                  \n",
       "2_159                 597        87156.03\n",
       "2_135                 928        64022.72\n",
       "2_112                 872        58921.04\n",
       "2_102                 924        54645.36\n",
       "2_209                 745        52142.55"
      ]
     },
     "execution_count": 56,
     "metadata": {},
     "output_type": "execute_result"
    }
   ],
   "source": [
    "#Affichage des produits qui ont rapporté le plus d'argent\n",
    "meilleurs_prod_montant.head()"
   ]
  },
  {
   "cell_type": "markdown",
   "id": "c82c0d2f",
   "metadata": {},
   "source": [
    "### Top produits en terme de ventes"
   ]
  },
  {
   "cell_type": "code",
   "execution_count": 57,
   "id": "bee4f0de",
   "metadata": {},
   "outputs": [],
   "source": [
    "#On va trier le dataframe selon les meilleurs produits en terme de ventes\n",
    "meilleurs_prod_nb_achats = df_prod.sort_values(by=['number_purchases'], ascending = False)"
   ]
  },
  {
   "cell_type": "code",
   "execution_count": 58,
   "id": "02c9650e",
   "metadata": {},
   "outputs": [
    {
     "data": {
      "text/html": [
       "<div>\n",
       "<style scoped>\n",
       "    .dataframe tbody tr th:only-of-type {\n",
       "        vertical-align: middle;\n",
       "    }\n",
       "\n",
       "    .dataframe tbody tr th {\n",
       "        vertical-align: top;\n",
       "    }\n",
       "\n",
       "    .dataframe thead th {\n",
       "        text-align: right;\n",
       "    }\n",
       "</style>\n",
       "<table border=\"1\" class=\"dataframe\">\n",
       "  <thead>\n",
       "    <tr style=\"text-align: right;\">\n",
       "      <th></th>\n",
       "      <th>number_purchases</th>\n",
       "      <th>monetary_value</th>\n",
       "    </tr>\n",
       "    <tr>\n",
       "      <th>id_prod</th>\n",
       "      <th></th>\n",
       "      <th></th>\n",
       "    </tr>\n",
       "  </thead>\n",
       "  <tbody>\n",
       "    <tr>\n",
       "      <th>1_369</th>\n",
       "      <td>2048</td>\n",
       "      <td>49131.52</td>\n",
       "    </tr>\n",
       "    <tr>\n",
       "      <th>1_417</th>\n",
       "      <td>2029</td>\n",
       "      <td>42588.71</td>\n",
       "    </tr>\n",
       "    <tr>\n",
       "      <th>1_414</th>\n",
       "      <td>1977</td>\n",
       "      <td>47111.91</td>\n",
       "    </tr>\n",
       "    <tr>\n",
       "      <th>1_498</th>\n",
       "      <td>1966</td>\n",
       "      <td>45945.42</td>\n",
       "    </tr>\n",
       "    <tr>\n",
       "      <th>1_425</th>\n",
       "      <td>1918</td>\n",
       "      <td>32586.82</td>\n",
       "    </tr>\n",
       "  </tbody>\n",
       "</table>\n",
       "</div>"
      ],
      "text/plain": [
       "         number_purchases  monetary_value\n",
       "id_prod                                  \n",
       "1_369                2048        49131.52\n",
       "1_417                2029        42588.71\n",
       "1_414                1977        47111.91\n",
       "1_498                1966        45945.42\n",
       "1_425                1918        32586.82"
      ]
     },
     "execution_count": 58,
     "metadata": {},
     "output_type": "execute_result"
    }
   ],
   "source": [
    "#Produits les plus vendus\n",
    "meilleurs_prod_nb_achats.head()"
   ]
  },
  {
   "cell_type": "markdown",
   "id": "6888d159",
   "metadata": {},
   "source": [
    "## 4.2 Flop des articles"
   ]
  },
  {
   "cell_type": "markdown",
   "id": "c60497dc",
   "metadata": {},
   "source": [
    "### Flop produits en terme de CA"
   ]
  },
  {
   "cell_type": "code",
   "execution_count": 59,
   "id": "67a4186e",
   "metadata": {},
   "outputs": [],
   "source": [
    "#Tri dans l'ordre décroissant pour avoir les plus grandes valeurs en premier\n",
    "pire_prod_montant = df_prod.sort_values(by=['monetary_value'], ascending = True)"
   ]
  },
  {
   "cell_type": "code",
   "execution_count": 60,
   "id": "ce17b175",
   "metadata": {},
   "outputs": [
    {
     "data": {
      "text/html": [
       "<div>\n",
       "<style scoped>\n",
       "    .dataframe tbody tr th:only-of-type {\n",
       "        vertical-align: middle;\n",
       "    }\n",
       "\n",
       "    .dataframe tbody tr th {\n",
       "        vertical-align: top;\n",
       "    }\n",
       "\n",
       "    .dataframe thead th {\n",
       "        text-align: right;\n",
       "    }\n",
       "</style>\n",
       "<table border=\"1\" class=\"dataframe\">\n",
       "  <thead>\n",
       "    <tr style=\"text-align: right;\">\n",
       "      <th></th>\n",
       "      <th>number_purchases</th>\n",
       "      <th>monetary_value</th>\n",
       "    </tr>\n",
       "    <tr>\n",
       "      <th>id_prod</th>\n",
       "      <th></th>\n",
       "      <th></th>\n",
       "    </tr>\n",
       "  </thead>\n",
       "  <tbody>\n",
       "    <tr>\n",
       "      <th>0_1539</th>\n",
       "      <td>1</td>\n",
       "      <td>0.99</td>\n",
       "    </tr>\n",
       "    <tr>\n",
       "      <th>0_1840</th>\n",
       "      <td>1</td>\n",
       "      <td>1.28</td>\n",
       "    </tr>\n",
       "    <tr>\n",
       "      <th>0_1284</th>\n",
       "      <td>1</td>\n",
       "      <td>1.38</td>\n",
       "    </tr>\n",
       "    <tr>\n",
       "      <th>0_1653</th>\n",
       "      <td>2</td>\n",
       "      <td>1.98</td>\n",
       "    </tr>\n",
       "    <tr>\n",
       "      <th>0_541</th>\n",
       "      <td>1</td>\n",
       "      <td>1.99</td>\n",
       "    </tr>\n",
       "  </tbody>\n",
       "</table>\n",
       "</div>"
      ],
      "text/plain": [
       "         number_purchases  monetary_value\n",
       "id_prod                                  \n",
       "0_1539                  1            0.99\n",
       "0_1840                  1            1.28\n",
       "0_1284                  1            1.38\n",
       "0_1653                  2            1.98\n",
       "0_541                   1            1.99"
      ]
     },
     "execution_count": 60,
     "metadata": {},
     "output_type": "execute_result"
    }
   ],
   "source": [
    "#Affichage des pires produits en terme de CA\n",
    "pire_prod_montant.head()"
   ]
  },
  {
   "cell_type": "markdown",
   "id": "910b21df",
   "metadata": {},
   "source": [
    "### Flop produits en terme de ventes"
   ]
  },
  {
   "cell_type": "code",
   "execution_count": 61,
   "id": "ac54ee3e",
   "metadata": {},
   "outputs": [],
   "source": [
    "pires_prod_nb_achats = df_prod.sort_values(by=['number_purchases'], ascending = True)"
   ]
  },
  {
   "cell_type": "code",
   "execution_count": 62,
   "id": "c6e6a86a",
   "metadata": {},
   "outputs": [
    {
     "data": {
      "text/html": [
       "<div>\n",
       "<style scoped>\n",
       "    .dataframe tbody tr th:only-of-type {\n",
       "        vertical-align: middle;\n",
       "    }\n",
       "\n",
       "    .dataframe tbody tr th {\n",
       "        vertical-align: top;\n",
       "    }\n",
       "\n",
       "    .dataframe thead th {\n",
       "        text-align: right;\n",
       "    }\n",
       "</style>\n",
       "<table border=\"1\" class=\"dataframe\">\n",
       "  <thead>\n",
       "    <tr style=\"text-align: right;\">\n",
       "      <th></th>\n",
       "      <th>number_purchases</th>\n",
       "      <th>monetary_value</th>\n",
       "    </tr>\n",
       "    <tr>\n",
       "      <th>id_prod</th>\n",
       "      <th></th>\n",
       "      <th></th>\n",
       "    </tr>\n",
       "  </thead>\n",
       "  <tbody>\n",
       "    <tr>\n",
       "      <th>0_886</th>\n",
       "      <td>1</td>\n",
       "      <td>21.82</td>\n",
       "    </tr>\n",
       "    <tr>\n",
       "      <th>0_1633</th>\n",
       "      <td>1</td>\n",
       "      <td>24.99</td>\n",
       "    </tr>\n",
       "    <tr>\n",
       "      <th>0_1728</th>\n",
       "      <td>1</td>\n",
       "      <td>2.27</td>\n",
       "    </tr>\n",
       "    <tr>\n",
       "      <th>2_77</th>\n",
       "      <td>1</td>\n",
       "      <td>145.99</td>\n",
       "    </tr>\n",
       "    <tr>\n",
       "      <th>0_1379</th>\n",
       "      <td>1</td>\n",
       "      <td>2.99</td>\n",
       "    </tr>\n",
       "  </tbody>\n",
       "</table>\n",
       "</div>"
      ],
      "text/plain": [
       "         number_purchases  monetary_value\n",
       "id_prod                                  \n",
       "0_886                   1           21.82\n",
       "0_1633                  1           24.99\n",
       "0_1728                  1            2.27\n",
       "2_77                    1          145.99\n",
       "0_1379                  1            2.99"
      ]
     },
     "execution_count": 62,
     "metadata": {},
     "output_type": "execute_result"
    }
   ],
   "source": [
    "#Affichage des pires produits en terme de ventes\n",
    "pires_prod_nb_achats.head()"
   ]
  },
  {
   "cell_type": "markdown",
   "id": "4030e3c2",
   "metadata": {},
   "source": [
    "### Répartition par catégories"
   ]
  },
  {
   "cell_type": "code",
   "execution_count": 63,
   "id": "8d6d6e2c",
   "metadata": {},
   "outputs": [],
   "source": [
    "# On Crée un sous-df avec un groupby sur la colonne \"categ\"\n",
    "\n",
    "df_categ = df_fusionne.groupby([\"categ\"]).agg({\"client_id\" : 'count', \"price\" : \"sum\"})\n",
    "\n",
    "df_categ.rename(columns={\"client_id\" : \"total_purchases\", \"price\" : \"monetary_value\"}, inplace=True)\n",
    "\n",
    "df_categ=pd.DataFrame(df_categ)\n",
    "df_categ.reset_index(inplace=True)"
   ]
  },
  {
   "cell_type": "code",
   "execution_count": 64,
   "id": "9477228e",
   "metadata": {},
   "outputs": [
    {
     "data": {
      "image/png": "[encoded data removed]",
      "text/plain": [
       "<Figure size 576x576 with 1 Axes>"
      ]
     },
     "metadata": {},
     "output_type": "display_data"
    }
   ],
   "source": [
    "#On affiche le CA en fonction des catégories\n",
    "sns.set()\n",
    "plt.figure(figsize=(8,8))\n",
    "plt.pie(df_categ.monetary_value, labels=df_categ.categ, shadow=False, startangle=90, autopct='%1.1f%%')\n",
    "plt.title(\"CA en fonction des catégories\", fontsize = 'x-large')\n",
    "plt.legend(title=\"Catégorie\")\n",
    "plt.show()"
   ]
  },
  {
   "cell_type": "code",
   "execution_count": 65,
   "id": "eec1290a",
   "metadata": {},
   "outputs": [
    {
     "data": {
      "image/png": "[encoded data removed]",
      "text/plain": [
       "<Figure size 576x576 with 1 Axes>"
      ]
     },
     "metadata": {},
     "output_type": "display_data"
    }
   ],
   "source": [
    "#On affiche la fréquence d'achat selon les catégories\n",
    "plt.figure(figsize=(8,8))\n",
    "plt.pie(df_categ.total_purchases, labels=df_categ.categ, shadow=False, startangle=90, autopct='%1.1f%%')\n",
    "plt.title(\"Fréquence d'achat selon les catégories\", fontsize = 'x-large')\n",
    "plt.legend(title=\"Catégorie\")\n",
    "plt.show()\n"
   ]
  },
  {
   "cell_type": "code",
   "execution_count": 66,
   "id": "3a365085",
   "metadata": {},
   "outputs": [
    {
     "data": {
      "image/png": "[encoded data removed]",
      "text/plain": [
       "<Figure size 2160x1080 with 1 Axes>"
      ]
     },
     "metadata": {},
     "output_type": "display_data"
    }
   ],
   "source": [
    "products.categ=products.categ.astype(\"category\")\n",
    "\n",
    "meanprops = {'marker':'o', 'markeredgecolor':'black','markerfacecolor':'firebrick', \"markersize\":'15'}\n",
    "\n",
    "plt.figure(figsize=(30,15))\n",
    "sns.boxplot(y=\"categ\", x=\"price\",data=products, showmeans=True, meanprops=meanprops)\n",
    "plt.title('Répartition des prix en fonction de la catégorie', fontsize='43')\n",
    "plt.xlabel('Prix', fontsize='30')\n",
    "plt.ylabel(\"Catégories\", fontsize='30')\n",
    "plt.xticks(fontsize=25)\n",
    "plt.yticks(fontsize=25)\n",
    "plt.show()"
   ]
  },
  {
   "cell_type": "markdown",
   "id": "70b02268",
   "metadata": {},
   "source": [
    "# Partie 5 : Analyse des clients\n"
   ]
  },
  {
   "cell_type": "code",
   "execution_count": 67,
   "id": "f9bd8aea",
   "metadata": {},
   "outputs": [
    {
     "data": {
      "text/html": [
       "<div>\n",
       "<style scoped>\n",
       "    .dataframe tbody tr th:only-of-type {\n",
       "        vertical-align: middle;\n",
       "    }\n",
       "\n",
       "    .dataframe tbody tr th {\n",
       "        vertical-align: top;\n",
       "    }\n",
       "\n",
       "    .dataframe thead th {\n",
       "        text-align: right;\n",
       "    }\n",
       "</style>\n",
       "<table border=\"1\" class=\"dataframe\">\n",
       "  <thead>\n",
       "    <tr style=\"text-align: right;\">\n",
       "      <th></th>\n",
       "      <th>age</th>\n",
       "      <th>sex</th>\n",
       "    </tr>\n",
       "    <tr>\n",
       "      <th>client_id</th>\n",
       "      <th></th>\n",
       "      <th></th>\n",
       "    </tr>\n",
       "  </thead>\n",
       "  <tbody>\n",
       "    <tr>\n",
       "      <th>c_1</th>\n",
       "      <td>67</td>\n",
       "      <td>m</td>\n",
       "    </tr>\n",
       "    <tr>\n",
       "      <th>c_10</th>\n",
       "      <td>66</td>\n",
       "      <td>m</td>\n",
       "    </tr>\n",
       "    <tr>\n",
       "      <th>c_100</th>\n",
       "      <td>30</td>\n",
       "      <td>m</td>\n",
       "    </tr>\n",
       "    <tr>\n",
       "      <th>c_1000</th>\n",
       "      <td>56</td>\n",
       "      <td>f</td>\n",
       "    </tr>\n",
       "    <tr>\n",
       "      <th>c_1001</th>\n",
       "      <td>40</td>\n",
       "      <td>m</td>\n",
       "    </tr>\n",
       "  </tbody>\n",
       "</table>\n",
       "</div>"
      ],
      "text/plain": [
       "           age sex\n",
       "client_id         \n",
       "c_1         67   m\n",
       "c_10        66   m\n",
       "c_100       30   m\n",
       "c_1000      56   f\n",
       "c_1001      40   m"
      ]
     },
     "execution_count": 67,
     "metadata": {},
     "output_type": "execute_result"
    }
   ],
   "source": [
    "#On répartit en fonction de l'âge et du sexe\n",
    "\n",
    "clients_age = df_fusionne[[\"client_id\", \"age\", \"sex\"]].groupby(\"client_id\").max()\n",
    "clients_age = pd.DataFrame(data=clients_age, columns=['age', 'sex'])\n",
    "clients_age.head()"
   ]
  },
  {
   "cell_type": "code",
   "execution_count": 68,
   "id": "e83465ba",
   "metadata": {},
   "outputs": [
    {
     "data": {
      "image/png": "[encoded data removed]",
      "text/plain": [
       "<Figure size 1080x576 with 1 Axes>"
      ]
     },
     "metadata": {},
     "output_type": "display_data"
    }
   ],
   "source": [
    "#On affiche un graphique en fonction de l'age et du sexe des clients corriger graphe\n",
    "sns.set_theme(style=\"darkgrid\")\n",
    "\n",
    "plt.figure(figsize=(15,8))\n",
    "plt.title(\"Distribution des clients en fonction de l'âge\", fontsize='xx-large')\n",
    "plt.xlabel('Âge (années)', fontsize='large')\n",
    "plt.ylabel('Nombre de Clients', fontsize='large')\n",
    "sns.histplot(data=clients_age, x=\"age\", hue=\"sex\", multiple=\"stack\", bins=75)\n",
    "plt.legend([\"Femme\", \"Homme\"], title=\"Sexe\")\n",
    "plt.show()"
   ]
  },
  {
   "cell_type": "code",
   "execution_count": 69,
   "id": "b05e57f4",
   "metadata": {},
   "outputs": [
    {
     "name": "stderr",
     "output_type": "stream",
     "text": [
      "C:\\Users\\YaniSai\\anaconda3\\lib\\site-packages\\researchpy\\ttest.py:38: FutureWarning: The series.append method is deprecated and will be removed from pandas in a future version. Use pandas.concat instead.\n",
      "  groups = group1.append(group2, ignore_index= True)\n"
     ]
    },
    {
     "data": {
      "text/plain": [
       "(   Variable         N       Mean         SD        SE  95% Conf.   Interval\n",
       " 0      Male  306959.0  44.194195  12.800503  0.023104  44.148912  44.239478\n",
       " 1    Female  303719.0  45.378317  13.401883  0.024318  45.330654  45.425980\n",
       " 2  combined  610678.0  44.783115  13.116406  0.016785  44.750218  44.816012,\n",
       "               Independent t-test      results\n",
       " 0  Difference (Male - Female) =       -1.1841\n",
       " 1          Degrees of freedom =   610676.0000\n",
       " 2                           t =      -35.3097\n",
       " 3       Two side test p value =        0.0000\n",
       " 4      Difference < 0 p value =        0.0000\n",
       " 5      Difference > 0 p value =        1.0000\n",
       " 6                   Cohen's d =       -0.0904\n",
       " 7                   Hedge's g =       -0.0904\n",
       " 8              Glass's delta1 =       -0.0925\n",
       " 9            Point-Biserial r =       -0.0451)"
      ]
     },
     "execution_count": 69,
     "metadata": {},
     "output_type": "execute_result"
    }
   ],
   "source": [
    "#On masque la tranche d'age 18 ans pour effectuer un test de student\n",
    "df_student=df_fusionne.mask(df_fusionne.age==18)\n",
    "rp.ttest(group1= df_student['age'][df_student['sex']=='m'], group1_name = 'Male',\n",
    "        group2= df_student['age'][df_student['sex']=='f'], group2_name = 'Female')"
   ]
  },
  {
   "cell_type": "code",
   "execution_count": 70,
   "id": "be966090",
   "metadata": {},
   "outputs": [
    {
     "name": "stderr",
     "output_type": "stream",
     "text": [
      "C:\\Users\\YaniSai\\anaconda3\\lib\\site-packages\\scipy\\stats\\morestats.py:1760: UserWarning: p-value may not be accurate for N > 5000.\n",
      "  warnings.warn(\"p-value may not be accurate for N > 5000.\")\n"
     ]
    },
    {
     "name": "stdout",
     "output_type": "stream",
     "text": [
      "0.0\n",
      "0.0\n"
     ]
    }
   ],
   "source": [
    "# On Contrôle la normalité des échantillons 'age' et 'sex'\n",
    "\n",
    "X1 = df_student['age'][df_student['sex']=='m']\n",
    "\n",
    "X2 = df_student['age'][df_student['sex']=='f']\n",
    "\n",
    "x1, pval1 = shapiro(X1)\n",
    "\n",
    "x2, pval2 = shapiro(X2)\n",
    "\n",
    "print(pval1)\n",
    "\n",
    "print(pval2)"
   ]
  },
  {
   "cell_type": "code",
   "execution_count": 71,
   "id": "4745003e",
   "metadata": {},
   "outputs": [
    {
     "data": {
      "text/plain": [
       "F_onewayResult(statistic=1246.7745413716862, pvalue=7.879212718921483e-273)"
      ]
     },
     "execution_count": 71,
     "metadata": {},
     "output_type": "execute_result"
    }
   ],
   "source": [
    "#On Contrôle l'égalité des variances :\n",
    "\n",
    "# Fisher-Snedecor F-test\n",
    "\n",
    "f(X1,X2)\n",
    "\n",
    "\n",
    "# Anova unidirectionnelle\n",
    "\n",
    "stats.f_oneway(X1,X2)"
   ]
  },
  {
   "cell_type": "code",
   "execution_count": 72,
   "id": "c38a86db",
   "metadata": {},
   "outputs": [
    {
     "name": "stdout",
     "output_type": "stream",
     "text": [
      "Ttest_indResult(statistic=-35.30969472215366, pvalue=7.879212724264958e-273)\n"
     ]
    }
   ],
   "source": [
    "#On Compare les deux échantillons pour voir s'ils sont significativement différents\n",
    "\n",
    "y = stats.ttest_ind(X1,X2) ; print(y)"
   ]
  },
  {
   "cell_type": "code",
   "execution_count": 73,
   "id": "613c221f",
   "metadata": {},
   "outputs": [
    {
     "data": {
      "text/plain": [
       "(8600,)"
      ]
     },
     "execution_count": 73,
     "metadata": {},
     "output_type": "execute_result"
    }
   ],
   "source": [
    "#On affiche le nombre de clients uniques\n",
    "df_fusionne.client_id.value_counts().shape"
   ]
  },
  {
   "cell_type": "code",
   "execution_count": 74,
   "id": "78a2f5f0",
   "metadata": {},
   "outputs": [
    {
     "data": {
      "text/html": [
       "<div>\n",
       "<style scoped>\n",
       "    .dataframe tbody tr th:only-of-type {\n",
       "        vertical-align: middle;\n",
       "    }\n",
       "\n",
       "    .dataframe tbody tr th {\n",
       "        vertical-align: top;\n",
       "    }\n",
       "\n",
       "    .dataframe thead th {\n",
       "        text-align: right;\n",
       "    }\n",
       "</style>\n",
       "<table border=\"1\" class=\"dataframe\">\n",
       "  <thead>\n",
       "    <tr style=\"text-align: right;\">\n",
       "      <th></th>\n",
       "      <th>price</th>\n",
       "    </tr>\n",
       "    <tr>\n",
       "      <th>client_id</th>\n",
       "      <th></th>\n",
       "    </tr>\n",
       "  </thead>\n",
       "  <tbody>\n",
       "    <tr>\n",
       "      <th>c_1</th>\n",
       "      <td>513.89</td>\n",
       "    </tr>\n",
       "    <tr>\n",
       "      <th>c_10</th>\n",
       "      <td>1189.11</td>\n",
       "    </tr>\n",
       "    <tr>\n",
       "      <th>c_100</th>\n",
       "      <td>254.85</td>\n",
       "    </tr>\n",
       "    <tr>\n",
       "      <th>c_1000</th>\n",
       "      <td>2168.99</td>\n",
       "    </tr>\n",
       "    <tr>\n",
       "      <th>c_1001</th>\n",
       "      <td>1669.27</td>\n",
       "    </tr>\n",
       "  </tbody>\n",
       "</table>\n",
       "</div>"
      ],
      "text/plain": [
       "             price\n",
       "client_id         \n",
       "c_1         513.89\n",
       "c_10       1189.11\n",
       "c_100       254.85\n",
       "c_1000     2168.99\n",
       "c_1001     1669.27"
      ]
     },
     "execution_count": 74,
     "metadata": {},
     "output_type": "execute_result"
    }
   ],
   "source": [
    "# Je regroupe mes données par client_id et j'affiche le montant de leurs achats.\n",
    "df_client = df_fusionne.groupby('client_id',)[['price']].sum();\n",
    "df_client.head()"
   ]
  },
  {
   "cell_type": "code",
   "execution_count": 75,
   "id": "3471e1f1",
   "metadata": {},
   "outputs": [
    {
     "data": {
      "text/html": [
       "<div>\n",
       "<style scoped>\n",
       "    .dataframe tbody tr th:only-of-type {\n",
       "        vertical-align: middle;\n",
       "    }\n",
       "\n",
       "    .dataframe tbody tr th {\n",
       "        vertical-align: top;\n",
       "    }\n",
       "\n",
       "    .dataframe thead th {\n",
       "        text-align: right;\n",
       "    }\n",
       "</style>\n",
       "<table border=\"1\" class=\"dataframe\">\n",
       "  <thead>\n",
       "    <tr style=\"text-align: right;\">\n",
       "      <th></th>\n",
       "      <th>price</th>\n",
       "    </tr>\n",
       "    <tr>\n",
       "      <th>client_id</th>\n",
       "      <th></th>\n",
       "    </tr>\n",
       "  </thead>\n",
       "  <tbody>\n",
       "    <tr>\n",
       "      <th>c_1609</th>\n",
       "      <td>299489.27</td>\n",
       "    </tr>\n",
       "    <tr>\n",
       "      <th>c_4958</th>\n",
       "      <td>266768.28</td>\n",
       "    </tr>\n",
       "    <tr>\n",
       "      <th>c_6714</th>\n",
       "      <td>139623.29</td>\n",
       "    </tr>\n",
       "    <tr>\n",
       "      <th>c_3454</th>\n",
       "      <td>103881.22</td>\n",
       "    </tr>\n",
       "    <tr>\n",
       "      <th>c_3263</th>\n",
       "      <td>5025.11</td>\n",
       "    </tr>\n",
       "    <tr>\n",
       "      <th>...</th>\n",
       "      <td>...</td>\n",
       "    </tr>\n",
       "    <tr>\n",
       "      <th>c_4648</th>\n",
       "      <td>11.20</td>\n",
       "    </tr>\n",
       "    <tr>\n",
       "      <th>c_240</th>\n",
       "      <td>11.06</td>\n",
       "    </tr>\n",
       "    <tr>\n",
       "      <th>c_8114</th>\n",
       "      <td>9.98</td>\n",
       "    </tr>\n",
       "    <tr>\n",
       "      <th>c_8140</th>\n",
       "      <td>8.30</td>\n",
       "    </tr>\n",
       "    <tr>\n",
       "      <th>c_8351</th>\n",
       "      <td>6.31</td>\n",
       "    </tr>\n",
       "  </tbody>\n",
       "</table>\n",
       "<p>8600 rows × 1 columns</p>\n",
       "</div>"
      ],
      "text/plain": [
       "               price\n",
       "client_id           \n",
       "c_1609     299489.27\n",
       "c_4958     266768.28\n",
       "c_6714     139623.29\n",
       "c_3454     103881.22\n",
       "c_3263       5025.11\n",
       "...              ...\n",
       "c_4648         11.20\n",
       "c_240          11.06\n",
       "c_8114          9.98\n",
       "c_8140          8.30\n",
       "c_8351          6.31\n",
       "\n",
       "[8600 rows x 1 columns]"
      ]
     },
     "execution_count": 75,
     "metadata": {},
     "output_type": "execute_result"
    }
   ],
   "source": [
    "# Je tri les données de la colonne price par ordre décroissant pour avoir les clients ayant dépensé le plus\n",
    "df_client.sort_values('price', ascending = False)"
   ]
  },
  {
   "cell_type": "markdown",
   "id": "6364514c",
   "metadata": {},
   "source": [
    "### On a 4 gros clients, probablement des entreprises "
   ]
  },
  {
   "cell_type": "code",
   "execution_count": 76,
   "id": "42ff7904",
   "metadata": {},
   "outputs": [],
   "source": [
    "# Je crée un nouveau dataframe qui contient toutes les données des 4 clients\n",
    "df_4_clients = df_fusionne.loc[(df_fusionne['client_id']=='c_1609')|(df_fusionne['client_id']=='c_4958')|(df_fusionne['client_id']=='c_6714')\n",
    "                      |(df_fusionne['client_id']=='c_3454'),:]"
   ]
  },
  {
   "cell_type": "code",
   "execution_count": 77,
   "id": "7a7f399c",
   "metadata": {},
   "outputs": [
    {
     "data": {
      "text/html": [
       "<div>\n",
       "<style scoped>\n",
       "    .dataframe tbody tr th:only-of-type {\n",
       "        vertical-align: middle;\n",
       "    }\n",
       "\n",
       "    .dataframe tbody tr th {\n",
       "        vertical-align: top;\n",
       "    }\n",
       "\n",
       "    .dataframe thead th {\n",
       "        text-align: right;\n",
       "    }\n",
       "</style>\n",
       "<table border=\"1\" class=\"dataframe\">\n",
       "  <thead>\n",
       "    <tr style=\"text-align: right;\">\n",
       "      <th></th>\n",
       "      <th>client_id</th>\n",
       "      <th>sex</th>\n",
       "      <th>birth</th>\n",
       "      <th>age</th>\n",
       "      <th>id_prod</th>\n",
       "      <th>price</th>\n",
       "      <th>categ</th>\n",
       "      <th>date</th>\n",
       "      <th>session_id</th>\n",
       "      <th>hour</th>\n",
       "      <th>année</th>\n",
       "      <th>mois</th>\n",
       "      <th>jour</th>\n",
       "    </tr>\n",
       "  </thead>\n",
       "  <tbody>\n",
       "    <tr>\n",
       "      <th>101787</th>\n",
       "      <td>c_4958</td>\n",
       "      <td>m</td>\n",
       "      <td>1999</td>\n",
       "      <td>23</td>\n",
       "      <td>1_587</td>\n",
       "      <td>4.99</td>\n",
       "      <td>1</td>\n",
       "      <td>2022-10-17</td>\n",
       "      <td>s_283920</td>\n",
       "      <td>18:53:48.958205</td>\n",
       "      <td>2022</td>\n",
       "      <td>10</td>\n",
       "      <td>17</td>\n",
       "    </tr>\n",
       "    <tr>\n",
       "      <th>101788</th>\n",
       "      <td>c_4958</td>\n",
       "      <td>m</td>\n",
       "      <td>1999</td>\n",
       "      <td>23</td>\n",
       "      <td>1_587</td>\n",
       "      <td>4.99</td>\n",
       "      <td>1</td>\n",
       "      <td>2022-08-17</td>\n",
       "      <td>s_254678</td>\n",
       "      <td>18:53:48.958205</td>\n",
       "      <td>2022</td>\n",
       "      <td>8</td>\n",
       "      <td>17</td>\n",
       "    </tr>\n",
       "    <tr>\n",
       "      <th>101789</th>\n",
       "      <td>c_4958</td>\n",
       "      <td>m</td>\n",
       "      <td>1999</td>\n",
       "      <td>23</td>\n",
       "      <td>1_587</td>\n",
       "      <td>4.99</td>\n",
       "      <td>1</td>\n",
       "      <td>2021-11-17</td>\n",
       "      <td>s_121110</td>\n",
       "      <td>18:53:48.958205</td>\n",
       "      <td>2021</td>\n",
       "      <td>11</td>\n",
       "      <td>17</td>\n",
       "    </tr>\n",
       "    <tr>\n",
       "      <th>101790</th>\n",
       "      <td>c_4958</td>\n",
       "      <td>m</td>\n",
       "      <td>1999</td>\n",
       "      <td>23</td>\n",
       "      <td>1_587</td>\n",
       "      <td>4.99</td>\n",
       "      <td>1</td>\n",
       "      <td>2022-04-17</td>\n",
       "      <td>s_195468</td>\n",
       "      <td>18:53:48.958205</td>\n",
       "      <td>2022</td>\n",
       "      <td>4</td>\n",
       "      <td>17</td>\n",
       "    </tr>\n",
       "    <tr>\n",
       "      <th>101791</th>\n",
       "      <td>c_4958</td>\n",
       "      <td>m</td>\n",
       "      <td>1999</td>\n",
       "      <td>23</td>\n",
       "      <td>2_228</td>\n",
       "      <td>225.17</td>\n",
       "      <td>2</td>\n",
       "      <td>2022-06-06</td>\n",
       "      <td>s_219702</td>\n",
       "      <td>14:19:53.356847</td>\n",
       "      <td>2022</td>\n",
       "      <td>6</td>\n",
       "      <td>6</td>\n",
       "    </tr>\n",
       "    <tr>\n",
       "      <th>...</th>\n",
       "      <td>...</td>\n",
       "      <td>...</td>\n",
       "      <td>...</td>\n",
       "      <td>...</td>\n",
       "      <td>...</td>\n",
       "      <td>...</td>\n",
       "      <td>...</td>\n",
       "      <td>...</td>\n",
       "      <td>...</td>\n",
       "      <td>...</td>\n",
       "      <td>...</td>\n",
       "      <td>...</td>\n",
       "      <td>...</td>\n",
       "    </tr>\n",
       "    <tr>\n",
       "      <th>640600</th>\n",
       "      <td>c_3454</td>\n",
       "      <td>m</td>\n",
       "      <td>1969</td>\n",
       "      <td>53</td>\n",
       "      <td>1_651</td>\n",
       "      <td>18.99</td>\n",
       "      <td>1</td>\n",
       "      <td>2021-03-10</td>\n",
       "      <td>s_4474</td>\n",
       "      <td>17:09:23.564749</td>\n",
       "      <td>2021</td>\n",
       "      <td>3</td>\n",
       "      <td>10</td>\n",
       "    </tr>\n",
       "    <tr>\n",
       "      <th>640601</th>\n",
       "      <td>c_3454</td>\n",
       "      <td>m</td>\n",
       "      <td>1969</td>\n",
       "      <td>53</td>\n",
       "      <td>1_651</td>\n",
       "      <td>18.99</td>\n",
       "      <td>1</td>\n",
       "      <td>2022-08-25</td>\n",
       "      <td>s_258288</td>\n",
       "      <td>14:43:08.578786</td>\n",
       "      <td>2022</td>\n",
       "      <td>8</td>\n",
       "      <td>25</td>\n",
       "    </tr>\n",
       "    <tr>\n",
       "      <th>640602</th>\n",
       "      <td>c_3454</td>\n",
       "      <td>m</td>\n",
       "      <td>1969</td>\n",
       "      <td>53</td>\n",
       "      <td>0_2001</td>\n",
       "      <td>7.99</td>\n",
       "      <td>0</td>\n",
       "      <td>2022-01-16</td>\n",
       "      <td>s_150684</td>\n",
       "      <td>14:26:31.241993</td>\n",
       "      <td>2022</td>\n",
       "      <td>1</td>\n",
       "      <td>16</td>\n",
       "    </tr>\n",
       "    <tr>\n",
       "      <th>640603</th>\n",
       "      <td>c_3454</td>\n",
       "      <td>m</td>\n",
       "      <td>1969</td>\n",
       "      <td>53</td>\n",
       "      <td>1_387</td>\n",
       "      <td>9.99</td>\n",
       "      <td>1</td>\n",
       "      <td>2022-04-14</td>\n",
       "      <td>s_193823</td>\n",
       "      <td>06:58:26.437656</td>\n",
       "      <td>2022</td>\n",
       "      <td>4</td>\n",
       "      <td>14</td>\n",
       "    </tr>\n",
       "    <tr>\n",
       "      <th>640604</th>\n",
       "      <td>c_3454</td>\n",
       "      <td>m</td>\n",
       "      <td>1969</td>\n",
       "      <td>53</td>\n",
       "      <td>1_387</td>\n",
       "      <td>9.99</td>\n",
       "      <td>1</td>\n",
       "      <td>2021-11-14</td>\n",
       "      <td>s_119415</td>\n",
       "      <td>06:58:26.437656</td>\n",
       "      <td>2021</td>\n",
       "      <td>11</td>\n",
       "      <td>14</td>\n",
       "    </tr>\n",
       "  </tbody>\n",
       "</table>\n",
       "<p>42938 rows × 13 columns</p>\n",
       "</div>"
      ],
      "text/plain": [
       "       client_id sex  birth  age id_prod   price  categ       date session_id  \\\n",
       "101787    c_4958   m   1999   23   1_587    4.99      1 2022-10-17   s_283920   \n",
       "101788    c_4958   m   1999   23   1_587    4.99      1 2022-08-17   s_254678   \n",
       "101789    c_4958   m   1999   23   1_587    4.99      1 2021-11-17   s_121110   \n",
       "101790    c_4958   m   1999   23   1_587    4.99      1 2022-04-17   s_195468   \n",
       "101791    c_4958   m   1999   23   2_228  225.17      2 2022-06-06   s_219702   \n",
       "...          ...  ..    ...  ...     ...     ...    ...        ...        ...   \n",
       "640600    c_3454   m   1969   53   1_651   18.99      1 2021-03-10     s_4474   \n",
       "640601    c_3454   m   1969   53   1_651   18.99      1 2022-08-25   s_258288   \n",
       "640602    c_3454   m   1969   53  0_2001    7.99      0 2022-01-16   s_150684   \n",
       "640603    c_3454   m   1969   53   1_387    9.99      1 2022-04-14   s_193823   \n",
       "640604    c_3454   m   1969   53   1_387    9.99      1 2021-11-14   s_119415   \n",
       "\n",
       "                   hour  année  mois  jour  \n",
       "101787  18:53:48.958205   2022    10    17  \n",
       "101788  18:53:48.958205   2022     8    17  \n",
       "101789  18:53:48.958205   2021    11    17  \n",
       "101790  18:53:48.958205   2022     4    17  \n",
       "101791  14:19:53.356847   2022     6     6  \n",
       "...                 ...    ...   ...   ...  \n",
       "640600  17:09:23.564749   2021     3    10  \n",
       "640601  14:43:08.578786   2022     8    25  \n",
       "640602  14:26:31.241993   2022     1    16  \n",
       "640603  06:58:26.437656   2022     4    14  \n",
       "640604  06:58:26.437656   2021    11    14  \n",
       "\n",
       "[42938 rows x 13 columns]"
      ]
     },
     "execution_count": 77,
     "metadata": {},
     "output_type": "execute_result"
    }
   ],
   "source": [
    "df_4_clients"
   ]
  },
  {
   "cell_type": "code",
   "execution_count": 78,
   "id": "11a459b5",
   "metadata": {},
   "outputs": [
    {
     "name": "stdout",
     "output_type": "stream",
     "text": [
      "Les 4 plus gros clients représentent environ 7.45 % du chiffre d'affaire total\n"
     ]
    }
   ],
   "source": [
    "moyenne_ca = (df_4_clients['price'].sum()/df_fusionne['price'].sum())*100\n",
    "print(\"Les 4 plus gros clients représentent environ\", round((moyenne_ca),2),\"%\" , \"du chiffre d'affaire total\")"
   ]
  },
  {
   "cell_type": "code",
   "execution_count": 79,
   "id": "bf838454",
   "metadata": {},
   "outputs": [],
   "source": [
    "# Je crée une dataframe par client\n",
    "client_1609 = df_4_clients.loc[df_4_clients['client_id']=='c_1609',:]\n",
    "client_4958 = df_4_clients.loc[df_4_clients['client_id']=='c_4958',:]\n",
    "client_6714 = df_4_clients.loc[df_4_clients['client_id']=='c_6714',:]\n",
    "client_3454 = df_4_clients.loc[df_4_clients['client_id']=='c_3454',:]"
   ]
  },
  {
   "cell_type": "code",
   "execution_count": 80,
   "id": "28aa321c",
   "metadata": {},
   "outputs": [],
   "source": [
    "# J'effectue un pivot en prenant comme index l'anéne et le mois, j'affiche les catégories de produits et le CA par catégorie\n",
    "client_1609_categ = pd.pivot_table(client_1609, index = ['année','mois'], columns = 'categ', values = 'price',aggfunc={'price':'sum'});\n",
    "client_4958_categ = pd.pivot_table(client_4958, index = ['année','mois'], columns = 'categ', values = 'price',aggfunc={'price':'sum'});\n",
    "client_6714_categ = pd.pivot_table(client_6714, index = ['année','mois'], columns = 'categ', values = 'price',aggfunc={'price':'sum'});\n",
    "client_3454_categ = pd.pivot_table(client_3454, index = ['année','mois'], columns = 'categ', values = 'price',aggfunc={'price':'sum'});"
   ]
  },
  {
   "cell_type": "markdown",
   "id": "909bdf61",
   "metadata": {},
   "source": [
    "## On va afficher les dépenses par catégorie de ces 4 gros clients "
   ]
  },
  {
   "cell_type": "code",
   "execution_count": 81,
   "id": "a4178d09",
   "metadata": {},
   "outputs": [
    {
     "data": {
      "image/png": "[encoded data removed]",
      "text/plain": [
       "<Figure size 1296x1224 with 4 Axes>"
      ]
     },
     "metadata": {},
     "output_type": "display_data"
    }
   ],
   "source": [
    "fig, axes = plt.subplots(nrows=2, ncols=2,figsize=(18, 17))\n",
    "\n",
    "client_1609_categ.plot(kind= 'bar',stacked = True, ax=axes[0,0]); axes[0,0].set_title('client_1609'); \n",
    "\n",
    "\n",
    "client_4958_categ.plot(kind= 'bar',stacked = True, ax=axes[0,1]); axes[0,1].set_title('client_4958')\n",
    "\n",
    "\n",
    "client_6714_categ.plot(kind= 'bar',stacked = True, ax=axes[1,0]); axes[1,0].set_title('client_6714')\n",
    "\n",
    "\n",
    "client_3454_categ.plot(kind= 'bar',stacked = True, ax=axes[1,1]); axes[1,1].set_title('client_3454')\n",
    "\n",
    "for ax in fig.axes:\n",
    "    plt.sca(ax) # définit l’Axes courant à celui fourni par l’objet ax\n",
    "    plt.xticks(rotation=45, ha ='right')\n",
    "    \n",
    "plt.show()"
   ]
  },
  {
   "cell_type": "code",
   "execution_count": 82,
   "id": "98624264",
   "metadata": {},
   "outputs": [
    {
     "data": {
      "image/png": "[encoded data removed]",
      "text/plain": [
       "<Figure size 432x288 with 1 Axes>"
      ]
     },
     "metadata": {},
     "output_type": "display_data"
    },
    {
     "name": "stdout",
     "output_type": "stream",
     "text": [
      "indice de gini: 0.45\n"
     ]
    }
   ],
   "source": [
    "#Création de la courbe de Lorenz\n",
    "cum = df_client.cumsum()\n",
    "dep = df_client['price']\n",
    "n = len(cum)\n",
    "lorenz = np.cumsum(np.sort(dep)) / dep.sum()\n",
    "lorenz = np.append([0],lorenz) # La courbe de Lorenz commence à 0\n",
    "\n",
    "medial = lorenz[(lorenz < 0.5)].size / lorenz.size # Calcul de l'intersection\n",
    "\n",
    "plt.plot(np.linspace(0,1,len(lorenz)), lorenz, drawstyle='steps-post', color='rosybrown', label='Lorenz')\n",
    "plt.plot(np.linspace(0,1,len(lorenz)), np.linspace(0,1,len(lorenz)), dashes=[2,4], color='#539ecd')\n",
    "\n",
    "plt.vlines(medial, ymin=0, ymax=.5, color='blue', linestyle='--', linewidth=1, label='Medial')\n",
    "plt.hlines(xmin=medial, xmax=0, y=.5, color='blue', linestyle='--', linewidth=1)\n",
    "plt.title('Courbe de Lorenz de la répartition du CA des clients')\n",
    "plt.show()\n",
    "\n",
    "aire_ss_courbe = lorenz[:-1].sum() / len(lorenz)\n",
    "S = 0.5 - aire_ss_courbe\n",
    "gini = 2*S\n",
    "print(f'indice de gini: {gini:.2f}')"
   ]
  },
  {
   "cell_type": "markdown",
   "id": "7c76dc6b",
   "metadata": {},
   "source": [
    "### 80% des gros clients apportent 45% du chiffre d'affaires"
   ]
  },
  {
   "cell_type": "markdown",
   "id": "5abac0a1",
   "metadata": {},
   "source": [
    "## Partie 6 : Correlations"
   ]
  },
  {
   "cell_type": "markdown",
   "id": "49f56e33",
   "metadata": {},
   "source": [
    "### 6.1 Lien entre le genre d’un client et les catégories des livres achetés"
   ]
  },
  {
   "cell_type": "markdown",
   "id": "2e7d41da",
   "metadata": {},
   "source": [
    "### Les vatiables \"genre\" et \"catégories\" sont des variables qualitatives, je vais donc les analyser comme ce qui suit :\n",
    "<ul>\n",
    "<li>Tableau de contingence</li>\n",
    "<li>khi-deux</li>\n",
    "<li>Heatmap</li>\n",
    "</ul>"
   ]
  },
  {
   "cell_type": "markdown",
   "id": "9b435e4b",
   "metadata": {},
   "source": [
    "### Dans cette partie, nous allons exclure les données des 4 gros clients, on va donc supprimer les lignes où le client est c_1609, c_4958, c_6714, c_3454"
   ]
  },
  {
   "cell_type": "code",
   "execution_count": 83,
   "id": "13de82a0",
   "metadata": {},
   "outputs": [],
   "source": [
    "#On masque les quatre outliers rencontrés en (plus gros montant), et les valeurs qui ont pour âge \"18\" qui ne sont pas repésentatif (outliers)\n",
    "df_fusionne=df_fusionne.mask(df_fusionne.age==18)\n",
    "\n",
    "df_fusionne.drop( df_fusionne[ df_fusionne['client_id'] == \"c_1609\" ].index, inplace=True)\n",
    "df_fusionne.drop( df_fusionne[ df_fusionne['client_id'] == \"c_4958\" ].index, inplace=True)\n",
    "df_fusionne.drop( df_fusionne[ df_fusionne['client_id'] == \"c_6714\" ].index, inplace=True)\n",
    "df_fusionne.drop( df_fusionne[ df_fusionne['client_id'] == \"c_3454\" ].index, inplace=True) \n",
    "\n",
    "df_commandes=df_commandes.mask(df_commandes.age==18)\n",
    "df_commandes.drop( df_commandes[ df_commandes['client_id'] == \"c_1609\" ].index, inplace=True)\n",
    "df_commandes.drop( df_commandes[ df_commandes['client_id'] == \"c_4958\" ].index, inplace=True)\n",
    "df_commandes.drop( df_commandes[ df_commandes['client_id'] == \"c_6714\" ].index, inplace=True)\n",
    "df_commandes.drop( df_commandes[ df_commandes['client_id'] == \"c_3454\" ].index, inplace=True)"
   ]
  },
  {
   "cell_type": "markdown",
   "id": "9cf80d2c",
   "metadata": {},
   "source": [
    "### 6.1.1) Création d'un tableau de contingence\n"
   ]
  },
  {
   "cell_type": "code",
   "execution_count": 84,
   "id": "acd6192e",
   "metadata": {},
   "outputs": [
    {
     "data": {
      "text/html": [
       "<div>\n",
       "<style scoped>\n",
       "    .dataframe tbody tr th:only-of-type {\n",
       "        vertical-align: middle;\n",
       "    }\n",
       "\n",
       "    .dataframe tbody tr th {\n",
       "        vertical-align: top;\n",
       "    }\n",
       "\n",
       "    .dataframe thead th {\n",
       "        text-align: right;\n",
       "    }\n",
       "</style>\n",
       "<table border=\"1\" class=\"dataframe\">\n",
       "  <thead>\n",
       "    <tr style=\"text-align: right;\">\n",
       "      <th>sex</th>\n",
       "      <th>f</th>\n",
       "      <th>m</th>\n",
       "    </tr>\n",
       "    <tr>\n",
       "      <th>categ</th>\n",
       "      <th></th>\n",
       "      <th></th>\n",
       "    </tr>\n",
       "  </thead>\n",
       "  <tbody>\n",
       "    <tr>\n",
       "      <th>0.0</th>\n",
       "      <td>183296</td>\n",
       "      <td>170647</td>\n",
       "    </tr>\n",
       "    <tr>\n",
       "      <th>1.0</th>\n",
       "      <td>99295</td>\n",
       "      <td>89929</td>\n",
       "    </tr>\n",
       "    <tr>\n",
       "      <th>2.0</th>\n",
       "      <td>12709</td>\n",
       "      <td>11864</td>\n",
       "    </tr>\n",
       "  </tbody>\n",
       "</table>\n",
       "</div>"
      ],
      "text/plain": [
       "sex         f       m\n",
       "categ                \n",
       "0.0    183296  170647\n",
       "1.0     99295   89929\n",
       "2.0     12709   11864"
      ]
     },
     "execution_count": 84,
     "metadata": {},
     "output_type": "execute_result"
    }
   ],
   "source": [
    "#Tableau de contingence\n",
    "X=\"categ\"\n",
    "Y=\"sex\"\n",
    "cs=df_fusionne[[X,Y]].pivot_table(index=X, columns=Y, aggfunc=len)\n",
    "cs.head()"
   ]
  },
  {
   "cell_type": "markdown",
   "id": "b0a49ef1",
   "metadata": {},
   "source": [
    "### Nous pouvons voir qu'il y a plus de ventes chez les femmes que chez les hommes dans toutes les catégories"
   ]
  },
  {
   "cell_type": "markdown",
   "id": "9c778594",
   "metadata": {},
   "source": [
    "### 6.1.2) Calcul du coefficient de Khi2\n"
   ]
  },
  {
   "cell_type": "markdown",
   "id": "0813226c",
   "metadata": {},
   "source": [
    "### Test de Khi2\n",
    "#### Avec un risque premier alpha de 5%, on émets les deux hypothèses suivantes:\n",
    "#### H0: Les deux variables (le genre d’un client et les catégories des livres achetés ) sont indépendantes\n",
    "#### H1: les deux variables ne sont pas indépendantes"
   ]
  },
  {
   "cell_type": "code",
   "execution_count": 85,
   "id": "54a73ebb",
   "metadata": {},
   "outputs": [
    {
     "data": {
      "text/html": [
       "<div>\n",
       "<style scoped>\n",
       "    .dataframe tbody tr th:only-of-type {\n",
       "        vertical-align: middle;\n",
       "    }\n",
       "\n",
       "    .dataframe tbody tr th {\n",
       "        vertical-align: top;\n",
       "    }\n",
       "\n",
       "    .dataframe thead th {\n",
       "        text-align: right;\n",
       "    }\n",
       "</style>\n",
       "<table border=\"1\" class=\"dataframe\">\n",
       "  <thead>\n",
       "    <tr style=\"text-align: right;\">\n",
       "      <th>sex</th>\n",
       "      <th>f</th>\n",
       "      <th>m</th>\n",
       "      <th>Total</th>\n",
       "    </tr>\n",
       "    <tr>\n",
       "      <th>categ</th>\n",
       "      <th></th>\n",
       "      <th></th>\n",
       "      <th></th>\n",
       "    </tr>\n",
       "  </thead>\n",
       "  <tbody>\n",
       "    <tr>\n",
       "      <th>0.0</th>\n",
       "      <td>183296.0</td>\n",
       "      <td>170647.0</td>\n",
       "      <td>353943.0</td>\n",
       "    </tr>\n",
       "    <tr>\n",
       "      <th>1.0</th>\n",
       "      <td>99295.0</td>\n",
       "      <td>89929.0</td>\n",
       "      <td>189224.0</td>\n",
       "    </tr>\n",
       "    <tr>\n",
       "      <th>2.0</th>\n",
       "      <td>12709.0</td>\n",
       "      <td>11864.0</td>\n",
       "      <td>24573.0</td>\n",
       "    </tr>\n",
       "    <tr>\n",
       "      <th>Total</th>\n",
       "      <td>295300.0</td>\n",
       "      <td>272440.0</td>\n",
       "      <td>581520.0</td>\n",
       "    </tr>\n",
       "  </tbody>\n",
       "</table>\n",
       "</div>"
      ],
      "text/plain": [
       "sex           f         m     Total\n",
       "categ                              \n",
       "0.0    183296.0  170647.0  353943.0\n",
       "1.0     99295.0   89929.0  189224.0\n",
       "2.0     12709.0   11864.0   24573.0\n",
       "Total  295300.0  272440.0  581520.0"
      ]
     },
     "execution_count": 85,
     "metadata": {},
     "output_type": "execute_result"
    }
   ],
   "source": [
    "cont=cs.copy()\n",
    "tx=df_fusionne[X].value_counts()\n",
    "ty=df_fusionne[Y].value_counts()\n",
    "\n",
    "cont.loc[:,\"Total\"]=tx\n",
    "cont.loc[\"Total\",:]=ty\n",
    "cont.loc[\"Total\",\"Total\"]=len(df_fusionne)\n",
    "cont"
   ]
  },
  {
   "cell_type": "code",
   "execution_count": 86,
   "id": "bf9b90dd",
   "metadata": {},
   "outputs": [
    {
     "data": {
      "text/plain": [
       "(106.53631030061733, 6, 1.0817869026152934e-20)"
      ]
     },
     "execution_count": 86,
     "metadata": {},
     "output_type": "execute_result"
    }
   ],
   "source": [
    "chi2, pvalue, degrees, expected = stats.chi2_contingency(cont)\n",
    "chi2, degrees, pvalue"
   ]
  },
  {
   "cell_type": "markdown",
   "id": "c85c149b",
   "metadata": {},
   "source": [
    "#### Notre p-value < 0.05 (alpha = 5%), on rejete H0 et on peut alors conclure que les variables genre et catégorie de produits sont dépendantes.\n"
   ]
  },
  {
   "cell_type": "markdown",
   "id": "6209ffcb",
   "metadata": {},
   "source": [
    "### 6.1.3) Heatmap"
   ]
  },
  {
   "cell_type": "markdown",
   "id": "ad058de4",
   "metadata": {},
   "source": [
    "- Achats par catégorie selon le genre"
   ]
  },
  {
   "cell_type": "code",
   "execution_count": 87,
   "id": "04ce0f18",
   "metadata": {},
   "outputs": [
    {
     "data": {
      "text/html": [
       "<div>\n",
       "<style scoped>\n",
       "    .dataframe tbody tr th:only-of-type {\n",
       "        vertical-align: middle;\n",
       "    }\n",
       "\n",
       "    .dataframe tbody tr th {\n",
       "        vertical-align: top;\n",
       "    }\n",
       "\n",
       "    .dataframe thead th {\n",
       "        text-align: right;\n",
       "    }\n",
       "</style>\n",
       "<table border=\"1\" class=\"dataframe\">\n",
       "  <thead>\n",
       "    <tr style=\"text-align: right;\">\n",
       "      <th>sex</th>\n",
       "      <th>f</th>\n",
       "      <th>m</th>\n",
       "    </tr>\n",
       "    <tr>\n",
       "      <th>categ</th>\n",
       "      <th></th>\n",
       "      <th></th>\n",
       "    </tr>\n",
       "  </thead>\n",
       "  <tbody>\n",
       "    <tr>\n",
       "      <th>0.0</th>\n",
       "      <td>183296</td>\n",
       "      <td>170647</td>\n",
       "    </tr>\n",
       "    <tr>\n",
       "      <th>1.0</th>\n",
       "      <td>99295</td>\n",
       "      <td>89929</td>\n",
       "    </tr>\n",
       "    <tr>\n",
       "      <th>2.0</th>\n",
       "      <td>12709</td>\n",
       "      <td>11864</td>\n",
       "    </tr>\n",
       "  </tbody>\n",
       "</table>\n",
       "</div>"
      ],
      "text/plain": [
       "sex         f       m\n",
       "categ                \n",
       "0.0    183296  170647\n",
       "1.0     99295   89929\n",
       "2.0     12709   11864"
      ]
     },
     "execution_count": 87,
     "metadata": {},
     "output_type": "execute_result"
    }
   ],
   "source": [
    "#Corrélation sexe des clients / catégorie de produits achetés\n",
    "\n",
    "#qualitatif/ qualitatif\n",
    "\n",
    "# Tableau de contingence réel\n",
    "df_fusionne.categ=df_fusionne.categ.astype(\"float64\")\n",
    "\n",
    "X=\"categ\"\n",
    "Y=\"sex\"\n",
    "cs=df_fusionne[[X,Y]].pivot_table(index=X, columns=Y, aggfunc=len)\n",
    "cs.head()"
   ]
  },
  {
   "cell_type": "code",
   "execution_count": 88,
   "id": "1e1e50f9",
   "metadata": {},
   "outputs": [
    {
     "data": {
      "text/html": [
       "<div>\n",
       "<style scoped>\n",
       "    .dataframe tbody tr th:only-of-type {\n",
       "        vertical-align: middle;\n",
       "    }\n",
       "\n",
       "    .dataframe tbody tr th {\n",
       "        vertical-align: top;\n",
       "    }\n",
       "\n",
       "    .dataframe thead th {\n",
       "        text-align: right;\n",
       "    }\n",
       "</style>\n",
       "<table border=\"1\" class=\"dataframe\">\n",
       "  <thead>\n",
       "    <tr style=\"text-align: right;\">\n",
       "      <th>sex</th>\n",
       "      <th>f</th>\n",
       "      <th>m</th>\n",
       "      <th>Total</th>\n",
       "    </tr>\n",
       "    <tr>\n",
       "      <th>categ</th>\n",
       "      <th></th>\n",
       "      <th></th>\n",
       "      <th></th>\n",
       "    </tr>\n",
       "  </thead>\n",
       "  <tbody>\n",
       "    <tr>\n",
       "      <th>0.0</th>\n",
       "      <td>183296.0</td>\n",
       "      <td>170647.0</td>\n",
       "      <td>353943.0</td>\n",
       "    </tr>\n",
       "    <tr>\n",
       "      <th>1.0</th>\n",
       "      <td>99295.0</td>\n",
       "      <td>89929.0</td>\n",
       "      <td>189224.0</td>\n",
       "    </tr>\n",
       "    <tr>\n",
       "      <th>2.0</th>\n",
       "      <td>12709.0</td>\n",
       "      <td>11864.0</td>\n",
       "      <td>24573.0</td>\n",
       "    </tr>\n",
       "    <tr>\n",
       "      <th>total</th>\n",
       "      <td>295300.0</td>\n",
       "      <td>272440.0</td>\n",
       "      <td>581520.0</td>\n",
       "    </tr>\n",
       "  </tbody>\n",
       "</table>\n",
       "</div>"
      ],
      "text/plain": [
       "sex           f         m     Total\n",
       "categ                              \n",
       "0.0    183296.0  170647.0  353943.0\n",
       "1.0     99295.0   89929.0  189224.0\n",
       "2.0     12709.0   11864.0   24573.0\n",
       "total  295300.0  272440.0  581520.0"
      ]
     },
     "execution_count": 88,
     "metadata": {},
     "output_type": "execute_result"
    }
   ],
   "source": [
    "cont=cs.copy()\n",
    "tx=df_fusionne[X].value_counts()\n",
    "ty=df_fusionne[Y].value_counts()\n",
    "\n",
    "cont.loc[:,\"Total\"]=tx\n",
    "cont.loc[\"total\",:]=ty\n",
    "cont.loc[\"total\",\"Total\"]=len(df_fusionne)\n",
    "cont"
   ]
  },
  {
   "cell_type": "code",
   "execution_count": 89,
   "id": "5344efdc",
   "metadata": {},
   "outputs": [
    {
     "data": {
      "text/html": [
       "<div>\n",
       "<style scoped>\n",
       "    .dataframe tbody tr th:only-of-type {\n",
       "        vertical-align: middle;\n",
       "    }\n",
       "\n",
       "    .dataframe tbody tr th {\n",
       "        vertical-align: top;\n",
       "    }\n",
       "\n",
       "    .dataframe thead th {\n",
       "        text-align: right;\n",
       "    }\n",
       "</style>\n",
       "<table border=\"1\" class=\"dataframe\">\n",
       "  <thead>\n",
       "    <tr style=\"text-align: right;\">\n",
       "      <th></th>\n",
       "      <th>f</th>\n",
       "      <th>m</th>\n",
       "    </tr>\n",
       "  </thead>\n",
       "  <tbody>\n",
       "    <tr>\n",
       "      <th>0.0</th>\n",
       "      <td>179734.777652</td>\n",
       "      <td>165821.005159</td>\n",
       "    </tr>\n",
       "    <tr>\n",
       "      <th>1.0</th>\n",
       "      <td>96089.295639</td>\n",
       "      <td>88650.754162</td>\n",
       "    </tr>\n",
       "    <tr>\n",
       "      <th>2.0</th>\n",
       "      <td>12478.344511</td>\n",
       "      <td>11512.360916</td>\n",
       "    </tr>\n",
       "  </tbody>\n",
       "</table>\n",
       "</div>"
      ],
      "text/plain": [
       "                 f              m\n",
       "0.0  179734.777652  165821.005159\n",
       "1.0   96089.295639   88650.754162\n",
       "2.0   12478.344511   11512.360916"
      ]
     },
     "execution_count": 89,
     "metadata": {},
     "output_type": "execute_result"
    }
   ],
   "source": [
    "#Tableau de contingence théorique\n",
    "\n",
    "tx = pd.DataFrame(tx)\n",
    "ty = pd.DataFrame(ty)\n",
    "tx.columns= ['foo']\n",
    "ty.columns= ['foo']\n",
    "n = len(df_fusionne)\n",
    "indep = tx.dot(ty.T)/n\n",
    "\n",
    "indep.sort_index(axis=1, inplace=True)\n",
    "indep.sort_index(inplace=True)\n",
    "indep"
   ]
  },
  {
   "cell_type": "markdown",
   "id": "3631edf0",
   "metadata": {},
   "source": [
    "Chaque valeur de chaque case du Heatmap est une mesure de la contribution à la non-indépendance entre la catégorie de produit et le genre, qui prend des valeurs entre 0 et 1. 0 représentant une source d'indépendance, et 1 une source de non-indépendance."
   ]
  },
  {
   "cell_type": "code",
   "execution_count": 90,
   "id": "5267c5a2",
   "metadata": {},
   "outputs": [
    {
     "data": {
      "image/png": "[encoded data removed]",
      "text/plain": [
       "<Figure size 576x576 with 2 Axes>"
      ]
     },
     "metadata": {},
     "output_type": "display_data"
    }
   ],
   "source": [
    "mesure = (cs-indep)**2/indep\n",
    "xi_n = mesure.sum().sum()\n",
    "\n",
    "plt.figure(figsize=(8,8))\n",
    "sns.heatmap(mesure/xi_n, annot=indep - cs)\n",
    "plt.title(\"Corrélation entre la catégorie et le sexe\", fontsize = 'x-large')\n",
    "plt.xlabel(\"Sexe\")\n",
    "plt.ylabel(\"Catégorie\")\n",
    "plt.show()\n"
   ]
  },
  {
   "cell_type": "markdown",
   "id": "222c0ceb",
   "metadata": {},
   "source": [
    "### Avec la heatmap, On constate que:\n",
    "\n",
    "Il y a une incidence moyenne sur la catégorie 0 et 2 (plus forte chez les hommes) et une forte incidence sur la catégorie 1 (plus forte chez les femmes que chez les hommes)\n",
    "\n",
    "La répartition des catégories d'achat entre hommes et femmes est quasi équivalente si on prend les proportions de chacunes des catégories\n",
    "\n",
    " "
   ]
  },
  {
   "cell_type": "markdown",
   "id": "43b81ad0",
   "metadata": {},
   "source": [
    "## 6.2 Corrélation âge des clients et montant total des achats\n"
   ]
  },
  {
   "cell_type": "markdown",
   "id": "f26e3a0c",
   "metadata": {},
   "source": [
    "### Nous avons ici deux variables quantitatives (age et montant), je vais donc les analyser comme ce qui suit :\n",
    "<ul>\n",
    "<li>Visualisation avec nuage de points avec la régression linéaire</li>\n",
    "<li>Test de corrélation (pearson)</li>\n",
    "</ul>"
   ]
  },
  {
   "cell_type": "code",
   "execution_count": 91,
   "id": "7be09132",
   "metadata": {},
   "outputs": [
    {
     "data": {
      "text/html": [
       "<div>\n",
       "<style scoped>\n",
       "    .dataframe tbody tr th:only-of-type {\n",
       "        vertical-align: middle;\n",
       "    }\n",
       "\n",
       "    .dataframe tbody tr th {\n",
       "        vertical-align: top;\n",
       "    }\n",
       "\n",
       "    .dataframe thead th {\n",
       "        text-align: right;\n",
       "    }\n",
       "</style>\n",
       "<table border=\"1\" class=\"dataframe\">\n",
       "  <thead>\n",
       "    <tr style=\"text-align: right;\">\n",
       "      <th></th>\n",
       "      <th>age</th>\n",
       "      <th>count</th>\n",
       "      <th>sum</th>\n",
       "    </tr>\n",
       "  </thead>\n",
       "  <tbody>\n",
       "    <tr>\n",
       "      <th>0</th>\n",
       "      <td>43.0</td>\n",
       "      <td>22980</td>\n",
       "      <td>308805.59</td>\n",
       "    </tr>\n",
       "    <tr>\n",
       "      <th>1</th>\n",
       "      <td>34.0</td>\n",
       "      <td>22855</td>\n",
       "      <td>302162.71</td>\n",
       "    </tr>\n",
       "    <tr>\n",
       "      <th>2</th>\n",
       "      <td>44.0</td>\n",
       "      <td>22756</td>\n",
       "      <td>298795.59</td>\n",
       "    </tr>\n",
       "    <tr>\n",
       "      <th>3</th>\n",
       "      <td>36.0</td>\n",
       "      <td>21604</td>\n",
       "      <td>284467.94</td>\n",
       "    </tr>\n",
       "    <tr>\n",
       "      <th>4</th>\n",
       "      <td>42.0</td>\n",
       "      <td>20127</td>\n",
       "      <td>265688.37</td>\n",
       "    </tr>\n",
       "  </tbody>\n",
       "</table>\n",
       "</div>"
      ],
      "text/plain": [
       "    age  count        sum\n",
       "0  43.0  22980  308805.59\n",
       "1  34.0  22855  302162.71\n",
       "2  44.0  22756  298795.59\n",
       "3  36.0  21604  284467.94\n",
       "4  42.0  20127  265688.37"
      ]
     },
     "execution_count": 91,
     "metadata": {},
     "output_type": "execute_result"
    }
   ],
   "source": [
    "# Créer la dataframe avec âge et somme de CA\n",
    "age_ca = df_fusionne.groupby('age')['price'].agg(['count', 'sum']).sort_values('sum', ascending=False).reset_index()\n",
    "age_ca.head()"
   ]
  },
  {
   "cell_type": "code",
   "execution_count": 92,
   "id": "683c4f8d",
   "metadata": {},
   "outputs": [
    {
     "data": {
      "text/plain": [
       "(18.0, 95.0)"
      ]
     },
     "execution_count": 92,
     "metadata": {},
     "output_type": "execute_result"
    },
    {
     "data": {
      "image/png": "[encoded data removed]",
      "text/plain": [
       "<Figure size 864x432 with 1 Axes>"
      ]
     },
     "metadata": {},
     "output_type": "display_data"
    }
   ],
   "source": [
    "# Visualisation de CA en fonction d'âge des clients\n",
    "plt.figure(figsize=(12, 6))\n",
    "sns.regplot(x='age', y='sum', data = age_ca)\n",
    "plt.scatter(age_ca['age'],age_ca['sum'])\n",
    "plt.ylabel('Montant total des achats')\n",
    "plt.xlabel('Âge des clients')\n",
    "plt.title(\"Montant total des achats par âge des clients\",fontsize= 16, color = 'red')\n",
    "plt.xlim(18,95)"
   ]
  },
  {
   "cell_type": "markdown",
   "id": "bb3a2bce",
   "metadata": {},
   "source": [
    "### Test de corrélation (pearson)\n"
   ]
  },
  {
   "cell_type": "code",
   "execution_count": 93,
   "id": "2baacd6c",
   "metadata": {},
   "outputs": [
    {
     "name": "stdout",
     "output_type": "stream",
     "text": [
      "La covariance est de: -1681571.6897333334\n",
      "Le coefficient de corrélation linéaire est de: -0.8536327525064258\n"
     ]
    }
   ],
   "source": [
    "print('La covariance est de:', np.cov(age_ca['age'], age_ca['sum'],ddof=0)[1,0])\n",
    "print('Le coefficient de corrélation linéaire est de:', stats.pearsonr(age_ca['age'], age_ca['sum'])[0])"
   ]
  },
  {
   "cell_type": "markdown",
   "id": "46346033",
   "metadata": {},
   "source": [
    "#### En utilisant le test de Pearson, j’obtient un coefficient de -0.85. Il représente une forte corrélation entre l’âge des clients et le montant total des achats : Plus un client est âgé et moins le montant total des achats sera élevé. (Visible via la régression linéaire)"
   ]
  },
  {
   "cell_type": "markdown",
   "id": "25d097b5",
   "metadata": {},
   "source": [
    "## 6.3 Correlation age et fréquence d'achats"
   ]
  },
  {
   "cell_type": "markdown",
   "id": "fbc8b159",
   "metadata": {},
   "source": [
    "Pour tester deux variables quantitatives, je utilise:\n",
    "\n",
    "- La Visualisation avec nuage de points avec la régression linéaire\n",
    "\n",
    "- Le Test de corrélation (pearson)"
   ]
  },
  {
   "cell_type": "code",
   "execution_count": 94,
   "id": "1ad30088",
   "metadata": {},
   "outputs": [
    {
     "data": {
      "text/plain": [
       "(18.0, 95.0)"
      ]
     },
     "execution_count": 94,
     "metadata": {},
     "output_type": "execute_result"
    },
    {
     "data": {
      "image/png": "[encoded data removed]",
      "text/plain": [
       "<Figure size 936x432 with 1 Axes>"
      ]
     },
     "metadata": {},
     "output_type": "display_data"
    }
   ],
   "source": [
    "plt.figure(figsize=(13, 6))\n",
    "sns.regplot(x='age', y='count', data = age_ca)\n",
    "plt.ylabel( 'Fréquence d’achat')\n",
    "plt.xlabel('Âge des clients')\n",
    "plt.title(\"Fréquence d’achat par âge des clients\",fontsize= 16, color = 'red')\n",
    "plt.xlim(18,95)"
   ]
  },
  {
   "cell_type": "code",
   "execution_count": 95,
   "id": "5cc25bad",
   "metadata": {},
   "outputs": [
    {
     "name": "stdout",
     "output_type": "stream",
     "text": [
      "La covariance est de: -84361.83999999998\n",
      "Le coefficient de corrélation linéaire est de: -0.5672505905793206\n"
     ]
    }
   ],
   "source": [
    "print('La covariance est de:', np.cov(age_ca['age'], age_ca['count'],ddof=0)[1,0])\n",
    "print('Le coefficient de corrélation linéaire est de:', stats.pearsonr(age_ca['age'], age_ca['count'])[0])"
   ]
  },
  {
   "cell_type": "markdown",
   "id": "f567d135",
   "metadata": {},
   "source": [
    "Pour tester deux variables quantitatives, avec le test de Pearson, j’obtient un coefficient de -0.567. Il représente une corrélation légèrement négative de nos 2 variables (visible aussi par régression linéaire). Quand on regarde le graphique, on peut voir que cette corrélation concerne plutôt les clients à partir de 50 ans."
   ]
  },
  {
   "cell_type": "markdown",
   "id": "642ea16f",
   "metadata": {},
   "source": [
    "## 6.4 Lien entre l’âge des clients et la taille du panier moyen"
   ]
  },
  {
   "cell_type": "markdown",
   "id": "117194e1",
   "metadata": {},
   "source": [
    "### Nous avons ici deux variables quantitatives, je vais donc les analyser comme ce qui suit :\n",
    "<ul>\n",
    "<li>Visualisation avec nuage de points avec la régression linéaire</li>\n",
    "<li>Test de corrélation (pearson)</li>\n",
    "</ul>"
   ]
  },
  {
   "cell_type": "markdown",
   "id": "caf1e0e6",
   "metadata": {},
   "source": [
    "### Calcul de la taille du panier moyen\n"
   ]
  },
  {
   "cell_type": "code",
   "execution_count": 96,
   "id": "36696f4a",
   "metadata": {},
   "outputs": [
    {
     "data": {
      "text/html": [
       "<div>\n",
       "<style scoped>\n",
       "    .dataframe tbody tr th:only-of-type {\n",
       "        vertical-align: middle;\n",
       "    }\n",
       "\n",
       "    .dataframe tbody tr th {\n",
       "        vertical-align: top;\n",
       "    }\n",
       "\n",
       "    .dataframe thead th {\n",
       "        text-align: right;\n",
       "    }\n",
       "</style>\n",
       "<table border=\"1\" class=\"dataframe\">\n",
       "  <thead>\n",
       "    <tr style=\"text-align: right;\">\n",
       "      <th></th>\n",
       "      <th>age</th>\n",
       "      <th>count</th>\n",
       "      <th>sum</th>\n",
       "      <th>panier_moyen</th>\n",
       "    </tr>\n",
       "  </thead>\n",
       "  <tbody>\n",
       "    <tr>\n",
       "      <th>0</th>\n",
       "      <td>43.0</td>\n",
       "      <td>22980</td>\n",
       "      <td>308805.59</td>\n",
       "      <td>13.438015</td>\n",
       "    </tr>\n",
       "    <tr>\n",
       "      <th>1</th>\n",
       "      <td>34.0</td>\n",
       "      <td>22855</td>\n",
       "      <td>302162.71</td>\n",
       "      <td>13.220858</td>\n",
       "    </tr>\n",
       "    <tr>\n",
       "      <th>2</th>\n",
       "      <td>44.0</td>\n",
       "      <td>22756</td>\n",
       "      <td>298795.59</td>\n",
       "      <td>13.130409</td>\n",
       "    </tr>\n",
       "    <tr>\n",
       "      <th>3</th>\n",
       "      <td>36.0</td>\n",
       "      <td>21604</td>\n",
       "      <td>284467.94</td>\n",
       "      <td>13.167374</td>\n",
       "    </tr>\n",
       "    <tr>\n",
       "      <th>4</th>\n",
       "      <td>42.0</td>\n",
       "      <td>20127</td>\n",
       "      <td>265688.37</td>\n",
       "      <td>13.200595</td>\n",
       "    </tr>\n",
       "  </tbody>\n",
       "</table>\n",
       "</div>"
      ],
      "text/plain": [
       "    age  count        sum  panier_moyen\n",
       "0  43.0  22980  308805.59     13.438015\n",
       "1  34.0  22855  302162.71     13.220858\n",
       "2  44.0  22756  298795.59     13.130409\n",
       "3  36.0  21604  284467.94     13.167374\n",
       "4  42.0  20127  265688.37     13.200595"
      ]
     },
     "execution_count": 96,
     "metadata": {},
     "output_type": "execute_result"
    }
   ],
   "source": [
    "age_ca['panier_moyen'] = age_ca['sum']/age_ca['count']\n",
    "age_ca.head()"
   ]
  },
  {
   "cell_type": "code",
   "execution_count": 97,
   "id": "72035c28",
   "metadata": {},
   "outputs": [
    {
     "data": {
      "text/plain": [
       "Text(0.5, 1.0, 'Taille du panier moyen par âge des clients')"
      ]
     },
     "execution_count": 97,
     "metadata": {},
     "output_type": "execute_result"
    },
    {
     "data": {
      "image/png": "[encoded data removed]",
      "text/plain": [
       "<Figure size 936x432 with 1 Axes>"
      ]
     },
     "metadata": {},
     "output_type": "display_data"
    }
   ],
   "source": [
    "plt.figure(figsize=(13, 6))\n",
    "plt.ylim(10,50)\n",
    "plt.scatter(x='age', y='panier_moyen', data = age_ca)\n",
    "plt.ylabel( 'Panier moyen')\n",
    "plt.xlabel('Âge des clients')\n",
    "plt.title(\"Taille du panier moyen par âge des clients\",fontsize= 16, color = 'red')"
   ]
  },
  {
   "cell_type": "code",
   "execution_count": 98,
   "id": "554e97f0",
   "metadata": {},
   "outputs": [
    {
     "name": "stdout",
     "output_type": "stream",
     "text": [
      "La covariance est de: -103.77223695449705\n",
      "Le coefficient de corrélation linéaire est de: -0.5249823540512216\n"
     ]
    }
   ],
   "source": [
    "print('La covariance est de:', np.cov(age_ca['age'], age_ca['panier_moyen'],ddof=0)[1,0])\n",
    "print('Le coefficient de corrélation linéaire est de:', stats.pearsonr(age_ca['age'], age_ca['panier_moyen'])[0])"
   ]
  },
  {
   "cell_type": "markdown",
   "id": "6df21988",
   "metadata": {},
   "source": [
    "Conclusion:\n",
    "Avec le test de Pearson, j’obtiens un coefficient de -0.524. Celà représente une corrélation légèrement négative des 2 variables.\n",
    "On observe sur le graphique que:\n",
    "\n",
    "- Les jeunes de moins de 31 ans ont un panier moyen plus élevé avec un montant assez constant (autour de 40 euros) .\n",
    "- Les clients entre 31-50 ans ont une taille du panier moyen le plus basse avec un montant quasi constant (autour de 13 euros) , même si leur fréquence d’achat est la plus élevée.\n",
    "- Les clients à partir de 50 ans ont une taille de panier moyen à montant quasi constant, mais un peu plus élevé (autour de 17 euros)."
   ]
  },
  {
   "cell_type": "markdown",
   "id": "21eedb1e",
   "metadata": {},
   "source": [
    "## 6.5 Lien entre l’âge des clients et les catégories des livres achetés\n"
   ]
  },
  {
   "cell_type": "markdown",
   "id": "32ba9d27",
   "metadata": {},
   "source": [
    "### Test d'une variable quantitative (âge) et une variable qualitative (catégories), je vais donc effectuer : \n",
    "- Une visualisation via boxplot\n",
    "- Vérification de la possibilité d'utiliser ANOVA \n",
    "- Si c'est le cas, Test ANOVA\n"
   ]
  },
  {
   "cell_type": "markdown",
   "id": "20f3d847",
   "metadata": {},
   "source": [
    "### 6.5.1 Visualisation via boxplot"
   ]
  },
  {
   "cell_type": "code",
   "execution_count": 99,
   "id": "9c17a798",
   "metadata": {},
   "outputs": [
    {
     "data": {
      "text/plain": [
       "<matplotlib.legend.Legend at 0x2490bbb4ca0>"
      ]
     },
     "execution_count": 99,
     "metadata": {},
     "output_type": "execute_result"
    },
    {
     "data": {
      "image/png": "[encoded data removed]",
      "text/plain": [
       "<Figure size 1008x432 with 1 Axes>"
      ]
     },
     "metadata": {},
     "output_type": "display_data"
    }
   ],
   "source": [
    "# Dispersion des âges des clients par catégorie\n",
    "categories = ['catégorie 0', 'catégorie 1', 'catégorie 2']\n",
    "plt.figure(figsize=(14, 6))\n",
    "sns.boxplot(y=\"categ\", x=\"age\", data = df_fusionne, orient='h', hue='categ', palette='Set2')\n",
    "plt.title('Dispersion des âges par catégorie',fontsize= 16, color = 'red')\n",
    "plt.xlabel('Âge')\n",
    "plt.ylabel('Catégorie')\n",
    "plt.legend(loc='lower right', fontsize=10)"
   ]
  },
  {
   "cell_type": "markdown",
   "id": "206534a5",
   "metadata": {},
   "source": [
    "### 6.5.2 Vérification de la possibilité d'utiliser la méthode ANOVA\n"
   ]
  },
  {
   "cell_type": "markdown",
   "id": "62e68639",
   "metadata": {},
   "source": [
    "#### Nous devons vérifier que la variable âge suit la loi normale"
   ]
  },
  {
   "cell_type": "markdown",
   "id": "61d30d59",
   "metadata": {},
   "source": [
    "Avec un risque premier alpha de 5%, on émet les deux hypothèses suivantes:\n",
    "\n",
    "- H0:la variable suit une loi normale\n",
    "- H1:la variable ne suit pas une loi normale"
   ]
  },
  {
   "cell_type": "code",
   "execution_count": 100,
   "id": "6dea7f8c",
   "metadata": {},
   "outputs": [],
   "source": [
    "ca_0 = df_fusionne[df_fusionne['categ'] == 0]['age']\n",
    "ca_1= df_fusionne[df_fusionne['categ'] == 1]['age']\n",
    "ca_2 = df_fusionne[df_fusionne['categ'] == 2]['age']"
   ]
  },
  {
   "cell_type": "code",
   "execution_count": 101,
   "id": "8ab15b0d",
   "metadata": {},
   "outputs": [
    {
     "data": {
      "text/plain": [
       "KstestResult(statistic=1.0, pvalue=0.0)"
      ]
     },
     "execution_count": 101,
     "metadata": {},
     "output_type": "execute_result"
    }
   ],
   "source": [
    "# Test la normalité pour les données de catégorie 0\n",
    "test_stat_0 =kstest(ca_0, 'norm')\n",
    "test_stat_0"
   ]
  },
  {
   "cell_type": "code",
   "execution_count": 102,
   "id": "67b0e804",
   "metadata": {},
   "outputs": [
    {
     "data": {
      "text/plain": [
       "KstestResult(statistic=1.0, pvalue=0.0)"
      ]
     },
     "execution_count": 102,
     "metadata": {},
     "output_type": "execute_result"
    }
   ],
   "source": [
    "# Test la normalité pour les données de catégorie 1\n",
    "test_stat_1 =kstest(ca_1, 'norm')\n",
    "test_stat_1"
   ]
  },
  {
   "cell_type": "code",
   "execution_count": 103,
   "id": "6c0b9334",
   "metadata": {},
   "outputs": [
    {
     "data": {
      "text/plain": [
       "KstestResult(statistic=1.0, pvalue=0.0)"
      ]
     },
     "execution_count": 103,
     "metadata": {},
     "output_type": "execute_result"
    }
   ],
   "source": [
    "# Test la normalité pour les données de catégorie 2\n",
    "test_stat_2 =kstest(ca_2, 'norm')\n",
    "test_stat_2"
   ]
  },
  {
   "cell_type": "markdown",
   "id": "bf20a769",
   "metadata": {},
   "source": [
    "#### La p-value est pour les 3 catégories égale à 0 : On rejette H0 et donc la catégorie âge ne suit pas la loi normale"
   ]
  },
  {
   "cell_type": "markdown",
   "id": "f41c6624",
   "metadata": {},
   "source": [
    "### Conclusion : Comme le test n'est pas possible, nous allons transformer l'âge en une variable catégorie âge, pour pouvoir faire le test entre deux variables qualitatives"
   ]
  },
  {
   "cell_type": "markdown",
   "id": "f70886b6",
   "metadata": {},
   "source": [
    "### 6.5.3 Modification pour avoir deux variables qualitatives"
   ]
  },
  {
   "cell_type": "code",
   "execution_count": 104,
   "id": "df9e03d4",
   "metadata": {},
   "outputs": [],
   "source": [
    "#Création de trois catégories d'âge dans les deux df principaux\n",
    "\n",
    "categ_age = []\n",
    "\n",
    "for row in df_fusionne.age:\n",
    "    if row > 50:\n",
    "        categ_age.append(\">50\")\n",
    "    elif row > 30:\n",
    "        categ_age.append(\"30-50\")\n",
    "    elif row >= 18:\n",
    "        categ_age.append(\"18-29\")\n",
    "    else:\n",
    "        categ_age.append(np.NaN)\n",
    "\n",
    "df_fusionne['categ_age'] = categ_age\n",
    "\n",
    "categ_age_commandes = []\n",
    "\n",
    "for row in df_commandes.age:\n",
    "    if row > 50:\n",
    "        categ_age_commandes.append(\">50\")\n",
    "    elif row > 30:\n",
    "        categ_age_commandes.append(\"30-50\")\n",
    "    elif row >= 18:\n",
    "        categ_age_commandes.append(\"18-29\")\n",
    "    else:\n",
    "        categ_age_commandes.append(np.NaN)\n",
    "\n",
    "df_commandes['categ_age'] = categ_age_commandes"
   ]
  },
  {
   "cell_type": "code",
   "execution_count": 105,
   "id": "30221a37",
   "metadata": {},
   "outputs": [
    {
     "data": {
      "text/html": [
       "<div>\n",
       "<style scoped>\n",
       "    .dataframe tbody tr th:only-of-type {\n",
       "        vertical-align: middle;\n",
       "    }\n",
       "\n",
       "    .dataframe tbody tr th {\n",
       "        vertical-align: top;\n",
       "    }\n",
       "\n",
       "    .dataframe thead th {\n",
       "        text-align: right;\n",
       "    }\n",
       "</style>\n",
       "<table border=\"1\" class=\"dataframe\">\n",
       "  <thead>\n",
       "    <tr style=\"text-align: right;\">\n",
       "      <th></th>\n",
       "      <th>client_id</th>\n",
       "      <th>sex</th>\n",
       "      <th>birth</th>\n",
       "      <th>age</th>\n",
       "      <th>id_prod</th>\n",
       "      <th>price</th>\n",
       "      <th>categ</th>\n",
       "      <th>date</th>\n",
       "      <th>session_id</th>\n",
       "      <th>hour</th>\n",
       "      <th>année</th>\n",
       "      <th>mois</th>\n",
       "      <th>jour</th>\n",
       "      <th>categ_age</th>\n",
       "    </tr>\n",
       "  </thead>\n",
       "  <tbody>\n",
       "    <tr>\n",
       "      <th>0</th>\n",
       "      <td>c_4410</td>\n",
       "      <td>f</td>\n",
       "      <td>1967.0</td>\n",
       "      <td>55.0</td>\n",
       "      <td>1_385</td>\n",
       "      <td>25.99</td>\n",
       "      <td>1.0</td>\n",
       "      <td>2021-03-22</td>\n",
       "      <td>s_9707</td>\n",
       "      <td>01:40:22.782925</td>\n",
       "      <td>2021.0</td>\n",
       "      <td>3.0</td>\n",
       "      <td>22.0</td>\n",
       "      <td>&gt;50</td>\n",
       "    </tr>\n",
       "    <tr>\n",
       "      <th>2</th>\n",
       "      <td>c_4410</td>\n",
       "      <td>f</td>\n",
       "      <td>1967.0</td>\n",
       "      <td>55.0</td>\n",
       "      <td>0_1110</td>\n",
       "      <td>4.71</td>\n",
       "      <td>0.0</td>\n",
       "      <td>2021-11-04</td>\n",
       "      <td>s_114715</td>\n",
       "      <td>16:28:30.169021</td>\n",
       "      <td>2021.0</td>\n",
       "      <td>11.0</td>\n",
       "      <td>4.0</td>\n",
       "      <td>&gt;50</td>\n",
       "    </tr>\n",
       "    <tr>\n",
       "      <th>4</th>\n",
       "      <td>c_4410</td>\n",
       "      <td>f</td>\n",
       "      <td>1967.0</td>\n",
       "      <td>55.0</td>\n",
       "      <td>0_1111</td>\n",
       "      <td>19.99</td>\n",
       "      <td>0.0</td>\n",
       "      <td>2021-03-22</td>\n",
       "      <td>s_9707</td>\n",
       "      <td>01:27:49.480137</td>\n",
       "      <td>2021.0</td>\n",
       "      <td>3.0</td>\n",
       "      <td>22.0</td>\n",
       "      <td>&gt;50</td>\n",
       "    </tr>\n",
       "    <tr>\n",
       "      <th>5</th>\n",
       "      <td>c_4410</td>\n",
       "      <td>f</td>\n",
       "      <td>1967.0</td>\n",
       "      <td>55.0</td>\n",
       "      <td>1_461</td>\n",
       "      <td>12.99</td>\n",
       "      <td>1.0</td>\n",
       "      <td>2021-08-11</td>\n",
       "      <td>s_74236</td>\n",
       "      <td>08:40:47.495793</td>\n",
       "      <td>2021.0</td>\n",
       "      <td>8.0</td>\n",
       "      <td>11.0</td>\n",
       "      <td>&gt;50</td>\n",
       "    </tr>\n",
       "    <tr>\n",
       "      <th>6</th>\n",
       "      <td>c_4410</td>\n",
       "      <td>f</td>\n",
       "      <td>1967.0</td>\n",
       "      <td>55.0</td>\n",
       "      <td>1_461</td>\n",
       "      <td>12.99</td>\n",
       "      <td>1.0</td>\n",
       "      <td>2022-09-11</td>\n",
       "      <td>s_266422</td>\n",
       "      <td>08:40:47.495793</td>\n",
       "      <td>2022.0</td>\n",
       "      <td>9.0</td>\n",
       "      <td>11.0</td>\n",
       "      <td>&gt;50</td>\n",
       "    </tr>\n",
       "    <tr>\n",
       "      <th>...</th>\n",
       "      <td>...</td>\n",
       "      <td>...</td>\n",
       "      <td>...</td>\n",
       "      <td>...</td>\n",
       "      <td>...</td>\n",
       "      <td>...</td>\n",
       "      <td>...</td>\n",
       "      <td>...</td>\n",
       "      <td>...</td>\n",
       "      <td>...</td>\n",
       "      <td>...</td>\n",
       "      <td>...</td>\n",
       "      <td>...</td>\n",
       "      <td>...</td>\n",
       "    </tr>\n",
       "    <tr>\n",
       "      <th>679306</th>\n",
       "      <td>c_84</td>\n",
       "      <td>f</td>\n",
       "      <td>1982.0</td>\n",
       "      <td>40.0</td>\n",
       "      <td>0_1438</td>\n",
       "      <td>9.31</td>\n",
       "      <td>0.0</td>\n",
       "      <td>2022-05-29</td>\n",
       "      <td>s_215697</td>\n",
       "      <td>06:11:50.316631</td>\n",
       "      <td>2022.0</td>\n",
       "      <td>5.0</td>\n",
       "      <td>29.0</td>\n",
       "      <td>30-50</td>\n",
       "    </tr>\n",
       "    <tr>\n",
       "      <th>679307</th>\n",
       "      <td>c_84</td>\n",
       "      <td>f</td>\n",
       "      <td>1982.0</td>\n",
       "      <td>40.0</td>\n",
       "      <td>0_1438</td>\n",
       "      <td>9.31</td>\n",
       "      <td>0.0</td>\n",
       "      <td>2022-03-29</td>\n",
       "      <td>s_186172</td>\n",
       "      <td>06:11:50.316631</td>\n",
       "      <td>2022.0</td>\n",
       "      <td>3.0</td>\n",
       "      <td>29.0</td>\n",
       "      <td>30-50</td>\n",
       "    </tr>\n",
       "    <tr>\n",
       "      <th>679308</th>\n",
       "      <td>c_84</td>\n",
       "      <td>f</td>\n",
       "      <td>1982.0</td>\n",
       "      <td>40.0</td>\n",
       "      <td>1_459</td>\n",
       "      <td>15.99</td>\n",
       "      <td>1.0</td>\n",
       "      <td>2022-12-17</td>\n",
       "      <td>s_313173</td>\n",
       "      <td>00:16:56.629536</td>\n",
       "      <td>2022.0</td>\n",
       "      <td>12.0</td>\n",
       "      <td>17.0</td>\n",
       "      <td>30-50</td>\n",
       "    </tr>\n",
       "    <tr>\n",
       "      <th>679309</th>\n",
       "      <td>c_84</td>\n",
       "      <td>f</td>\n",
       "      <td>1982.0</td>\n",
       "      <td>40.0</td>\n",
       "      <td>1_459</td>\n",
       "      <td>15.99</td>\n",
       "      <td>1.0</td>\n",
       "      <td>2022-02-17</td>\n",
       "      <td>s_166337</td>\n",
       "      <td>00:16:56.629536</td>\n",
       "      <td>2022.0</td>\n",
       "      <td>2.0</td>\n",
       "      <td>17.0</td>\n",
       "      <td>30-50</td>\n",
       "    </tr>\n",
       "    <tr>\n",
       "      <th>679310</th>\n",
       "      <td>c_84</td>\n",
       "      <td>f</td>\n",
       "      <td>1982.0</td>\n",
       "      <td>40.0</td>\n",
       "      <td>1_110</td>\n",
       "      <td>54.90</td>\n",
       "      <td>1.0</td>\n",
       "      <td>2021-09-13</td>\n",
       "      <td>s_89478</td>\n",
       "      <td>21:39:46.845376</td>\n",
       "      <td>2021.0</td>\n",
       "      <td>9.0</td>\n",
       "      <td>13.0</td>\n",
       "      <td>30-50</td>\n",
       "    </tr>\n",
       "  </tbody>\n",
       "</table>\n",
       "<p>581520 rows × 14 columns</p>\n",
       "</div>"
      ],
      "text/plain": [
       "       client_id sex   birth   age id_prod  price  categ       date  \\\n",
       "0         c_4410   f  1967.0  55.0   1_385  25.99    1.0 2021-03-22   \n",
       "2         c_4410   f  1967.0  55.0  0_1110   4.71    0.0 2021-11-04   \n",
       "4         c_4410   f  1967.0  55.0  0_1111  19.99    0.0 2021-03-22   \n",
       "5         c_4410   f  1967.0  55.0   1_461  12.99    1.0 2021-08-11   \n",
       "6         c_4410   f  1967.0  55.0   1_461  12.99    1.0 2022-09-11   \n",
       "...          ...  ..     ...   ...     ...    ...    ...        ...   \n",
       "679306      c_84   f  1982.0  40.0  0_1438   9.31    0.0 2022-05-29   \n",
       "679307      c_84   f  1982.0  40.0  0_1438   9.31    0.0 2022-03-29   \n",
       "679308      c_84   f  1982.0  40.0   1_459  15.99    1.0 2022-12-17   \n",
       "679309      c_84   f  1982.0  40.0   1_459  15.99    1.0 2022-02-17   \n",
       "679310      c_84   f  1982.0  40.0   1_110  54.90    1.0 2021-09-13   \n",
       "\n",
       "       session_id             hour   année  mois  jour categ_age  \n",
       "0          s_9707  01:40:22.782925  2021.0   3.0  22.0       >50  \n",
       "2        s_114715  16:28:30.169021  2021.0  11.0   4.0       >50  \n",
       "4          s_9707  01:27:49.480137  2021.0   3.0  22.0       >50  \n",
       "5         s_74236  08:40:47.495793  2021.0   8.0  11.0       >50  \n",
       "6        s_266422  08:40:47.495793  2022.0   9.0  11.0       >50  \n",
       "...           ...              ...     ...   ...   ...       ...  \n",
       "679306   s_215697  06:11:50.316631  2022.0   5.0  29.0     30-50  \n",
       "679307   s_186172  06:11:50.316631  2022.0   3.0  29.0     30-50  \n",
       "679308   s_313173  00:16:56.629536  2022.0  12.0  17.0     30-50  \n",
       "679309   s_166337  00:16:56.629536  2022.0   2.0  17.0     30-50  \n",
       "679310    s_89478  21:39:46.845376  2021.0   9.0  13.0     30-50  \n",
       "\n",
       "[581520 rows x 14 columns]"
      ]
     },
     "execution_count": 105,
     "metadata": {},
     "output_type": "execute_result"
    }
   ],
   "source": [
    "df_fusionne"
   ]
  },
  {
   "cell_type": "markdown",
   "id": "893a7a00",
   "metadata": {},
   "source": [
    "## 6.5.4 Analyse de deux données qualitatives \n",
    "\n",
    "- Tableau de contingence\n",
    "- khi-deux\n",
    "- Heatmap"
   ]
  },
  {
   "cell_type": "markdown",
   "id": "15642598",
   "metadata": {},
   "source": [
    "### Tableau de contingence\n"
   ]
  },
  {
   "cell_type": "code",
   "execution_count": 106,
   "id": "d7a67b7a",
   "metadata": {},
   "outputs": [
    {
     "data": {
      "text/html": [
       "<div>\n",
       "<style scoped>\n",
       "    .dataframe tbody tr th:only-of-type {\n",
       "        vertical-align: middle;\n",
       "    }\n",
       "\n",
       "    .dataframe tbody tr th {\n",
       "        vertical-align: top;\n",
       "    }\n",
       "\n",
       "    .dataframe thead th {\n",
       "        text-align: right;\n",
       "    }\n",
       "</style>\n",
       "<table border=\"1\" class=\"dataframe\">\n",
       "  <thead>\n",
       "    <tr style=\"text-align: right;\">\n",
       "      <th>categ</th>\n",
       "      <th>0.0</th>\n",
       "      <th>1.0</th>\n",
       "      <th>2.0</th>\n",
       "      <th>Total</th>\n",
       "    </tr>\n",
       "    <tr>\n",
       "      <th>categ_age</th>\n",
       "      <th></th>\n",
       "      <th></th>\n",
       "      <th></th>\n",
       "      <th></th>\n",
       "    </tr>\n",
       "  </thead>\n",
       "  <tbody>\n",
       "    <tr>\n",
       "      <th>18-29</th>\n",
       "      <td>12255</td>\n",
       "      <td>20435</td>\n",
       "      <td>21839</td>\n",
       "      <td>54529</td>\n",
       "    </tr>\n",
       "    <tr>\n",
       "      <th>30-50</th>\n",
       "      <td>275902</td>\n",
       "      <td>84962</td>\n",
       "      <td>1353</td>\n",
       "      <td>362217</td>\n",
       "    </tr>\n",
       "    <tr>\n",
       "      <th>&gt;50</th>\n",
       "      <td>65786</td>\n",
       "      <td>83827</td>\n",
       "      <td>1381</td>\n",
       "      <td>150994</td>\n",
       "    </tr>\n",
       "    <tr>\n",
       "      <th>Total</th>\n",
       "      <td>353943</td>\n",
       "      <td>189224</td>\n",
       "      <td>24573</td>\n",
       "      <td>567740</td>\n",
       "    </tr>\n",
       "  </tbody>\n",
       "</table>\n",
       "</div>"
      ],
      "text/plain": [
       "categ         0.0     1.0    2.0   Total\n",
       "categ_age                               \n",
       "18-29       12255   20435  21839   54529\n",
       "30-50      275902   84962   1353  362217\n",
       ">50         65786   83827   1381  150994\n",
       "Total      353943  189224  24573  567740"
      ]
     },
     "execution_count": 106,
     "metadata": {},
     "output_type": "execute_result"
    }
   ],
   "source": [
    "x = 'categ_age'\n",
    "y = 'categ'\n",
    "cont_age = df_fusionne[[x, y]].pivot_table(index=x, columns=y,aggfunc=len, margins=True, margins_name='Total' )\n",
    "cont_age"
   ]
  },
  {
   "cell_type": "markdown",
   "id": "2a868871",
   "metadata": {},
   "source": [
    "### Test de Khi2\n",
    "Avec un risque premier alpha de 5%, on émet les deux hypothèses suivantes:\n",
    "- H0: Les deux variables (les tranches d'âge des clients et les catégories des livres achetés ) sont indépendantes\n",
    "- H1: les deux variables ne sont pas indépendantes"
   ]
  },
  {
   "cell_type": "code",
   "execution_count": 107,
   "id": "c6509531",
   "metadata": {},
   "outputs": [
    {
     "data": {
      "text/plain": [
       "(244644.5397055377, 9, 0.0)"
      ]
     },
     "execution_count": 107,
     "metadata": {},
     "output_type": "execute_result"
    }
   ],
   "source": [
    "chi2, pvalue, degrees, expected = stats.chi2_contingency(cont_age)\n",
    "chi2, degrees, pvalue"
   ]
  },
  {
   "cell_type": "markdown",
   "id": "0dfe80bf",
   "metadata": {},
   "source": [
    "#### p-value = 0 < 0,05 : On rejette H0 et on conclut que les deux variables ne sont pas indépendantes"
   ]
  },
  {
   "cell_type": "markdown",
   "id": "ed19724a",
   "metadata": {},
   "source": [
    "### Heatmap"
   ]
  },
  {
   "cell_type": "code",
   "execution_count": 108,
   "id": "9020c65a",
   "metadata": {},
   "outputs": [
    {
     "data": {
      "text/html": [
       "<div>\n",
       "<style scoped>\n",
       "    .dataframe tbody tr th:only-of-type {\n",
       "        vertical-align: middle;\n",
       "    }\n",
       "\n",
       "    .dataframe tbody tr th {\n",
       "        vertical-align: top;\n",
       "    }\n",
       "\n",
       "    .dataframe thead th {\n",
       "        text-align: right;\n",
       "    }\n",
       "</style>\n",
       "<table border=\"1\" class=\"dataframe\">\n",
       "  <thead>\n",
       "    <tr style=\"text-align: right;\">\n",
       "      <th>categ_age</th>\n",
       "      <th>18-29</th>\n",
       "      <th>30-50</th>\n",
       "      <th>&gt;50</th>\n",
       "    </tr>\n",
       "    <tr>\n",
       "      <th>categ</th>\n",
       "      <th></th>\n",
       "      <th></th>\n",
       "      <th></th>\n",
       "    </tr>\n",
       "  </thead>\n",
       "  <tbody>\n",
       "    <tr>\n",
       "      <th>0.0</th>\n",
       "      <td>12255</td>\n",
       "      <td>275902</td>\n",
       "      <td>65786</td>\n",
       "    </tr>\n",
       "    <tr>\n",
       "      <th>1.0</th>\n",
       "      <td>20435</td>\n",
       "      <td>84962</td>\n",
       "      <td>83827</td>\n",
       "    </tr>\n",
       "    <tr>\n",
       "      <th>2.0</th>\n",
       "      <td>21839</td>\n",
       "      <td>1353</td>\n",
       "      <td>1381</td>\n",
       "    </tr>\n",
       "  </tbody>\n",
       "</table>\n",
       "</div>"
      ],
      "text/plain": [
       "categ_age  18-29   30-50    >50\n",
       "categ                          \n",
       "0.0        12255  275902  65786\n",
       "1.0        20435   84962  83827\n",
       "2.0        21839    1353   1381"
      ]
     },
     "execution_count": 108,
     "metadata": {},
     "output_type": "execute_result"
    }
   ],
   "source": [
    "# Réalisation d'une heatmap\n",
    "\n",
    "# Tableau de contingence réel\n",
    "df_fusionne.categ_age = df_fusionne.categ_age.astype(\"str\")\n",
    "\n",
    "X = \"categ\"\n",
    "Y =\"categ_age\"\n",
    "d = df_fusionne[[X,Y]].pivot_table(index=X, columns=Y, aggfunc=len)\n",
    "d.head(3)"
   ]
  },
  {
   "cell_type": "code",
   "execution_count": 109,
   "id": "3fd11d0a",
   "metadata": {},
   "outputs": [
    {
     "data": {
      "text/html": [
       "<div>\n",
       "<style scoped>\n",
       "    .dataframe tbody tr th:only-of-type {\n",
       "        vertical-align: middle;\n",
       "    }\n",
       "\n",
       "    .dataframe tbody tr th {\n",
       "        vertical-align: top;\n",
       "    }\n",
       "\n",
       "    .dataframe thead th {\n",
       "        text-align: right;\n",
       "    }\n",
       "</style>\n",
       "<table border=\"1\" class=\"dataframe\">\n",
       "  <thead>\n",
       "    <tr style=\"text-align: right;\">\n",
       "      <th>categ_age</th>\n",
       "      <th>18-29</th>\n",
       "      <th>30-50</th>\n",
       "      <th>&gt;50</th>\n",
       "      <th>Total</th>\n",
       "    </tr>\n",
       "    <tr>\n",
       "      <th>categ</th>\n",
       "      <th></th>\n",
       "      <th></th>\n",
       "      <th></th>\n",
       "      <th></th>\n",
       "    </tr>\n",
       "  </thead>\n",
       "  <tbody>\n",
       "    <tr>\n",
       "      <th>0.0</th>\n",
       "      <td>12255.0</td>\n",
       "      <td>275902.0</td>\n",
       "      <td>65786.0</td>\n",
       "      <td>353943.0</td>\n",
       "    </tr>\n",
       "    <tr>\n",
       "      <th>1.0</th>\n",
       "      <td>20435.0</td>\n",
       "      <td>84962.0</td>\n",
       "      <td>83827.0</td>\n",
       "      <td>189224.0</td>\n",
       "    </tr>\n",
       "    <tr>\n",
       "      <th>2.0</th>\n",
       "      <td>21839.0</td>\n",
       "      <td>1353.0</td>\n",
       "      <td>1381.0</td>\n",
       "      <td>24573.0</td>\n",
       "    </tr>\n",
       "    <tr>\n",
       "      <th>total</th>\n",
       "      <td>54529.0</td>\n",
       "      <td>362217.0</td>\n",
       "      <td>150994.0</td>\n",
       "      <td>581520.0</td>\n",
       "    </tr>\n",
       "  </tbody>\n",
       "</table>\n",
       "</div>"
      ],
      "text/plain": [
       "categ_age    18-29     30-50       >50     Total\n",
       "categ                                           \n",
       "0.0        12255.0  275902.0   65786.0  353943.0\n",
       "1.0        20435.0   84962.0   83827.0  189224.0\n",
       "2.0        21839.0    1353.0    1381.0   24573.0\n",
       "total      54529.0  362217.0  150994.0  581520.0"
      ]
     },
     "execution_count": 109,
     "metadata": {},
     "output_type": "execute_result"
    }
   ],
   "source": [
    "cont=d.copy()\n",
    "tx=df_fusionne[X].value_counts()\n",
    "ty=df_fusionne[Y].value_counts()\n",
    "\n",
    "cont.loc[:,\"Total\"]=tx\n",
    "cont.loc[\"total\",:]=ty\n",
    "cont.loc[\"total\",\"Total\"]=len(df_fusionne)\n",
    "\n",
    "cont"
   ]
  },
  {
   "cell_type": "code",
   "execution_count": 110,
   "id": "056c5231",
   "metadata": {},
   "outputs": [
    {
     "data": {
      "image/png": "[encoded data removed]",
      "text/plain": [
       "<Figure size 576x576 with 2 Axes>"
      ]
     },
     "metadata": {},
     "output_type": "display_data"
    }
   ],
   "source": [
    "# Tableau de contingence théorique\n",
    "\n",
    "tx = pd.DataFrame(tx)\n",
    "ty = pd.DataFrame(ty)\n",
    "tx.columns= ['foo']\n",
    "ty.columns= ['foo']\n",
    "n = len(df_fusionne)\n",
    "indep = tx.dot(ty.T)/n\n",
    "\n",
    "indep.sort_index(axis=1, inplace=True)\n",
    "indep.sort_index(inplace=True)\n",
    "indep.drop(columns=\"nan\", inplace=True)\n",
    "\n",
    "mesure = (d-indep)**2/indep\n",
    "xi_n = mesure.sum().sum()\n",
    "\n",
    "plt.figure(figsize=(8,8))\n",
    "sns.heatmap(mesure/xi_n, annot=indep - d)\n",
    "plt.title(\"Corrélation entre la catégorie d'âge et la catégorie.\", fontsize = 'x-large')\n",
    "plt.xlabel(\"Catégorie d'âge\")\n",
    "plt.ylabel(\"Catégorie de produit\")\n",
    "plt.show()"
   ]
  },
  {
   "cell_type": "markdown",
   "id": "74ef8d56",
   "metadata": {},
   "source": [
    "Conclusion:\n",
    "\n",
    "- Avec le heatmap, on trouve qu'il y a une forte corrélation entre les personnes âgés de moins de 25 ans et la catégorie 2 de produits: la catégorie 2 est la préférée des jeunes. Il serait donc opportun de cibler cette catégorie d'âge lors des campagne de publicité concernant les produits de la catégorie 2."
   ]
  }
 ],
 "metadata": {
  "kernelspec": {
   "display_name": "Python 3 (ipykernel)",
   "language": "python",
   "name": "python3"
  },
  "language_info": {
   "codemirror_mode": {
    "name": "ipython",
    "version": 3
   },
   "file_extension": ".py",
   "mimetype": "text/x-python",
   "name": "python",
   "nbconvert_exporter": "python",
   "pygments_lexer": "ipython3",
   "version": "3.9.12"
  }
 },
 "nbformat": 4,
 "nbformat_minor": 5
}
